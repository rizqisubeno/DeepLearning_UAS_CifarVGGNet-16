{
  "cells": [
    {
      "cell_type": "code",
      "execution_count": null,
      "metadata": {
        "colab": {
          "base_uri": "https://localhost:8080/"
        },
        "id": "g9xE7iOJHF0i",
        "outputId": "42a6a89f-9ef6-48b0-fe40-703dd01ac08e"
      },
      "outputs": [
        {
          "name": "stdout",
          "output_type": "stream",
          "text": [
            "Collecting lion_pytorch\n",
            "  Downloading lion_pytorch-0.1.2-py3-none-any.whl (4.4 kB)\n",
            "Requirement already satisfied: torch>=1.6 in /usr/local/lib/python3.10/dist-packages (from lion_pytorch) (2.0.1+cu118)\n",
            "Requirement already satisfied: filelock in /usr/local/lib/python3.10/dist-packages (from torch>=1.6->lion_pytorch) (3.12.2)\n",
            "Requirement already satisfied: typing-extensions in /usr/local/lib/python3.10/dist-packages (from torch>=1.6->lion_pytorch) (4.6.3)\n",
            "Requirement already satisfied: sympy in /usr/local/lib/python3.10/dist-packages (from torch>=1.6->lion_pytorch) (1.11.1)\n",
            "Requirement already satisfied: networkx in /usr/local/lib/python3.10/dist-packages (from torch>=1.6->lion_pytorch) (3.1)\n",
            "Requirement already satisfied: jinja2 in /usr/local/lib/python3.10/dist-packages (from torch>=1.6->lion_pytorch) (3.1.2)\n",
            "Requirement already satisfied: triton==2.0.0 in /usr/local/lib/python3.10/dist-packages (from torch>=1.6->lion_pytorch) (2.0.0)\n",
            "Requirement already satisfied: cmake in /usr/local/lib/python3.10/dist-packages (from triton==2.0.0->torch>=1.6->lion_pytorch) (3.25.2)\n",
            "Requirement already satisfied: lit in /usr/local/lib/python3.10/dist-packages (from triton==2.0.0->torch>=1.6->lion_pytorch) (16.0.6)\n",
            "Requirement already satisfied: MarkupSafe>=2.0 in /usr/local/lib/python3.10/dist-packages (from jinja2->torch>=1.6->lion_pytorch) (2.1.3)\n",
            "Requirement already satisfied: mpmath>=0.19 in /usr/local/lib/python3.10/dist-packages (from sympy->torch>=1.6->lion_pytorch) (1.3.0)\n",
            "Installing collected packages: lion_pytorch\n",
            "Successfully installed lion_pytorch-0.1.2\n"
          ]
        }
      ],
      "source": [
        "!pip install lion_pytorch"
      ]
    },
    {
      "attachments": {},
      "cell_type": "markdown",
      "metadata": {
        "id": "alRaCPSBGl_X"
      },
      "source": [
        "## ModifiedVGGNet-16 : with EvoLved Sign Momentum (LION) or AGD for improving Image Classification Process"
      ]
    },
    {
      "cell_type": "code",
      "execution_count": null,
      "metadata": {
        "id": "MIsyxvA0Gl_c"
      },
      "outputs": [],
      "source": [
        "import os\n",
        "import pickle\n",
        "from pathlib import Path\n",
        "import tarfile\n",
        "\n",
        "from tqdm import tqdm\n",
        "import numpy as np\n",
        "import matplotlib.pyplot as plt\n",
        "import torch\n",
        "import torch.nn as nn\n",
        "from torch.optim.optimizer import Optimizer\n",
        "import torch.optim as optim\n",
        "import torchvision\n",
        "from torch.utils import data\n",
        "from  torch.nn.init import orthogonal_\n",
        "from torchvision import transforms\n",
        "from PIL import Image\n",
        "from lion_pytorch import Lion"
      ]
    },
    {
      "attachments": {},
      "cell_type": "markdown",
      "metadata": {
        "id": "g8VPyweDGl_e"
      },
      "source": [
        "#### Extract Cifar-10 Dataset"
      ]
    },
    {
      "cell_type": "code",
      "execution_count": null,
      "metadata": {
        "id": "8CvL1NE8Gl_f"
      },
      "outputs": [],
      "source": [
        "def extract_dataset(archive_path, extract_path):\n",
        "      tarfile.open(name=archive_path, mode='r:gz').extractall(extract_path)"
      ]
    },
    {
      "cell_type": "code",
      "execution_count": null,
      "metadata": {
        "colab": {
          "base_uri": "https://localhost:8080/"
        },
        "id": "zQ_tct2uGl_g",
        "outputId": "082808a1-7f97-4f1a-8428-47a2e9e64387"
      },
      "outputs": [
        {
          "name": "stdout",
          "output_type": "stream",
          "text": [
            "--2023-06-28 13:47:53--  https://www.cs.toronto.edu/~kriz/cifar-10-python.tar.gz\n",
            "Resolving www.cs.toronto.edu (www.cs.toronto.edu)... 128.100.3.30\n",
            "Connecting to www.cs.toronto.edu (www.cs.toronto.edu)|128.100.3.30|:443... connected.\n",
            "HTTP request sent, awaiting response... 200 OK\n",
            "Length: 170498071 (163M) [application/x-gzip]\n",
            "Saving to: ‘cifar-10-python.tar.gz’\n",
            "\n",
            "cifar-10-python.tar 100%[===================>] 162.60M  31.9MB/s    in 5.7s    \n",
            "\n",
            "2023-06-28 13:47:59 (28.5 MB/s) - ‘cifar-10-python.tar.gz’ saved [170498071/170498071]\n",
            "\n"
          ]
        }
      ],
      "source": [
        "file_path = \"./cifar-10-python.tar.gz\"\n",
        "extract_path = \"./dataset/\"\n",
        "\n",
        "if not os.path.exists(extract_path):\n",
        "      os.mkdir(extract_path)\n",
        "\n",
        "if not os.path.isfile(file_path):\n",
        "      !wget https://www.cs.toronto.edu/~kriz/cifar-10-python.tar.gz\n",
        "\n",
        "if not os.path.exists(extract_path + \"cifar-10-batches-py/\"):\n",
        "      extract_dataset(file_path, extract_path)"
      ]
    },
    {
      "attachments": {},
      "cell_type": "markdown",
      "metadata": {
        "id": "YhQDTTKXGl_g"
      },
      "source": [
        "#### Read dataset"
      ]
    },
    {
      "cell_type": "code",
      "execution_count": null,
      "metadata": {
        "id": "TU3llHdfGl_g"
      },
      "outputs": [],
      "source": [
        "class CIFARSample:\n",
        "      \"\"\"\n",
        "      One example from the CIFAR-10 dataset.\n",
        "      \"\"\"\n",
        "      label_to_str = {0: 'airplane', 1: 'automobile', 2: 'bird', 3: 'cat', 4: 'deer',\n",
        "                    5: 'dog', 6: 'frog', 7: 'horse', 8: 'ship', 9: 'truck'}\n",
        "      def __init__(self, image, label, filename):\n",
        "            self.image = image\n",
        "            self.label = label\n",
        "            self.filename = filename\n",
        "\n",
        "      @property\n",
        "      def label_hr(self):\n",
        "            # Human readable label\n",
        "            return self.label_to_str[self.label]\n",
        "            # Mappings from numeric to human readable labels (and the other way around)\n",
        "\n",
        "      def __str__(self):\n",
        "            return f'[{self.label_hr}] - {self.filename}'"
      ]
    },
    {
      "cell_type": "code",
      "execution_count": null,
      "metadata": {
        "id": "8Mlbxw0UGl_h"
      },
      "outputs": [],
      "source": [
        "def unpickle_data_batch(samples, batch_file, split):\n",
        "        # Read pickle file\n",
        "        with open(batch_file, 'rb') as f:\n",
        "            data = pickle.load(f, encoding='bytes')\n",
        "\n",
        "        # Handle the fact that train set is split into five batch files\n",
        "        samples_start_idx = 0\n",
        "        if split == 'train':\n",
        "            batch_num = int(batch_file.name[-1])\n",
        "            samples_start_idx = int(10000 * (batch_num - 1))\n",
        "\n",
        "        # Each pickle batch file contains 10000 examples\n",
        "        for i in range(10000):\n",
        "            idx = samples_start_idx + i\n",
        "            sample = CIFARSample(image=data[b'data'][i].reshape(3, 32, 32).transpose(1, 2, 0),\n",
        "                                 label=data[b'labels'][i],\n",
        "                                 filename=data[b'filenames'][i].decode())\n",
        "            samples[split][idx] = sample"
      ]
    },
    {
      "cell_type": "code",
      "execution_count": null,
      "metadata": {
        "id": "GrqmscxLGl_h"
      },
      "outputs": [],
      "source": [
        "samples = {\n",
        "      'train': np.ndarray(shape=(50000,), dtype=CIFARSample),\n",
        "      'test': np.ndarray(shape=(10000,), dtype=CIFARSample),\n",
        "}\n",
        "\n",
        "# Unpickle the five train batches\n",
        "path_dataset = \"./dataset/cifar-10-batches-py/\"\n",
        "dataset_root = Path(path_dataset)\n",
        "for batch_f in dataset_root.glob('data_batch*'):\n",
        "      unpickle_data_batch(samples, batch_f, split='train')\n",
        "\n",
        "# Unpickle the only test batch\n",
        "unpickle_data_batch(samples, dataset_root / 'test_batch', split='test')"
      ]
    },
    {
      "attachments": {},
      "cell_type": "markdown",
      "metadata": {
        "id": "JOW3q5c2Gl_i"
      },
      "source": [
        "#### Read dataset mean & std\n",
        "it is important to have the data preprocessed with a zero mean. Therefore, as a first step, we will calculate the mean and standard deviation of the CIFAR dataset:"
      ]
    },
    {
      "cell_type": "code",
      "execution_count": null,
      "metadata": {
        "colab": {
          "base_uri": "https://localhost:8080/"
        },
        "id": "ValbF5U1Gl_i",
        "outputId": "331f891e-3775-4ae2-c068-dd3d2d30d81e"
      },
      "outputs": [
        {
          "name": "stdout",
          "output_type": "stream",
          "text": [
            "data mean [0.49139968 0.48215841 0.44653091]\n",
            "data std [0.24703223 0.24348513 0.26158784]\n"
          ]
        }
      ],
      "source": [
        "train_data_samples = np.asarray([s.image for s in samples[\"train\"]])\n",
        "train_data = np.asarray([s for s in samples[\"train\"]])\n",
        "DATA_MEANS = (train_data_samples / 255.0).mean(axis=(0,1,2))\n",
        "DATA_STD= (train_data_samples / 255.0).std(axis=(0,1,2))\n",
        "print(\"data mean\", DATA_MEANS)\n",
        "print(\"data std\", DATA_STD)\n"
      ]
    },
    {
      "attachments": {},
      "cell_type": "markdown",
      "metadata": {
        "id": "ArYUPpRIGl_j"
      },
      "source": [
        "#### Normalizing Train Data\n",
        "\n",
        "We will use this information to define a transforms.Normalize module which will normalize our data accordingly. Additionally, we will use data augmentation during training. This reduces the risk of overfitting and helps CNNs to generalize better. Specifically, we will apply two random augmentations.\n",
        "\n",
        "First, we will flip each image horizontally by a chance of 50% (transforms.RandomHorizontalFlip). The object class usually does not change when flipping an image, and we don’t expect any image information to be dependent on the horizontal orientation. This would be however different if we would try to detect digits or letters in an image, as those have a certain orientation.\n",
        "\n",
        "The second augmentation we use is called transforms.RandomResizedCrop. This transformation scales the image in a small range, while eventually changing the aspect ratio, and crops it afterward in the previous size. Therefore, the actual pixel values change while the content or overall semantics of the image stays the same.\n",
        "\n",
        "We will randomly split the training dataset into a training and a validation set. The validation set will be used for determining early stopping. After finishing the training, we test the models on the CIFAR test set."
      ]
    },
    {
      "cell_type": "code",
      "execution_count": null,
      "metadata": {
        "id": "wYMvE0F_Gl_k"
      },
      "outputs": [],
      "source": [
        "test_transform = transforms.Compose(\n",
        "    [transforms.ToTensor(),\n",
        "     transforms.Normalize(DATA_MEANS, DATA_STD)])\n",
        "train_transform = transforms.Compose(\n",
        "    [\n",
        "        transforms.RandomHorizontalFlip(),\n",
        "        transforms.RandomResizedCrop((32, 32), scale=(0.8, 1.0), ratio=(0.9, 1.1)),\n",
        "        transforms.ToTensor(),\n",
        "        transforms.Normalize(DATA_MEANS, DATA_STD),\n",
        "    ])\n",
        "# test_transform = transforms.Compose(\n",
        "#     [transforms.ToTensor()])\n",
        "\n",
        "train_dataset = [[train_transform(Image.fromarray(i.image)), i.label]  for i in train_data]\n",
        "test_dataset = [[test_transform(Image.fromarray(i.image)),i.label] for i in samples[\"test\"]]\n",
        "\n",
        "# We define a set of data loaders that we can use for various purposes later.\n",
        "train_loader = data.DataLoader(train_dataset, batch_size=128, shuffle=True, drop_last=True, pin_memory=True, num_workers=4)\n",
        "test_loader = data.DataLoader(test_dataset, batch_size=128, shuffle=False, drop_last=False, num_workers=4)"
      ]
    },
    {
      "attachments": {},
      "cell_type": "markdown",
      "metadata": {
        "id": "_c7vQdg_Gl_k"
      },
      "source": [
        "#### Check Normalize Data\n",
        "To verify that our normalization works, we can print out the mean and standard deviation of the single batch. The mean should be close to 0 and the standard deviation close to 1 for each channel:"
      ]
    },
    {
      "cell_type": "code",
      "execution_count": null,
      "metadata": {
        "colab": {
          "base_uri": "https://localhost:8080/"
        },
        "id": "G8WLmvX7Gl_k",
        "outputId": "a7363fec-beb7-4daa-d28c-560788b50a43"
      },
      "outputs": [
        {
          "name": "stdout",
          "output_type": "stream",
          "text": [
            "Batch mean :  tensor([ 0.0230,  0.0094, -0.0110])\n",
            "Batch std :  tensor([0.9613, 0.9662, 0.9665])\n"
          ]
        }
      ],
      "source": [
        "imgs, _ = next(iter(train_loader))\n",
        "print(\"Batch mean : \", imgs.mean(dim=[0, 2, 3]))\n",
        "print(\"Batch std : \", imgs.std(dim=[0, 2, 3]))"
      ]
    },
    {
      "cell_type": "code",
      "execution_count": null,
      "metadata": {
        "colab": {
          "base_uri": "https://localhost:8080/",
          "height": 255
        },
        "id": "49rYBIruGl_l",
        "outputId": "73347085-8a67-44fc-8b3d-934e7ea43d97"
      },
      "outputs": [
        {
          "data": {
            "image/png": "[encoded data removed]",
            "text/plain": [
              "<Figure size 500x500 with 1 Axes>"
            ]
          },
          "metadata": {},
          "output_type": "display_data"
        }
      ],
      "source": [
        "NUM_IMAGES = 4\n",
        "test_image_list = [Image.fromarray(train_data_samples[idx+5]) for idx in range(NUM_IMAGES)]\n",
        "transform_images1 = [test_transform(img) for img in test_image_list]\n",
        "train_image_list = [Image.fromarray(train_data_samples[idx+5]) for idx in range(NUM_IMAGES)]\n",
        "transform_images2 = [train_transform(img) for img in train_image_list]\n",
        "\n",
        "img_grid = torchvision.utils.make_grid(torch.stack(transform_images1 + transform_images2, dim=0), nrow=4, normalize=True, pad_value=0.5)\n",
        "img_grid = img_grid.permute(1, 2, 0)\n",
        "\n",
        "plt.figure(figsize=(5, 5))\n",
        "plt.title(\"examples on CIFAR10\")\n",
        "plt.imshow(img_grid)\n",
        "plt.axis(\"off\")\n",
        "plt.show()\n",
        "plt.close()\n"
      ]
    },
    {
      "attachments": {},
      "cell_type": "markdown",
      "metadata": {
        "id": "1Hs25LG6Gl_l"
      },
      "source": [
        "#### Automatic Gradient Descent"
      ]
    },
    {
      "cell_type": "code",
      "execution_count": null,
      "metadata": {
        "id": "Q6Jkt_xJGl_l"
      },
      "outputs": [],
      "source": [
        "def singular_value(p):\n",
        "    sv = np.sqrt(p.shape[0] / p.shape[1])\n",
        "    if p.dim() == 4:\n",
        "        sv /= np.sqrt(p.shape[2] * p.shape[3])\n",
        "    return sv\n",
        "\n",
        "class AGD(Optimizer):\n",
        "    @torch.no_grad()\n",
        "    def __init__(\n",
        "            self,\n",
        "            net,\n",
        "            gain: float =1.0):\n",
        "\n",
        "            assert (gain > 0)\n",
        "\n",
        "            self.net = net\n",
        "            self.depth = len(list(net.parameters()))\n",
        "            self.gain = gain\n",
        "\n",
        "            for p in net.parameters():\n",
        "                  if p.dim() == 1: raise Exception(\"Biases are not supported.\")\n",
        "                  if p.dim() == 2: orthogonal_(p)\n",
        "                  if p.dim() == 4:\n",
        "                        for kx in range(p.shape[2]):\n",
        "                              for ky in range(p.shape[3]):\n",
        "                                    orthogonal_(p[:,:,kx,ky])\n",
        "                  p *= singular_value(p)\n",
        "\n",
        "    @torch.no_grad()\n",
        "    def step(self):\n",
        "\n",
        "            G = 0\n",
        "            for p in self.net.parameters():\n",
        "                  G += singular_value(p) * p.grad.norm(dim=(0,1)).sum()\n",
        "            G /= self.depth\n",
        "\n",
        "            log = torch.log(0.5 * (1 + torch.sqrt(1 + 4*G)))\n",
        "\n",
        "            for p in self.net.parameters():\n",
        "                  factor = singular_value(p) / p.grad.norm(dim=(0,1), keepdim=True)\n",
        "                  p -= self.gain * log / self.depth * factor * p.grad\n",
        "\n",
        "            return log"
      ]
    },
    {
      "attachments": {},
      "cell_type": "markdown",
      "metadata": {
        "id": "H9LhUbMfGiEN"
      },
      "source": [
        "#### Try Swish Activation for FCNN Activation"
      ]
    },
    {
      "cell_type": "code",
      "execution_count": null,
      "metadata": {
        "id": "Zs-W2R0eG_Eo"
      },
      "outputs": [],
      "source": [
        "class Swish_func(torch.autograd.Function):\n",
        "    @staticmethod\n",
        "    def forward(ctx, i):\n",
        "        result = i * torch.sigmoid(i)\n",
        "        ctx.save_for_backward(i)\n",
        "        return result\n",
        "\n",
        "    @staticmethod\n",
        "    def backward(ctx, grad_output):\n",
        "        i = ctx.saved_tensors[0]\n",
        "        sigmoid_i = torch.sigmoid(i)\n",
        "        return grad_output * (sigmoid_i * (1 + i * (1 - sigmoid_i)))\n",
        "\n",
        "\n",
        "class Swish(nn.Module):\n",
        "    def __init__(self, **kwargs):\n",
        "        super().__init__()\n",
        "        pass\n",
        "    def forward(self, input_tensor):\n",
        "        return Swish_func.apply(input_tensor)"
      ]
    },
    {
      "attachments": {},
      "cell_type": "markdown",
      "metadata": {
        "id": "MBvim6m8Gl_m"
      },
      "source": [
        "#### Main Neural Network"
      ]
    },
    {
      "cell_type": "code",
      "execution_count": null,
      "metadata": {
        "id": "VSlHQy8IGl_m"
      },
      "outputs": [],
      "source": [
        "def ModifiedVGG16(output_dim, use_swish): return VGG_CIFAR([64, 64, 'M',\n",
        "                                                128, 128, 'M',\n",
        "                                                256, 256, 256, 'M',\n",
        "                                                512, 512, 512, 'M',\n",
        "                                                512, 512, 512, 'M'],\n",
        "                                                output_dim, use_swish=use_swish)\n",
        "\n",
        "class VGG_CIFAR(nn.Module):\n",
        "    def __init__(self, vgg_cfg, output_dim=10, bias=False, affine=False, use_swish: bool=True):\n",
        "        super(VGG_CIFAR, self).__init__()\n",
        "        self.bias = bias\n",
        "        self.affine = affine\n",
        "        self.use_swish = use_swish\n",
        "        self.features = self._make_layers(vgg_cfg)\n",
        "        # self.classifier = nn.Linear(512, output_dim, bias=self.bias)\n",
        "        if(self.use_swish):\n",
        "          self.classifier = nn.Sequential(nn.Linear(512, 256, bias=self.bias),\n",
        "                                                                Swish(inplace=True),\n",
        "                                                                nn.Dropout(0.35),\n",
        "                                                                nn.Linear(256, output_dim, bias=self.bias))\n",
        "        else:\n",
        "          self.classifier = nn.Sequential(nn.Linear(512, 256, bias=self.bias),\n",
        "                                                              nn.ReLU(inplace=True),\n",
        "                                                              nn.Dropout(0.35),\n",
        "                                                              nn.Linear(256, output_dim, bias=self.bias))\n",
        "        self.act = nn.Softmax(dim=-1)\n",
        "\n",
        "    def forward(self, x):\n",
        "        out = self.features(x)\n",
        "        out = out.view(out.size(0), -1)\n",
        "        out = self.classifier(out)\n",
        "        return self.act(out)\n",
        "\n",
        "    def _make_layers(self, cfg):\n",
        "        layers = []\n",
        "        in_channels = 3\n",
        "        for x in cfg:\n",
        "            if x == 'M':\n",
        "                ## Dropout layer after pooling\n",
        "                layers += [nn.MaxPool2d(kernel_size=2, stride=2),\n",
        "                           nn.Dropout(0.2)]\n",
        "            else:\n",
        "                layers += [nn.Conv2d(in_channels, x, kernel_size=3, padding=1, bias=self.bias),\n",
        "                           nn.BatchNorm2d(x, affine=self.affine),\n",
        "                           Swish(inplace=True) if self.use_swish else nn.ReLU(inplace=True)]\n",
        "                in_channels = x\n",
        "        layers += [nn.AvgPool2d(kernel_size=1, stride=1)]\n",
        "        return nn.Sequential(*layers)"
      ]
    },
    {
      "attachments": {},
      "cell_type": "markdown",
      "metadata": {
        "id": "r61WBcbzGl_m"
      },
      "source": [
        "#### Pytorch Training"
      ]
    },
    {
      "cell_type": "code",
      "execution_count": null,
      "metadata": {
        "id": "EluSwRKEGl_m"
      },
      "outputs": [],
      "source": [
        "def get_default_device():\n",
        "    \"\"\"Pick GPU if available, else CPU\"\"\"\n",
        "    if torch.cuda.is_available():\n",
        "        return torch.device('cuda')\n",
        "    else:\n",
        "        return torch.device('cpu')\n",
        "\n",
        "def to_device(data, device):\n",
        "    \"\"\"Move tensor(s) to chosen device\"\"\"\n",
        "    if isinstance(data, (list,tuple)):\n",
        "        return [to_device(x, device) for x in data]\n",
        "    return data.to(device, non_blocking=True)\n",
        "\n",
        "class DeviceDataLoader():\n",
        "    \"\"\"Wrap a dataloader to move data to a device\"\"\"\n",
        "    def __init__(self, dl, device):\n",
        "        self.dl = dl\n",
        "        self.device = device\n",
        "\n",
        "    def __iter__(self):\n",
        "        \"\"\"Yield a batch of data after moving it to device\"\"\"\n",
        "        for b in self.dl:\n",
        "            yield to_device(b, self.device)\n",
        "\n",
        "    def __len__(self):\n",
        "        \"\"\"Number of batches\"\"\"\n",
        "        return len(self.dl)"
      ]
    },
    {
      "cell_type": "code",
      "execution_count": null,
      "metadata": {
        "id": "C_0DUJtcGl_m"
      },
      "outputs": [],
      "source": [
        "device = get_default_device()\n",
        "train_loader = DeviceDataLoader(train_loader, device)\n",
        "test_loader = DeviceDataLoader(test_loader, device)"
      ]
    },
    {
      "attachments": {},
      "cell_type": "markdown",
      "metadata": {},
      "source": [
        "#### Class Function for training and Eval"
      ]
    },
    {
      "cell_type": "code",
      "execution_count": null,
      "metadata": {},
      "outputs": [],
      "source": [
        "import torch\n",
        "import numpy as np\n",
        "from tqdm import tqdm\n",
        "\n",
        "class MyModel:\n",
        "    def __init__(self, n_classes, use_swish=True, loss_unit=\"crossentropy\", optimizer_name=None):\n",
        "        self.n_classes = n_classes\n",
        "        self.model = self._create_model(n_classes, use_swish)\n",
        "        self.loss_unit = loss_unit\n",
        "        self.optimizer = self._create_optimizer(optimizer_name)\n",
        "        if (use_swish):\n",
        "            self.save_model_file = \"Cifar_\" + str(optimizer_name) + \".pth\"\n",
        "        else:\n",
        "            self.save_model_file = \"Cifar_\" + str(optimizer_name) + \"_WOSwish.pth\"\n",
        "        self.results = {'train_loss_list': [],\n",
        "                        'test_loss_list': [],\n",
        "                        'train_acc_list': [],\n",
        "                        'test_acc_list': []}\n",
        "\n",
        "    def _create_model(self, n_classes, use_swish):\n",
        "        model = ModifiedVGG16(n_classes, use_swish)\n",
        "        return to_device(model, device)\n",
        "\n",
        "    def _create_optimizer(self, optimizer_name):\n",
        "        optimizer = None\n",
        "        if optimizer_name == \"Adam\":\n",
        "            optimizer = torch.optim.AdamW(params=self.model.parameters(), lr=1e-04)\n",
        "        elif optimizer_name == \"Adam2\":\n",
        "            optimizer = torch.optim.AdamW(params=self.model.parameters(), lr=0.5e-04)\n",
        "        elif optimizer_name == \"Lion\":\n",
        "            optimizer = Lion(params=self.model.parameters(), lr=1e-5, weight_decay=1e-3)\n",
        "        elif optimizer_name == \"Lion2\":\n",
        "            optimizer = Lion(params=self.model.parameters(), lr=0.2e-4, weight_decay=1e-2)\n",
        "        elif optimizer_name == \"AGD\":\n",
        "            optimizer = AGD(net=self.model, gain=1.0)\n",
        "        elif optimizer_name == \"AGD2\":\n",
        "            optimizer = AGD(net=self.model, gain=0.85)\n",
        "        else:\n",
        "            raise Exception(\"Optimizer not defined\")\n",
        "        return optimizer\n",
        "\n",
        "    def forward_and_backward_pass(self, dataloader, train):\n",
        "        self.model.train() if train else self.model.eval()\n",
        "\n",
        "        num_minibatches = len(dataloader)\n",
        "        epoch_loss = 0\n",
        "        epoch_acc = 0\n",
        "\n",
        "        for data, target in tqdm(dataloader, total=num_minibatches):\n",
        "            data, target = data, target\n",
        "            output = self.model(data)\n",
        "\n",
        "            if self.loss_unit == 'mse':\n",
        "                onehot = torch.nn.functional.one_hot(target, num_classes=output.shape[1]).float()\n",
        "                onehot *= np.sqrt(output.shape[1])\n",
        "                loss = torch.nn.functional.mse_loss(output, onehot)\n",
        "            if self.loss_unit == 'crossentropy':\n",
        "                loss = torch.nn.functional.cross_entropy(output, target)\n",
        "\n",
        "            if train:\n",
        "                loss.backward()\n",
        "\n",
        "            acc = (output.argmax(dim=1) == target).float().mean()\n",
        "\n",
        "            if train:\n",
        "                self.optimizer.step()\n",
        "                self.model.zero_grad()\n",
        "\n",
        "            epoch_acc += acc.item()\n",
        "            epoch_loss += loss.item()\n",
        "\n",
        "        return epoch_loss / num_minibatches, epoch_acc / num_minibatches\n",
        "\n",
        "    def train(self, train_loader, test_loader, max_epoch):\n",
        "        for epoch in range(max_epoch):\n",
        "            print(\"\\nEpoch\", epoch)\n",
        "            print(\"===================================\" * 2)\n",
        "\n",
        "            train_loss, train_acc = self.forward_and_backward_pass(train_loader, train=True)\n",
        "            test_loss, test_acc = self.forward_and_backward_pass(test_loader, train=False)\n",
        "\n",
        "            print(\"Train loss:\\t\", train_loss)\n",
        "            print(\"Test loss: \\t\", test_loss)\n",
        "            print(\"Train acc: \\t\", train_acc)\n",
        "            print(\"Test acc:  \\t\", test_acc)\n",
        "\n",
        "            self.results['train_loss_list'].append(train_loss)\n",
        "            self.results['test_loss_list'].append(test_loss)\n",
        "            self.results['train_acc_list'].append(train_acc)\n",
        "            self.results['test_acc_list'].append(test_acc)\n",
        "\n",
        "            torch.save(self.model.state_dict(), self.save_model_file)"
      ]
    },
    {
      "attachments": {},
      "cell_type": "markdown",
      "metadata": {
        "id": "fkBBIs-lCfEv"
      },
      "source": [
        "#### Try using ModifiedVGG with Swish or without Swish"
      ]
    },
    {
      "cell_type": "code",
      "execution_count": null,
      "metadata": {
        "colab": {
          "base_uri": "https://localhost:8080/"
        },
        "id": "28hTda90CjXh",
        "outputId": "9e25fbdd-29ef-4e7a-eeab-836f7cbd4ac9"
      },
      "outputs": [
        {
          "name": "stdout",
          "output_type": "stream",
          "text": [
            "\n",
            "Epoch 0\n",
            "======================================================================\n"
          ]
        },
        {
          "name": "stderr",
          "output_type": "stream",
          "text": [
            "100%|██████████| 390/390 [00:10<00:00, 38.22it/s]\n",
            "100%|██████████| 79/79 [00:01<00:00, 74.89it/s]\n"
          ]
        },
        {
          "name": "stdout",
          "output_type": "stream",
          "text": [
            "Train loss:\t 2.0805553772510628\n",
            "Test loss: \t 2.002517979356307\n",
            "Train acc: \t 0.3776041666666667\n",
            "Test acc:  \t 0.4544106012658228\n",
            "\n",
            "Epoch 1\n",
            "======================================================================\n"
          ]
        },
        {
          "name": "stderr",
          "output_type": "stream",
          "text": [
            "100%|██████████| 390/390 [00:10<00:00, 38.14it/s]\n",
            "100%|██████████| 79/79 [00:01<00:00, 76.13it/s]\n"
          ]
        },
        {
          "name": "stdout",
          "output_type": "stream",
          "text": [
            "Train loss:\t 1.9353940104826903\n",
            "Test loss: \t 1.9391143533247936\n",
            "Train acc: \t 0.5214543269230769\n",
            "Test acc:  \t 0.5182950949367089\n",
            "\n",
            "Epoch 2\n",
            "======================================================================\n"
          ]
        },
        {
          "name": "stderr",
          "output_type": "stream",
          "text": [
            "100%|██████████| 390/390 [00:10<00:00, 37.65it/s]\n",
            "100%|██████████| 79/79 [00:01<00:00, 75.97it/s]\n"
          ]
        },
        {
          "name": "stdout",
          "output_type": "stream",
          "text": [
            "Train loss:\t 1.8776385313425308\n",
            "Test loss: \t 1.8960749499405487\n",
            "Train acc: \t 0.5807091346153846\n",
            "Test acc:  \t 0.5609177215189873\n",
            "\n",
            "Epoch 3\n",
            "======================================================================\n"
          ]
        },
        {
          "name": "stderr",
          "output_type": "stream",
          "text": [
            "100%|██████████| 390/390 [00:10<00:00, 38.13it/s]\n",
            "100%|██████████| 79/79 [00:01<00:00, 75.35it/s]\n"
          ]
        },
        {
          "name": "stdout",
          "output_type": "stream",
          "text": [
            "Train loss:\t 1.8474087409484081\n",
            "Test loss: \t 1.8455120008203048\n",
            "Train acc: \t 0.6116786858974359\n",
            "Test acc:  \t 0.6118473101265823\n",
            "\n",
            "Epoch 4\n",
            "======================================================================\n"
          ]
        },
        {
          "name": "stderr",
          "output_type": "stream",
          "text": [
            "100%|██████████| 390/390 [00:10<00:00, 38.22it/s]\n",
            "100%|██████████| 79/79 [00:01<00:00, 75.89it/s]\n"
          ]
        },
        {
          "name": "stdout",
          "output_type": "stream",
          "text": [
            "Train loss:\t 1.8233904435084416\n",
            "Test loss: \t 1.819362599638444\n",
            "Train acc: \t 0.6350160256410257\n",
            "Test acc:  \t 0.6403283227848101\n",
            "\n",
            "Epoch 5\n",
            "======================================================================\n"
          ]
        },
        {
          "name": "stderr",
          "output_type": "stream",
          "text": [
            "100%|██████████| 390/390 [00:10<00:00, 38.08it/s]\n",
            "100%|██████████| 79/79 [00:01<00:00, 75.67it/s]\n"
          ]
        },
        {
          "name": "stdout",
          "output_type": "stream",
          "text": [
            "Train loss:\t 1.8024745409305278\n",
            "Test loss: \t 1.7869676804240746\n",
            "Train acc: \t 0.6565104166666667\n",
            "Test acc:  \t 0.6722705696202531\n",
            "\n",
            "Epoch 6\n",
            "======================================================================\n"
          ]
        },
        {
          "name": "stderr",
          "output_type": "stream",
          "text": [
            "100%|██████████| 390/390 [00:10<00:00, 38.17it/s]\n",
            "100%|██████████| 79/79 [00:01<00:00, 74.91it/s]\n"
          ]
        },
        {
          "name": "stdout",
          "output_type": "stream",
          "text": [
            "Train loss:\t 1.784099813302358\n",
            "Test loss: \t 1.7739276297484772\n",
            "Train acc: \t 0.6756810897435898\n",
            "Test acc:  \t 0.6856210443037974\n",
            "\n",
            "Epoch 7\n",
            "======================================================================\n"
          ]
        },
        {
          "name": "stderr",
          "output_type": "stream",
          "text": [
            "100%|██████████| 390/390 [00:10<00:00, 38.01it/s]\n",
            "100%|██████████| 79/79 [00:01<00:00, 73.51it/s]\n"
          ]
        },
        {
          "name": "stdout",
          "output_type": "stream",
          "text": [
            "Train loss:\t 1.767771607178908\n",
            "Test loss: \t 1.7822266756733762\n",
            "Train acc: \t 0.6920072115384616\n",
            "Test acc:  \t 0.6785996835443038\n",
            "\n",
            "Epoch 8\n",
            "======================================================================\n"
          ]
        },
        {
          "name": "stderr",
          "output_type": "stream",
          "text": [
            "100%|██████████| 390/390 [00:10<00:00, 38.12it/s]\n",
            "100%|██████████| 79/79 [00:01<00:00, 74.78it/s]\n"
          ]
        },
        {
          "name": "stdout",
          "output_type": "stream",
          "text": [
            "Train loss:\t 1.7547497880764498\n",
            "Test loss: \t 1.7711201604408553\n",
            "Train acc: \t 0.7052283653846154\n",
            "Test acc:  \t 0.6899723101265823\n",
            "\n",
            "Epoch 9\n",
            "======================================================================\n"
          ]
        },
        {
          "name": "stderr",
          "output_type": "stream",
          "text": [
            "100%|██████████| 390/390 [00:10<00:00, 38.24it/s]\n",
            "100%|██████████| 79/79 [00:01<00:00, 72.89it/s]\n"
          ]
        },
        {
          "name": "stdout",
          "output_type": "stream",
          "text": [
            "Train loss:\t 1.7445860664049784\n",
            "Test loss: \t 1.7445996184892292\n",
            "Train acc: \t 0.7154046474358975\n",
            "Test acc:  \t 0.715684335443038\n",
            "\n",
            "Epoch 10\n",
            "======================================================================\n"
          ]
        },
        {
          "name": "stderr",
          "output_type": "stream",
          "text": [
            "100%|██████████| 390/390 [00:10<00:00, 38.03it/s]\n",
            "100%|██████████| 79/79 [00:01<00:00, 73.70it/s]\n"
          ]
        },
        {
          "name": "stdout",
          "output_type": "stream",
          "text": [
            "Train loss:\t 1.7342494778144053\n",
            "Test loss: \t 1.759147900569288\n",
            "Train acc: \t 0.7258413461538461\n",
            "Test acc:  \t 0.7001582278481012\n",
            "\n",
            "Epoch 11\n",
            "======================================================================\n"
          ]
        },
        {
          "name": "stderr",
          "output_type": "stream",
          "text": [
            "100%|██████████| 390/390 [00:10<00:00, 38.12it/s]\n",
            "100%|██████████| 79/79 [00:01<00:00, 71.41it/s]\n"
          ]
        },
        {
          "name": "stdout",
          "output_type": "stream",
          "text": [
            "Train loss:\t 1.7304769629087204\n",
            "Test loss: \t 1.7488499034809162\n",
            "Train acc: \t 0.7296274038461539\n",
            "Test acc:  \t 0.7106408227848101\n",
            "\n",
            "Epoch 12\n",
            "======================================================================\n"
          ]
        },
        {
          "name": "stderr",
          "output_type": "stream",
          "text": [
            "100%|██████████| 390/390 [00:10<00:00, 38.13it/s]\n",
            "100%|██████████| 79/79 [00:01<00:00, 71.22it/s]\n"
          ]
        },
        {
          "name": "stdout",
          "output_type": "stream",
          "text": [
            "Train loss:\t 1.7154829080288228\n",
            "Test loss: \t 1.7227601537221595\n",
            "Train acc: \t 0.7445913461538461\n",
            "Test acc:  \t 0.7365506329113924\n",
            "\n",
            "Epoch 13\n",
            "======================================================================\n"
          ]
        },
        {
          "name": "stderr",
          "output_type": "stream",
          "text": [
            "100%|██████████| 390/390 [00:10<00:00, 38.16it/s]\n",
            "100%|██████████| 79/79 [00:01<00:00, 72.07it/s]\n"
          ]
        },
        {
          "name": "stdout",
          "output_type": "stream",
          "text": [
            "Train loss:\t 1.7099215186559238\n",
            "Test loss: \t 1.7282415055021454\n",
            "Train acc: \t 0.7507411858974359\n",
            "Test acc:  \t 0.7319026898734177\n",
            "\n",
            "Epoch 14\n",
            "======================================================================\n"
          ]
        },
        {
          "name": "stderr",
          "output_type": "stream",
          "text": [
            "100%|██████████| 390/390 [00:10<00:00, 38.15it/s]\n",
            "100%|██████████| 79/79 [00:01<00:00, 71.16it/s]\n"
          ]
        },
        {
          "name": "stdout",
          "output_type": "stream",
          "text": [
            "Train loss:\t 1.70695167749356\n",
            "Test loss: \t 1.7069835994817033\n",
            "Train acc: \t 0.7532051282051282\n",
            "Test acc:  \t 0.7529667721518988\n",
            "\n",
            "Epoch 15\n",
            "======================================================================\n"
          ]
        },
        {
          "name": "stderr",
          "output_type": "stream",
          "text": [
            "100%|██████████| 390/390 [00:10<00:00, 38.20it/s]\n",
            "100%|██████████| 79/79 [00:01<00:00, 73.45it/s]\n"
          ]
        },
        {
          "name": "stdout",
          "output_type": "stream",
          "text": [
            "Train loss:\t 1.7048414808053236\n",
            "Test loss: \t 1.7059870747071277\n",
            "Train acc: \t 0.7552283653846154\n",
            "Test acc:  \t 0.7535601265822784\n",
            "\n",
            "Epoch 16\n",
            "======================================================================\n"
          ]
        },
        {
          "name": "stderr",
          "output_type": "stream",
          "text": [
            "100%|██████████| 390/390 [00:10<00:00, 38.18it/s]\n",
            "100%|██████████| 79/79 [00:01<00:00, 72.01it/s]\n"
          ]
        },
        {
          "name": "stdout",
          "output_type": "stream",
          "text": [
            "Train loss:\t 1.6986368702008174\n",
            "Test loss: \t 1.7231832878499092\n",
            "Train acc: \t 0.7610777243589744\n",
            "Test acc:  \t 0.7361550632911392\n",
            "\n",
            "Epoch 17\n",
            "======================================================================\n"
          ]
        },
        {
          "name": "stderr",
          "output_type": "stream",
          "text": [
            "100%|██████████| 390/390 [00:10<00:00, 38.07it/s]\n",
            "100%|██████████| 79/79 [00:01<00:00, 74.59it/s]\n"
          ]
        },
        {
          "name": "stdout",
          "output_type": "stream",
          "text": [
            "Train loss:\t 1.6916969693624055\n",
            "Test loss: \t 1.70630536200125\n",
            "Train acc: \t 0.7682491987179487\n",
            "Test acc:  \t 0.7534612341772152\n",
            "\n",
            "Epoch 18\n",
            "======================================================================\n"
          ]
        },
        {
          "name": "stderr",
          "output_type": "stream",
          "text": [
            "100%|██████████| 390/390 [00:10<00:00, 38.12it/s]\n",
            "100%|██████████| 79/79 [00:01<00:00, 73.50it/s]\n"
          ]
        },
        {
          "name": "stdout",
          "output_type": "stream",
          "text": [
            "Train loss:\t 1.6844699608973968\n",
            "Test loss: \t 1.7211869607997845\n",
            "Train acc: \t 0.7760616987179487\n",
            "Test acc:  \t 0.7392207278481012\n",
            "\n",
            "Epoch 19\n",
            "======================================================================\n"
          ]
        },
        {
          "name": "stderr",
          "output_type": "stream",
          "text": [
            "100%|██████████| 390/390 [00:10<00:00, 38.14it/s]\n",
            "100%|██████████| 79/79 [00:01<00:00, 74.81it/s]\n"
          ]
        },
        {
          "name": "stdout",
          "output_type": "stream",
          "text": [
            "Train loss:\t 1.6841420029982543\n",
            "Test loss: \t 1.7152433606642712\n",
            "Train acc: \t 0.7764022435897436\n",
            "Test acc:  \t 0.7448575949367089\n",
            "\n",
            "Epoch 20\n",
            "======================================================================\n"
          ]
        },
        {
          "name": "stderr",
          "output_type": "stream",
          "text": [
            "100%|██████████| 390/390 [00:10<00:00, 38.07it/s]\n",
            "100%|██████████| 79/79 [00:01<00:00, 73.90it/s]\n"
          ]
        },
        {
          "name": "stdout",
          "output_type": "stream",
          "text": [
            "Train loss:\t 1.6772830553543874\n",
            "Test loss: \t 1.6941988890684103\n",
            "Train acc: \t 0.7825520833333334\n",
            "Test acc:  \t 0.7665150316455697\n",
            "\n",
            "Epoch 21\n",
            "======================================================================\n"
          ]
        },
        {
          "name": "stderr",
          "output_type": "stream",
          "text": [
            "100%|██████████| 390/390 [00:10<00:00, 38.14it/s]\n",
            "100%|██████████| 79/79 [00:01<00:00, 74.81it/s]\n"
          ]
        },
        {
          "name": "stdout",
          "output_type": "stream",
          "text": [
            "Train loss:\t 1.6767306667107802\n",
            "Test loss: \t 1.699550047705445\n",
            "Train acc: \t 0.783213141025641\n",
            "Test acc:  \t 0.7619659810126582\n",
            "\n",
            "Epoch 22\n",
            "======================================================================\n"
          ]
        },
        {
          "name": "stderr",
          "output_type": "stream",
          "text": [
            "100%|██████████| 390/390 [00:10<00:00, 38.13it/s]\n",
            "100%|██████████| 79/79 [00:01<00:00, 75.78it/s]\n"
          ]
        },
        {
          "name": "stdout",
          "output_type": "stream",
          "text": [
            "Train loss:\t 1.6701896068377373\n",
            "Test loss: \t 1.6812145770350588\n",
            "Train acc: \t 0.789823717948718\n",
            "Test acc:  \t 0.778184335443038\n",
            "\n",
            "Epoch 23\n",
            "======================================================================\n"
          ]
        },
        {
          "name": "stderr",
          "output_type": "stream",
          "text": [
            "100%|██████████| 390/390 [00:10<00:00, 38.13it/s]\n",
            "100%|██████████| 79/79 [00:01<00:00, 76.18it/s]\n"
          ]
        },
        {
          "name": "stdout",
          "output_type": "stream",
          "text": [
            "Train loss:\t 1.6711978579178834\n",
            "Test loss: \t 1.7061974247799645\n",
            "Train acc: \t 0.7893429487179487\n",
            "Test acc:  \t 0.7542523734177216\n",
            "\n",
            "Epoch 24\n",
            "======================================================================\n"
          ]
        },
        {
          "name": "stderr",
          "output_type": "stream",
          "text": [
            "100%|██████████| 390/390 [00:10<00:00, 38.13it/s]\n",
            "100%|██████████| 79/79 [00:01<00:00, 76.31it/s]\n"
          ]
        },
        {
          "name": "stdout",
          "output_type": "stream",
          "text": [
            "Train loss:\t 1.662313214632181\n",
            "Test loss: \t 1.6744639028476764\n",
            "Train acc: \t 0.798016826923077\n",
            "Test acc:  \t 0.7848101265822784\n",
            "\n",
            "Epoch 25\n",
            "======================================================================\n"
          ]
        },
        {
          "name": "stderr",
          "output_type": "stream",
          "text": [
            "100%|██████████| 390/390 [00:10<00:00, 38.19it/s]\n",
            "100%|██████████| 79/79 [00:01<00:00, 75.13it/s]\n"
          ]
        },
        {
          "name": "stdout",
          "output_type": "stream",
          "text": [
            "Train loss:\t 1.6607852189968795\n",
            "Test loss: \t 1.6898736395413363\n",
            "Train acc: \t 0.7994991987179487\n",
            "Test acc:  \t 0.7712618670886076\n",
            "\n",
            "Epoch 26\n",
            "======================================================================\n"
          ]
        },
        {
          "name": "stderr",
          "output_type": "stream",
          "text": [
            "100%|██████████| 390/390 [00:10<00:00, 38.18it/s]\n",
            "100%|██████████| 79/79 [00:01<00:00, 75.05it/s]\n"
          ]
        },
        {
          "name": "stdout",
          "output_type": "stream",
          "text": [
            "Train loss:\t 1.6598951324438438\n",
            "Test loss: \t 1.678142007393173\n",
            "Train acc: \t 0.8005608974358974\n",
            "Test acc:  \t 0.7822389240506329\n",
            "\n",
            "Epoch 27\n",
            "======================================================================\n"
          ]
        },
        {
          "name": "stderr",
          "output_type": "stream",
          "text": [
            "100%|██████████| 390/390 [00:10<00:00, 38.16it/s]\n",
            "100%|██████████| 79/79 [00:01<00:00, 74.28it/s]\n"
          ]
        },
        {
          "name": "stdout",
          "output_type": "stream",
          "text": [
            "Train loss:\t 1.6538915288754\n",
            "Test loss: \t 1.6732131423829477\n",
            "Train acc: \t 0.8063301282051282\n",
            "Test acc:  \t 0.7882713607594937\n",
            "\n",
            "Epoch 28\n",
            "======================================================================\n"
          ]
        },
        {
          "name": "stderr",
          "output_type": "stream",
          "text": [
            "100%|██████████| 390/390 [00:10<00:00, 38.20it/s]\n",
            "100%|██████████| 79/79 [00:01<00:00, 75.69it/s]\n"
          ]
        },
        {
          "name": "stdout",
          "output_type": "stream",
          "text": [
            "Train loss:\t 1.6548560393162264\n",
            "Test loss: \t 1.6720631213127812\n",
            "Train acc: \t 0.8056490384615385\n",
            "Test acc:  \t 0.7880735759493671\n",
            "\n",
            "Epoch 29\n",
            "======================================================================\n"
          ]
        },
        {
          "name": "stderr",
          "output_type": "stream",
          "text": [
            "100%|██████████| 390/390 [00:10<00:00, 38.24it/s]\n",
            "100%|██████████| 79/79 [00:01<00:00, 76.47it/s]\n"
          ]
        },
        {
          "name": "stdout",
          "output_type": "stream",
          "text": [
            "Train loss:\t 1.6477082200539417\n",
            "Test loss: \t 1.6844178408007078\n",
            "Train acc: \t 0.8125400641025641\n",
            "Test acc:  \t 0.7757120253164557\n",
            "\n",
            "Epoch 30\n",
            "======================================================================\n"
          ]
        },
        {
          "name": "stderr",
          "output_type": "stream",
          "text": [
            "100%|██████████| 390/390 [00:10<00:00, 38.23it/s]\n",
            "100%|██████████| 79/79 [00:01<00:00, 75.31it/s]\n"
          ]
        },
        {
          "name": "stdout",
          "output_type": "stream",
          "text": [
            "Train loss:\t 1.6481246153513591\n",
            "Test loss: \t 1.6670401971551436\n",
            "Train acc: \t 0.8119791666666667\n",
            "Test acc:  \t 0.7929193037974683\n",
            "\n",
            "Epoch 31\n",
            "======================================================================\n"
          ]
        },
        {
          "name": "stderr",
          "output_type": "stream",
          "text": [
            "100%|██████████| 390/390 [00:10<00:00, 38.19it/s]\n",
            "100%|██████████| 79/79 [00:01<00:00, 75.89it/s]\n"
          ]
        },
        {
          "name": "stdout",
          "output_type": "stream",
          "text": [
            "Train loss:\t 1.63818619679182\n",
            "Test loss: \t 1.664345080339456\n",
            "Train acc: \t 0.8219751602564103\n",
            "Test acc:  \t 0.7948971518987342\n",
            "\n",
            "Epoch 32\n",
            "======================================================================\n"
          ]
        },
        {
          "name": "stderr",
          "output_type": "stream",
          "text": [
            "100%|██████████| 390/390 [00:10<00:00, 38.24it/s]\n",
            "100%|██████████| 79/79 [00:01<00:00, 75.15it/s]\n"
          ]
        },
        {
          "name": "stdout",
          "output_type": "stream",
          "text": [
            "Train loss:\t 1.637251321780376\n",
            "Test loss: \t 1.6690526310401628\n",
            "Train acc: \t 0.8229767628205128\n",
            "Test acc:  \t 0.790743670886076\n",
            "\n",
            "Epoch 33\n",
            "======================================================================\n"
          ]
        },
        {
          "name": "stderr",
          "output_type": "stream",
          "text": [
            "100%|██████████| 390/390 [00:10<00:00, 38.08it/s]\n",
            "100%|██████████| 79/79 [00:01<00:00, 75.65it/s]\n"
          ]
        },
        {
          "name": "stdout",
          "output_type": "stream",
          "text": [
            "Train loss:\t 1.6362134780639257\n",
            "Test loss: \t 1.6581656872471677\n",
            "Train acc: \t 0.8241185897435898\n",
            "Test acc:  \t 0.8025118670886076\n",
            "\n",
            "Epoch 34\n",
            "======================================================================\n"
          ]
        },
        {
          "name": "stderr",
          "output_type": "stream",
          "text": [
            "100%|██████████| 390/390 [00:10<00:00, 38.21it/s]\n",
            "100%|██████████| 79/79 [00:01<00:00, 74.82it/s]\n"
          ]
        },
        {
          "name": "stdout",
          "output_type": "stream",
          "text": [
            "Train loss:\t 1.637869780185895\n",
            "Test loss: \t 1.673476110530805\n",
            "Train acc: \t 0.82265625\n",
            "Test acc:  \t 0.7857990506329114\n",
            "\n",
            "Epoch 35\n",
            "======================================================================\n"
          ]
        },
        {
          "name": "stderr",
          "output_type": "stream",
          "text": [
            "100%|██████████| 390/390 [00:10<00:00, 38.29it/s]\n",
            "100%|██████████| 79/79 [00:01<00:00, 74.32it/s]\n"
          ]
        },
        {
          "name": "stdout",
          "output_type": "stream",
          "text": [
            "Train loss:\t 1.6377718723737276\n",
            "Test loss: \t 1.6698796115344083\n",
            "Train acc: \t 0.8228165064102564\n",
            "Test acc:  \t 0.7898536392405063\n",
            "\n",
            "Epoch 36\n",
            "======================================================================\n"
          ]
        },
        {
          "name": "stderr",
          "output_type": "stream",
          "text": [
            "100%|██████████| 390/390 [00:10<00:00, 38.19it/s]\n",
            "100%|██████████| 79/79 [00:01<00:00, 76.07it/s]\n"
          ]
        },
        {
          "name": "stdout",
          "output_type": "stream",
          "text": [
            "Train loss:\t 1.6371249440388802\n",
            "Test loss: \t 1.6633854349957238\n",
            "Train acc: \t 0.8231971153846154\n",
            "Test acc:  \t 0.7967761075949367\n",
            "\n",
            "Epoch 37\n",
            "======================================================================\n"
          ]
        },
        {
          "name": "stderr",
          "output_type": "stream",
          "text": [
            "100%|██████████| 390/390 [00:10<00:00, 38.18it/s]\n",
            "100%|██████████| 79/79 [00:01<00:00, 75.12it/s]\n"
          ]
        },
        {
          "name": "stdout",
          "output_type": "stream",
          "text": [
            "Train loss:\t 1.6299129800918775\n",
            "Test loss: \t 1.6636646337147\n",
            "Train acc: \t 0.8302884615384616\n",
            "Test acc:  \t 0.7959849683544303\n",
            "\n",
            "Epoch 38\n",
            "======================================================================\n"
          ]
        },
        {
          "name": "stderr",
          "output_type": "stream",
          "text": [
            "100%|██████████| 390/390 [00:10<00:00, 38.15it/s]\n",
            "100%|██████████| 79/79 [00:01<00:00, 75.21it/s]\n"
          ]
        },
        {
          "name": "stdout",
          "output_type": "stream",
          "text": [
            "Train loss:\t 1.6298207915746248\n",
            "Test loss: \t 1.6800944020476523\n",
            "Train acc: \t 0.8307491987179487\n",
            "Test acc:  \t 0.779568829113924\n",
            "\n",
            "Epoch 39\n",
            "======================================================================\n"
          ]
        },
        {
          "name": "stderr",
          "output_type": "stream",
          "text": [
            "100%|██████████| 390/390 [00:10<00:00, 38.23it/s]\n",
            "100%|██████████| 79/79 [00:01<00:00, 74.49it/s]\n"
          ]
        },
        {
          "name": "stdout",
          "output_type": "stream",
          "text": [
            "Train loss:\t 1.6297006995250016\n",
            "Test loss: \t 1.647884042957161\n",
            "Train acc: \t 0.8307892628205128\n",
            "Test acc:  \t 0.8127966772151899\n",
            "\n",
            "Epoch 40\n",
            "======================================================================\n"
          ]
        },
        {
          "name": "stderr",
          "output_type": "stream",
          "text": [
            "100%|██████████| 390/390 [00:10<00:00, 38.20it/s]\n",
            "100%|██████████| 79/79 [00:01<00:00, 75.26it/s]\n"
          ]
        },
        {
          "name": "stdout",
          "output_type": "stream",
          "text": [
            "Train loss:\t 1.6236184101838331\n",
            "Test loss: \t 1.6446456682832935\n",
            "Train acc: \t 0.8367788461538461\n",
            "Test acc:  \t 0.8147745253164557\n",
            "\n",
            "Epoch 41\n",
            "======================================================================\n"
          ]
        },
        {
          "name": "stderr",
          "output_type": "stream",
          "text": [
            "100%|██████████| 390/390 [00:10<00:00, 38.16it/s]\n",
            "100%|██████████| 79/79 [00:01<00:00, 75.22it/s]\n"
          ]
        },
        {
          "name": "stdout",
          "output_type": "stream",
          "text": [
            "Train loss:\t 1.6222665918179047\n",
            "Test loss: \t 1.6587243955346602\n",
            "Train acc: \t 0.8383613782051282\n",
            "Test acc:  \t 0.8019185126582279\n",
            "\n",
            "Epoch 42\n",
            "======================================================================\n"
          ]
        },
        {
          "name": "stderr",
          "output_type": "stream",
          "text": [
            "100%|██████████| 390/390 [00:10<00:00, 38.20it/s]\n",
            "100%|██████████| 79/79 [00:01<00:00, 73.88it/s]\n"
          ]
        },
        {
          "name": "stdout",
          "output_type": "stream",
          "text": [
            "Train loss:\t 1.6253537095510042\n",
            "Test loss: \t 1.6439608154417593\n",
            "Train acc: \t 0.8350560897435897\n",
            "Test acc:  \t 0.8163568037974683\n",
            "\n",
            "Epoch 43\n",
            "======================================================================\n"
          ]
        },
        {
          "name": "stderr",
          "output_type": "stream",
          "text": [
            "100%|██████████| 390/390 [00:10<00:00, 38.06it/s]\n",
            "100%|██████████| 79/79 [00:01<00:00, 73.83it/s]\n"
          ]
        },
        {
          "name": "stdout",
          "output_type": "stream",
          "text": [
            "Train loss:\t 1.6185962197108146\n",
            "Test loss: \t 1.6360097006906438\n",
            "Train acc: \t 0.8419871794871795\n",
            "Test acc:  \t 0.8241693037974683\n",
            "\n",
            "Epoch 44\n",
            "======================================================================\n"
          ]
        },
        {
          "name": "stderr",
          "output_type": "stream",
          "text": [
            "100%|██████████| 390/390 [00:10<00:00, 38.10it/s]\n",
            "100%|██████████| 79/79 [00:01<00:00, 72.23it/s]\n"
          ]
        },
        {
          "name": "stdout",
          "output_type": "stream",
          "text": [
            "Train loss:\t 1.619699673163585\n",
            "Test loss: \t 1.661075857621205\n",
            "Train acc: \t 0.8408453525641025\n",
            "Test acc:  \t 0.7996439873417721\n",
            "\n",
            "Epoch 45\n",
            "======================================================================\n"
          ]
        },
        {
          "name": "stderr",
          "output_type": "stream",
          "text": [
            "100%|██████████| 390/390 [00:10<00:00, 38.16it/s]\n",
            "100%|██████████| 79/79 [00:01<00:00, 72.37it/s]\n"
          ]
        },
        {
          "name": "stdout",
          "output_type": "stream",
          "text": [
            "Train loss:\t 1.6174488376348446\n",
            "Test loss: \t 1.6621913638296006\n",
            "Train acc: \t 0.8432091346153846\n",
            "Test acc:  \t 0.7981606012658228\n",
            "\n",
            "Epoch 46\n",
            "======================================================================\n"
          ]
        },
        {
          "name": "stderr",
          "output_type": "stream",
          "text": [
            "100%|██████████| 390/390 [00:10<00:00, 38.13it/s]\n",
            "100%|██████████| 79/79 [00:01<00:00, 72.55it/s]\n"
          ]
        },
        {
          "name": "stdout",
          "output_type": "stream",
          "text": [
            "Train loss:\t 1.6137516678907933\n",
            "Test loss: \t 1.6468452818786041\n",
            "Train acc: \t 0.8467347756410256\n",
            "Test acc:  \t 0.8143789556962026\n",
            "\n",
            "Epoch 47\n",
            "======================================================================\n"
          ]
        },
        {
          "name": "stderr",
          "output_type": "stream",
          "text": [
            "100%|██████████| 390/390 [00:10<00:00, 38.18it/s]\n",
            "100%|██████████| 79/79 [00:01<00:00, 70.82it/s]\n"
          ]
        },
        {
          "name": "stdout",
          "output_type": "stream",
          "text": [
            "Train loss:\t 1.6146589343364421\n",
            "Test loss: \t 1.6534683538388601\n",
            "Train acc: \t 0.8458733974358974\n",
            "Test acc:  \t 0.8069620253164557\n",
            "\n",
            "Epoch 48\n",
            "======================================================================\n"
          ]
        },
        {
          "name": "stderr",
          "output_type": "stream",
          "text": [
            "100%|██████████| 390/390 [00:10<00:00, 38.21it/s]\n",
            "100%|██████████| 79/79 [00:01<00:00, 70.13it/s]\n"
          ]
        },
        {
          "name": "stdout",
          "output_type": "stream",
          "text": [
            "Train loss:\t 1.6140307197204002\n",
            "Test loss: \t 1.6438710493377493\n",
            "Train acc: \t 0.8463541666666666\n",
            "Test acc:  \t 0.8164556962025317\n",
            "\n",
            "Epoch 49\n",
            "======================================================================\n"
          ]
        },
        {
          "name": "stderr",
          "output_type": "stream",
          "text": [
            "100%|██████████| 390/390 [00:10<00:00, 38.16it/s]\n",
            "100%|██████████| 79/79 [00:01<00:00, 72.06it/s]\n"
          ]
        },
        {
          "name": "stdout",
          "output_type": "stream",
          "text": [
            "Train loss:\t 1.6123832192176428\n",
            "Test loss: \t 1.6508467061610161\n",
            "Train acc: \t 0.8481570512820513\n",
            "Test acc:  \t 0.8098299050632911\n"
          ]
        }
      ],
      "source": [
        "# Membuat instance dari kelas MyModel\n",
        "model = MyModel(len(CIFARSample.label_to_str), use_swish=True, loss_unit=\"crossentropy\", optimizer_name=\"Lion2\")\n",
        "\n",
        "# Melatih model\n",
        "model.train(train_loader, test_loader, max_epoch=50)\n",
        "results6 = model.results"
      ]
    },
    {
      "cell_type": "code",
      "execution_count": null,
      "metadata": {
        "colab": {
          "base_uri": "https://localhost:8080/"
        },
        "id": "19MLAYfKCyHL",
        "outputId": "1c589308-3c97-4fb5-c28c-b827cb3d8e10"
      },
      "outputs": [
        {
          "name": "stdout",
          "output_type": "stream",
          "text": [
            "\n",
            "Epoch 0\n",
            "======================================================================\n"
          ]
        },
        {
          "name": "stderr",
          "output_type": "stream",
          "text": [
            "100%|██████████| 390/390 [00:09<00:00, 43.01it/s]\n",
            "100%|██████████| 79/79 [00:01<00:00, 76.45it/s]\n"
          ]
        },
        {
          "name": "stdout",
          "output_type": "stream",
          "text": [
            "Train loss:\t 2.113205655415853\n",
            "Test loss: \t 2.0420373919643935\n",
            "Train acc: \t 0.34126602564102565\n",
            "Test acc:  \t 0.41920490506329117\n",
            "\n",
            "Epoch 1\n",
            "======================================================================\n"
          ]
        },
        {
          "name": "stderr",
          "output_type": "stream",
          "text": [
            "100%|██████████| 390/390 [00:09<00:00, 41.21it/s]\n",
            "100%|██████████| 79/79 [00:01<00:00, 77.03it/s]\n"
          ]
        },
        {
          "name": "stdout",
          "output_type": "stream",
          "text": [
            "Train loss:\t 1.95588096899864\n",
            "Test loss: \t 1.938206577602821\n",
            "Train acc: \t 0.5026842948717949\n",
            "Test acc:  \t 0.5185917721518988\n",
            "\n",
            "Epoch 2\n",
            "======================================================================\n"
          ]
        },
        {
          "name": "stderr",
          "output_type": "stream",
          "text": [
            "100%|██████████| 390/390 [00:09<00:00, 43.05it/s]\n",
            "100%|██████████| 79/79 [00:01<00:00, 78.42it/s] \n"
          ]
        },
        {
          "name": "stdout",
          "output_type": "stream",
          "text": [
            "Train loss:\t 1.8979419136658693\n",
            "Test loss: \t 1.9183806407300732\n",
            "Train acc: \t 0.5606770833333333\n",
            "Test acc:  \t 0.5390625\n",
            "\n",
            "Epoch 3\n",
            "======================================================================\n"
          ]
        },
        {
          "name": "stderr",
          "output_type": "stream",
          "text": [
            "100%|██████████| 390/390 [00:09<00:00, 43.02it/s]\n",
            "100%|██████████| 79/79 [00:01<00:00, 78.82it/s] \n"
          ]
        },
        {
          "name": "stdout",
          "output_type": "stream",
          "text": [
            "Train loss:\t 1.8653491848554367\n",
            "Test loss: \t 1.8992387041260925\n",
            "Train acc: \t 0.5935697115384615\n",
            "Test acc:  \t 0.5584454113924051\n",
            "\n",
            "Epoch 4\n",
            "======================================================================\n"
          ]
        },
        {
          "name": "stderr",
          "output_type": "stream",
          "text": [
            "100%|██████████| 390/390 [00:09<00:00, 42.53it/s]\n",
            "100%|██████████| 79/79 [00:01<00:00, 77.18it/s]\n"
          ]
        },
        {
          "name": "stdout",
          "output_type": "stream",
          "text": [
            "Train loss:\t 1.8436424099482023\n",
            "Test loss: \t 1.8369789063176023\n",
            "Train acc: \t 0.6151241987179488\n",
            "Test acc:  \t 0.6215387658227848\n",
            "\n",
            "Epoch 5\n",
            "======================================================================\n"
          ]
        },
        {
          "name": "stderr",
          "output_type": "stream",
          "text": [
            "100%|██████████| 390/390 [00:09<00:00, 42.97it/s]\n",
            "100%|██████████| 79/79 [00:01<00:00, 78.06it/s] \n"
          ]
        },
        {
          "name": "stdout",
          "output_type": "stream",
          "text": [
            "Train loss:\t 1.817395877226805\n",
            "Test loss: \t 1.8101820960829529\n",
            "Train acc: \t 0.6419671474358974\n",
            "Test acc:  \t 0.6500197784810127\n",
            "\n",
            "Epoch 6\n",
            "======================================================================\n"
          ]
        },
        {
          "name": "stderr",
          "output_type": "stream",
          "text": [
            "100%|██████████| 390/390 [00:09<00:00, 42.80it/s]\n",
            "100%|██████████| 79/79 [00:01<00:00, 77.34it/s]\n"
          ]
        },
        {
          "name": "stdout",
          "output_type": "stream",
          "text": [
            "Train loss:\t 1.7995265025358933\n",
            "Test loss: \t 1.8094171738322777\n",
            "Train acc: \t 0.6594551282051282\n",
            "Test acc:  \t 0.6497231012658228\n",
            "\n",
            "Epoch 7\n",
            "======================================================================\n"
          ]
        },
        {
          "name": "stderr",
          "output_type": "stream",
          "text": [
            "100%|██████████| 390/390 [00:09<00:00, 43.02it/s]\n",
            "100%|██████████| 79/79 [00:01<00:00, 73.43it/s]\n"
          ]
        },
        {
          "name": "stdout",
          "output_type": "stream",
          "text": [
            "Train loss:\t 1.7891649371538407\n",
            "Test loss: \t 1.8154863617088222\n",
            "Train acc: \t 0.6697516025641026\n",
            "Test acc:  \t 0.6437895569620253\n",
            "\n",
            "Epoch 8\n",
            "======================================================================\n"
          ]
        },
        {
          "name": "stderr",
          "output_type": "stream",
          "text": [
            "100%|██████████| 390/390 [00:09<00:00, 42.91it/s]\n",
            "100%|██████████| 79/79 [00:01<00:00, 76.90it/s]\n"
          ]
        },
        {
          "name": "stdout",
          "output_type": "stream",
          "text": [
            "Train loss:\t 1.7759864486180819\n",
            "Test loss: \t 1.778266105470778\n",
            "Train acc: \t 0.6840745192307692\n",
            "Test acc:  \t 0.6816653481012658\n",
            "\n",
            "Epoch 9\n",
            "======================================================================\n"
          ]
        },
        {
          "name": "stderr",
          "output_type": "stream",
          "text": [
            "100%|██████████| 390/390 [00:09<00:00, 42.81it/s]\n",
            "100%|██████████| 79/79 [00:01<00:00, 63.77it/s]\n"
          ]
        },
        {
          "name": "stdout",
          "output_type": "stream",
          "text": [
            "Train loss:\t 1.7645251613396864\n",
            "Test loss: \t 1.795098962663095\n",
            "Train acc: \t 0.6955729166666667\n",
            "Test acc:  \t 0.6645569620253164\n",
            "\n",
            "Epoch 10\n",
            "======================================================================\n"
          ]
        },
        {
          "name": "stderr",
          "output_type": "stream",
          "text": [
            "100%|██████████| 390/390 [00:09<00:00, 40.91it/s]\n",
            "100%|██████████| 79/79 [00:01<00:00, 68.95it/s]\n"
          ]
        },
        {
          "name": "stdout",
          "output_type": "stream",
          "text": [
            "Train loss:\t 1.7509181713446593\n",
            "Test loss: \t 1.7719309948667694\n",
            "Train acc: \t 0.7085136217948718\n",
            "Test acc:  \t 0.6877966772151899\n",
            "\n",
            "Epoch 11\n",
            "======================================================================\n"
          ]
        },
        {
          "name": "stderr",
          "output_type": "stream",
          "text": [
            "100%|██████████| 390/390 [00:09<00:00, 40.81it/s]\n",
            "100%|██████████| 79/79 [00:01<00:00, 70.46it/s]\n"
          ]
        },
        {
          "name": "stdout",
          "output_type": "stream",
          "text": [
            "Train loss:\t 1.7448682904243469\n",
            "Test loss: \t 1.7621135213707066\n",
            "Train acc: \t 0.7148637820512821\n",
            "Test acc:  \t 0.696993670886076\n",
            "\n",
            "Epoch 12\n",
            "======================================================================\n"
          ]
        },
        {
          "name": "stderr",
          "output_type": "stream",
          "text": [
            "100%|██████████| 390/390 [00:09<00:00, 42.47it/s]\n",
            "100%|██████████| 79/79 [00:01<00:00, 78.02it/s]\n"
          ]
        },
        {
          "name": "stdout",
          "output_type": "stream",
          "text": [
            "Train loss:\t 1.7366667557985356\n",
            "Test loss: \t 1.748565236224404\n",
            "Train acc: \t 0.7236177884615385\n",
            "Test acc:  \t 0.7123219936708861\n",
            "\n",
            "Epoch 13\n",
            "======================================================================\n"
          ]
        },
        {
          "name": "stderr",
          "output_type": "stream",
          "text": [
            "100%|██████████| 390/390 [00:09<00:00, 42.24it/s]\n",
            "100%|██████████| 79/79 [00:01<00:00, 70.85it/s]\n"
          ]
        },
        {
          "name": "stdout",
          "output_type": "stream",
          "text": [
            "Train loss:\t 1.7273333344704065\n",
            "Test loss: \t 1.7476696787001211\n",
            "Train acc: \t 0.7322315705128205\n",
            "Test acc:  \t 0.7123219936708861\n",
            "\n",
            "Epoch 14\n",
            "======================================================================\n"
          ]
        },
        {
          "name": "stderr",
          "output_type": "stream",
          "text": [
            "100%|██████████| 390/390 [00:09<00:00, 42.87it/s]\n",
            "100%|██████████| 79/79 [00:01<00:00, 76.64it/s]\n"
          ]
        },
        {
          "name": "stdout",
          "output_type": "stream",
          "text": [
            "Train loss:\t 1.7199287411494133\n",
            "Test loss: \t 1.7501176520238948\n",
            "Train acc: \t 0.7405248397435897\n",
            "Test acc:  \t 0.7093552215189873\n",
            "\n",
            "Epoch 15\n",
            "======================================================================\n"
          ]
        },
        {
          "name": "stderr",
          "output_type": "stream",
          "text": [
            "100%|██████████| 390/390 [00:09<00:00, 42.65it/s]\n",
            "100%|██████████| 79/79 [00:01<00:00, 65.00it/s]\n"
          ]
        },
        {
          "name": "stdout",
          "output_type": "stream",
          "text": [
            "Train loss:\t 1.7138309246454484\n",
            "Test loss: \t 1.7239814438397372\n",
            "Train acc: \t 0.7461738782051283\n",
            "Test acc:  \t 0.7355617088607594\n",
            "\n",
            "Epoch 16\n",
            "======================================================================\n"
          ]
        },
        {
          "name": "stderr",
          "output_type": "stream",
          "text": [
            "100%|██████████| 390/390 [00:09<00:00, 42.44it/s]\n",
            "100%|██████████| 79/79 [00:01<00:00, 78.01it/s] \n"
          ]
        },
        {
          "name": "stdout",
          "output_type": "stream",
          "text": [
            "Train loss:\t 1.7130688126270588\n",
            "Test loss: \t 1.727894226207009\n",
            "Train acc: \t 0.7470953525641025\n",
            "Test acc:  \t 0.7321004746835443\n",
            "\n",
            "Epoch 17\n",
            "======================================================================\n"
          ]
        },
        {
          "name": "stderr",
          "output_type": "stream",
          "text": [
            "100%|██████████| 390/390 [00:09<00:00, 42.40it/s]\n",
            "100%|██████████| 79/79 [00:01<00:00, 72.41it/s]\n"
          ]
        },
        {
          "name": "stdout",
          "output_type": "stream",
          "text": [
            "Train loss:\t 1.7061180860568315\n",
            "Test loss: \t 1.7398356319982795\n",
            "Train acc: \t 0.7536858974358974\n",
            "Test acc:  \t 0.7209256329113924\n",
            "\n",
            "Epoch 18\n",
            "======================================================================\n"
          ]
        },
        {
          "name": "stderr",
          "output_type": "stream",
          "text": [
            "100%|██████████| 390/390 [00:09<00:00, 42.05it/s]\n",
            "100%|██████████| 79/79 [00:01<00:00, 74.93it/s]\n"
          ]
        },
        {
          "name": "stdout",
          "output_type": "stream",
          "text": [
            "Train loss:\t 1.703875444485591\n",
            "Test loss: \t 1.740869532657575\n",
            "Train acc: \t 0.7555288461538462\n",
            "Test acc:  \t 0.7189477848101266\n",
            "\n",
            "Epoch 19\n",
            "======================================================================\n"
          ]
        },
        {
          "name": "stderr",
          "output_type": "stream",
          "text": [
            "100%|██████████| 390/390 [00:09<00:00, 40.70it/s]\n",
            "100%|██████████| 79/79 [00:01<00:00, 69.03it/s]\n"
          ]
        },
        {
          "name": "stdout",
          "output_type": "stream",
          "text": [
            "Train loss:\t 1.698398652749184\n",
            "Test loss: \t 1.710912909688829\n",
            "Train acc: \t 0.7616586538461538\n",
            "Test acc:  \t 0.7484177215189873\n",
            "\n",
            "Epoch 20\n",
            "======================================================================\n"
          ]
        },
        {
          "name": "stderr",
          "output_type": "stream",
          "text": [
            "100%|██████████| 390/390 [00:09<00:00, 42.38it/s]\n",
            "100%|██████████| 79/79 [00:01<00:00, 75.75it/s]\n"
          ]
        },
        {
          "name": "stdout",
          "output_type": "stream",
          "text": [
            "Train loss:\t 1.6893118497652886\n",
            "Test loss: \t 1.7131214488910724\n",
            "Train acc: \t 0.7711338141025641\n",
            "Test acc:  \t 0.7459454113924051\n",
            "\n",
            "Epoch 21\n",
            "======================================================================\n"
          ]
        },
        {
          "name": "stderr",
          "output_type": "stream",
          "text": [
            "100%|██████████| 390/390 [00:09<00:00, 42.56it/s]\n",
            "100%|██████████| 79/79 [00:01<00:00, 75.64it/s]\n"
          ]
        },
        {
          "name": "stdout",
          "output_type": "stream",
          "text": [
            "Train loss:\t 1.689722129014822\n",
            "Test loss: \t 1.7050705106952522\n",
            "Train acc: \t 0.7702724358974359\n",
            "Test acc:  \t 0.7544501582278481\n",
            "\n",
            "Epoch 22\n",
            "======================================================================\n"
          ]
        },
        {
          "name": "stderr",
          "output_type": "stream",
          "text": [
            "100%|██████████| 390/390 [00:09<00:00, 41.80it/s]\n",
            "100%|██████████| 79/79 [00:01<00:00, 74.97it/s]\n"
          ]
        },
        {
          "name": "stdout",
          "output_type": "stream",
          "text": [
            "Train loss:\t 1.6821131687897903\n",
            "Test loss: \t 1.703512131413327\n",
            "Train acc: \t 0.7781650641025641\n",
            "Test acc:  \t 0.7566257911392406\n",
            "\n",
            "Epoch 23\n",
            "======================================================================\n"
          ]
        },
        {
          "name": "stderr",
          "output_type": "stream",
          "text": [
            "100%|██████████| 390/390 [00:09<00:00, 42.61it/s]\n",
            "100%|██████████| 79/79 [00:01<00:00, 69.54it/s]\n"
          ]
        },
        {
          "name": "stdout",
          "output_type": "stream",
          "text": [
            "Train loss:\t 1.6771417938745938\n",
            "Test loss: \t 1.7156873262381251\n",
            "Train acc: \t 0.7830128205128205\n",
            "Test acc:  \t 0.7443631329113924\n",
            "\n",
            "Epoch 24\n",
            "======================================================================\n"
          ]
        },
        {
          "name": "stderr",
          "output_type": "stream",
          "text": [
            "100%|██████████| 390/390 [00:09<00:00, 42.09it/s]\n",
            "100%|██████████| 79/79 [00:01<00:00, 67.49it/s]\n"
          ]
        },
        {
          "name": "stdout",
          "output_type": "stream",
          "text": [
            "Train loss:\t 1.6716810547388516\n",
            "Test loss: \t 1.7094777550878404\n",
            "Train acc: \t 0.7887620192307693\n",
            "Test acc:  \t 0.7504944620253164\n",
            "\n",
            "Epoch 25\n",
            "======================================================================\n"
          ]
        },
        {
          "name": "stderr",
          "output_type": "stream",
          "text": [
            "100%|██████████| 390/390 [00:09<00:00, 41.84it/s]\n",
            "100%|██████████| 79/79 [00:01<00:00, 76.61it/s]\n"
          ]
        },
        {
          "name": "stdout",
          "output_type": "stream",
          "text": [
            "Train loss:\t 1.6736704111099243\n",
            "Test loss: \t 1.7027210766756082\n",
            "Train acc: \t 0.7865785256410256\n",
            "Test acc:  \t 0.7574169303797469\n",
            "\n",
            "Epoch 26\n",
            "======================================================================\n"
          ]
        },
        {
          "name": "stderr",
          "output_type": "stream",
          "text": [
            "100%|██████████| 390/390 [00:09<00:00, 42.82it/s]\n",
            "100%|██████████| 79/79 [00:01<00:00, 76.57it/s]\n"
          ]
        },
        {
          "name": "stdout",
          "output_type": "stream",
          "text": [
            "Train loss:\t 1.667214057690058\n",
            "Test loss: \t 1.6866354383999789\n",
            "Train acc: \t 0.7929286858974359\n",
            "Test acc:  \t 0.7726463607594937\n",
            "\n",
            "Epoch 27\n",
            "======================================================================\n"
          ]
        },
        {
          "name": "stderr",
          "output_type": "stream",
          "text": [
            "100%|██████████| 390/390 [00:09<00:00, 42.73it/s]\n",
            "100%|██████████| 79/79 [00:01<00:00, 76.67it/s]\n"
          ]
        },
        {
          "name": "stdout",
          "output_type": "stream",
          "text": [
            "Train loss:\t 1.660606111624302\n",
            "Test loss: \t 1.7032338199736197\n",
            "Train acc: \t 0.7997596153846154\n",
            "Test acc:  \t 0.7565268987341772\n",
            "\n",
            "Epoch 28\n",
            "======================================================================\n"
          ]
        },
        {
          "name": "stderr",
          "output_type": "stream",
          "text": [
            "100%|██████████| 390/390 [00:09<00:00, 42.70it/s]\n",
            "100%|██████████| 79/79 [00:01<00:00, 76.85it/s]\n"
          ]
        },
        {
          "name": "stdout",
          "output_type": "stream",
          "text": [
            "Train loss:\t 1.6618988101298993\n",
            "Test loss: \t 1.699610225761993\n",
            "Train acc: \t 0.7984174679487179\n",
            "Test acc:  \t 0.7599881329113924\n",
            "\n",
            "Epoch 29\n",
            "======================================================================\n"
          ]
        },
        {
          "name": "stderr",
          "output_type": "stream",
          "text": [
            "100%|██████████| 390/390 [00:09<00:00, 42.85it/s]\n",
            "100%|██████████| 79/79 [00:01<00:00, 78.34it/s] \n"
          ]
        },
        {
          "name": "stdout",
          "output_type": "stream",
          "text": [
            "Train loss:\t 1.65953539732175\n",
            "Test loss: \t 1.6800172238410274\n",
            "Train acc: \t 0.8006410256410257\n",
            "Test acc:  \t 0.7804588607594937\n",
            "\n",
            "Epoch 30\n",
            "======================================================================\n"
          ]
        },
        {
          "name": "stderr",
          "output_type": "stream",
          "text": [
            "100%|██████████| 390/390 [00:09<00:00, 42.86it/s]\n",
            "100%|██████████| 79/79 [00:01<00:00, 76.85it/s]\n"
          ]
        },
        {
          "name": "stdout",
          "output_type": "stream",
          "text": [
            "Train loss:\t 1.6603035584474222\n",
            "Test loss: \t 1.6868343383451052\n",
            "Train acc: \t 0.8002403846153846\n",
            "Test acc:  \t 0.7725474683544303\n",
            "\n",
            "Epoch 31\n",
            "======================================================================\n"
          ]
        },
        {
          "name": "stderr",
          "output_type": "stream",
          "text": [
            "100%|██████████| 390/390 [00:09<00:00, 42.85it/s]\n",
            "100%|██████████| 79/79 [00:01<00:00, 74.52it/s]\n"
          ]
        },
        {
          "name": "stdout",
          "output_type": "stream",
          "text": [
            "Train loss:\t 1.659096677486713\n",
            "Test loss: \t 1.6790497665163837\n",
            "Train acc: \t 0.8009415064102564\n",
            "Test acc:  \t 0.7814477848101266\n",
            "\n",
            "Epoch 32\n",
            "======================================================================\n"
          ]
        },
        {
          "name": "stderr",
          "output_type": "stream",
          "text": [
            "100%|██████████| 390/390 [00:09<00:00, 42.89it/s]\n",
            "100%|██████████| 79/79 [00:01<00:00, 68.64it/s]\n"
          ]
        },
        {
          "name": "stdout",
          "output_type": "stream",
          "text": [
            "Train loss:\t 1.6464436216232103\n",
            "Test loss: \t 1.6872348800490173\n",
            "Train acc: \t 0.814022435897436\n",
            "Test acc:  \t 0.7738330696202531\n",
            "\n",
            "Epoch 33\n",
            "======================================================================\n"
          ]
        },
        {
          "name": "stderr",
          "output_type": "stream",
          "text": [
            "100%|██████████| 390/390 [00:09<00:00, 42.75it/s]\n",
            "100%|██████████| 79/79 [00:01<00:00, 76.68it/s] \n"
          ]
        },
        {
          "name": "stdout",
          "output_type": "stream",
          "text": [
            "Train loss:\t 1.6519184751388354\n",
            "Test loss: \t 1.6829822169074529\n",
            "Train acc: \t 0.8087540064102564\n",
            "Test acc:  \t 0.7767998417721519\n",
            "\n",
            "Epoch 34\n",
            "======================================================================\n"
          ]
        },
        {
          "name": "stderr",
          "output_type": "stream",
          "text": [
            "100%|██████████| 390/390 [00:09<00:00, 43.03it/s]\n",
            "100%|██████████| 79/79 [00:01<00:00, 77.24it/s]\n"
          ]
        },
        {
          "name": "stdout",
          "output_type": "stream",
          "text": [
            "Train loss:\t 1.6475143808584947\n",
            "Test loss: \t 1.6837524311451972\n",
            "Train acc: \t 0.8127203525641026\n",
            "Test acc:  \t 0.7766020569620253\n",
            "\n",
            "Epoch 35\n",
            "======================================================================\n"
          ]
        },
        {
          "name": "stderr",
          "output_type": "stream",
          "text": [
            "100%|██████████| 390/390 [00:09<00:00, 39.95it/s]\n",
            "100%|██████████| 79/79 [00:01<00:00, 72.21it/s]\n"
          ]
        },
        {
          "name": "stdout",
          "output_type": "stream",
          "text": [
            "Train loss:\t 1.6470302942471626\n",
            "Test loss: \t 1.7125463244281238\n",
            "Train acc: \t 0.8135016025641025\n",
            "Test acc:  \t 0.746934335443038\n",
            "\n",
            "Epoch 36\n",
            "======================================================================\n"
          ]
        },
        {
          "name": "stderr",
          "output_type": "stream",
          "text": [
            "100%|██████████| 390/390 [00:09<00:00, 41.03it/s]\n",
            "100%|██████████| 79/79 [00:01<00:00, 75.09it/s]\n"
          ]
        },
        {
          "name": "stdout",
          "output_type": "stream",
          "text": [
            "Train loss:\t 1.645406472682953\n",
            "Test loss: \t 1.6746936779987962\n",
            "Train acc: \t 0.8153445512820513\n",
            "Test acc:  \t 0.7854034810126582\n",
            "\n",
            "Epoch 37\n",
            "======================================================================\n"
          ]
        },
        {
          "name": "stderr",
          "output_type": "stream",
          "text": [
            "100%|██████████| 390/390 [00:09<00:00, 42.83it/s]\n",
            "100%|██████████| 79/79 [00:01<00:00, 77.17it/s]\n"
          ]
        },
        {
          "name": "stdout",
          "output_type": "stream",
          "text": [
            "Train loss:\t 1.6412017305692037\n",
            "Test loss: \t 1.6858750415753714\n",
            "Train acc: \t 0.8193910256410256\n",
            "Test acc:  \t 0.7744264240506329\n",
            "\n",
            "Epoch 38\n",
            "======================================================================\n"
          ]
        },
        {
          "name": "stderr",
          "output_type": "stream",
          "text": [
            "100%|██████████| 390/390 [00:09<00:00, 42.93it/s]\n",
            "100%|██████████| 79/79 [00:01<00:00, 77.09it/s] \n"
          ]
        },
        {
          "name": "stdout",
          "output_type": "stream",
          "text": [
            "Train loss:\t 1.6391550660133363\n",
            "Test loss: \t 1.6748883286608924\n",
            "Train acc: \t 0.8213141025641025\n",
            "Test acc:  \t 0.7855023734177216\n",
            "\n",
            "Epoch 39\n",
            "======================================================================\n"
          ]
        },
        {
          "name": "stderr",
          "output_type": "stream",
          "text": [
            "100%|██████████| 390/390 [00:09<00:00, 42.85it/s]\n",
            "100%|██████████| 79/79 [00:01<00:00, 73.83it/s]\n"
          ]
        },
        {
          "name": "stdout",
          "output_type": "stream",
          "text": [
            "Train loss:\t 1.638708449021364\n",
            "Test loss: \t 1.6791599249537987\n",
            "Train acc: \t 0.8211939102564103\n",
            "Test acc:  \t 0.7814477848101266\n",
            "\n",
            "Epoch 40\n",
            "======================================================================\n"
          ]
        },
        {
          "name": "stderr",
          "output_type": "stream",
          "text": [
            "100%|██████████| 390/390 [00:09<00:00, 42.98it/s]\n",
            "100%|██████████| 79/79 [00:01<00:00, 73.67it/s]\n"
          ]
        },
        {
          "name": "stdout",
          "output_type": "stream",
          "text": [
            "Train loss:\t 1.6352240094771753\n",
            "Test loss: \t 1.6809857449954069\n",
            "Train acc: \t 0.8252203525641025\n",
            "Test acc:  \t 0.7792721518987342\n",
            "\n",
            "Epoch 41\n",
            "======================================================================\n"
          ]
        },
        {
          "name": "stderr",
          "output_type": "stream",
          "text": [
            "100%|██████████| 390/390 [00:09<00:00, 42.99it/s]\n",
            "100%|██████████| 79/79 [00:01<00:00, 78.26it/s]\n"
          ]
        },
        {
          "name": "stdout",
          "output_type": "stream",
          "text": [
            "Train loss:\t 1.6352824146930989\n",
            "Test loss: \t 1.6806155247024344\n",
            "Train acc: \t 0.8252403846153846\n",
            "Test acc:  \t 0.7793710443037974\n",
            "\n",
            "Epoch 42\n",
            "======================================================================\n"
          ]
        },
        {
          "name": "stderr",
          "output_type": "stream",
          "text": [
            "100%|██████████| 390/390 [00:09<00:00, 42.97it/s]\n",
            "100%|██████████| 79/79 [00:01<00:00, 77.20it/s]\n"
          ]
        },
        {
          "name": "stdout",
          "output_type": "stream",
          "text": [
            "Train loss:\t 1.6341204612683027\n",
            "Test loss: \t 1.6717325660246838\n",
            "Train acc: \t 0.826181891025641\n",
            "Test acc:  \t 0.7890625\n",
            "\n",
            "Epoch 43\n",
            "======================================================================\n"
          ]
        },
        {
          "name": "stderr",
          "output_type": "stream",
          "text": [
            "100%|██████████| 390/390 [00:09<00:00, 42.57it/s]\n",
            "100%|██████████| 79/79 [00:01<00:00, 77.68it/s]\n"
          ]
        },
        {
          "name": "stdout",
          "output_type": "stream",
          "text": [
            "Train loss:\t 1.6307740859496287\n",
            "Test loss: \t 1.6869487777540955\n",
            "Train acc: \t 0.8295673076923077\n",
            "Test acc:  \t 0.7734375\n",
            "\n",
            "Epoch 44\n",
            "======================================================================\n"
          ]
        },
        {
          "name": "stderr",
          "output_type": "stream",
          "text": [
            "100%|██████████| 390/390 [00:09<00:00, 42.90it/s]\n",
            "100%|██████████| 79/79 [00:01<00:00, 78.19it/s] \n"
          ]
        },
        {
          "name": "stdout",
          "output_type": "stream",
          "text": [
            "Train loss:\t 1.6306630128469222\n",
            "Test loss: \t 1.6670675368248662\n",
            "Train acc: \t 0.8301883012820512\n",
            "Test acc:  \t 0.7940071202531646\n",
            "\n",
            "Epoch 45\n",
            "======================================================================\n"
          ]
        },
        {
          "name": "stderr",
          "output_type": "stream",
          "text": [
            "100%|██████████| 390/390 [00:09<00:00, 42.99it/s]\n",
            "100%|██████████| 79/79 [00:01<00:00, 77.22it/s]\n"
          ]
        },
        {
          "name": "stdout",
          "output_type": "stream",
          "text": [
            "Train loss:\t 1.6297801522108224\n",
            "Test loss: \t 1.6683629419230208\n",
            "Train acc: \t 0.8309294871794872\n",
            "Test acc:  \t 0.7929193037974683\n",
            "\n",
            "Epoch 46\n",
            "======================================================================\n"
          ]
        },
        {
          "name": "stderr",
          "output_type": "stream",
          "text": [
            "100%|██████████| 390/390 [00:09<00:00, 42.75it/s]\n",
            "100%|██████████| 79/79 [00:01<00:00, 76.72it/s]\n"
          ]
        },
        {
          "name": "stdout",
          "output_type": "stream",
          "text": [
            "Train loss:\t 1.627737388244042\n",
            "Test loss: \t 1.6647638957711715\n",
            "Train acc: \t 0.832832532051282\n",
            "Test acc:  \t 0.7958860759493671\n",
            "\n",
            "Epoch 47\n",
            "======================================================================\n"
          ]
        },
        {
          "name": "stderr",
          "output_type": "stream",
          "text": [
            "100%|██████████| 390/390 [00:09<00:00, 42.82it/s]\n",
            "100%|██████████| 79/79 [00:01<00:00, 74.51it/s]\n"
          ]
        },
        {
          "name": "stdout",
          "output_type": "stream",
          "text": [
            "Train loss:\t 1.6225464215645424\n",
            "Test loss: \t 1.6682143211364746\n",
            "Train acc: \t 0.8379807692307693\n",
            "Test acc:  \t 0.7920292721518988\n",
            "\n",
            "Epoch 48\n",
            "======================================================================\n"
          ]
        },
        {
          "name": "stderr",
          "output_type": "stream",
          "text": [
            "100%|██████████| 390/390 [00:09<00:00, 42.85it/s]\n",
            "100%|██████████| 79/79 [00:01<00:00, 77.97it/s] \n"
          ]
        },
        {
          "name": "stdout",
          "output_type": "stream",
          "text": [
            "Train loss:\t 1.6233094643323849\n",
            "Test loss: \t 1.651489798026749\n",
            "Train acc: \t 0.837459935897436\n",
            "Test acc:  \t 0.8097310126582279\n",
            "\n",
            "Epoch 49\n",
            "======================================================================\n"
          ]
        },
        {
          "name": "stderr",
          "output_type": "stream",
          "text": [
            "100%|██████████| 390/390 [00:09<00:00, 42.87it/s]\n",
            "100%|██████████| 79/79 [00:01<00:00, 76.59it/s]\n"
          ]
        },
        {
          "name": "stdout",
          "output_type": "stream",
          "text": [
            "Train loss:\t 1.6195912972474709\n",
            "Test loss: \t 1.657570330402519\n",
            "Train acc: \t 0.8410056089743589\n",
            "Test acc:  \t 0.8031052215189873\n"
          ]
        }
      ],
      "source": [
        "# Membuat instance dari kelas MyModel\n",
        "model = MyModel(len(CIFARSample.label_to_str), use_swish=False, loss_unit=\"crossentropy\", optimizer_name=\"Lion2\")\n",
        "\n",
        "# Melatih model\n",
        "model.train(train_loader, test_loader, max_epoch=50)\n",
        "results7 = model.results"
      ]
    },
    {
      "attachments": {},
      "cell_type": "markdown",
      "metadata": {
        "id": "eCgAZ4PYGuTn"
      },
      "source": [
        "#### Try All Optimizer (Using Adam Optimizer First)"
      ]
    },
    {
      "cell_type": "code",
      "execution_count": null,
      "metadata": {
        "colab": {
          "base_uri": "https://localhost:8080/"
        },
        "id": "rBoCevslGl_n",
        "outputId": "3dccd05a-6212-4061-b871-9d2ffd5c3027"
      },
      "outputs": [
        {
          "name": "stdout",
          "output_type": "stream",
          "text": [
            "\n",
            "Epoch 0\n",
            "======================================================================\n"
          ]
        },
        {
          "name": "stderr",
          "output_type": "stream",
          "text": [
            "100%|██████████| 390/390 [00:10<00:00, 37.68it/s]\n",
            "100%|██████████| 79/79 [00:01<00:00, 73.16it/s]\n"
          ]
        },
        {
          "name": "stdout",
          "output_type": "stream",
          "text": [
            "Train loss:\t 2.0590275229551853\n",
            "Test loss: \t 1.9950844834122476\n",
            "Train acc: \t 0.397275641025641\n",
            "Test acc:  \t 0.4572784810126582\n",
            "\n",
            "Epoch 1\n",
            "======================================================================\n"
          ]
        },
        {
          "name": "stderr",
          "output_type": "stream",
          "text": [
            "100%|██████████| 390/390 [00:10<00:00, 37.89it/s]\n",
            "100%|██████████| 79/79 [00:01<00:00, 70.74it/s]\n"
          ]
        },
        {
          "name": "stdout",
          "output_type": "stream",
          "text": [
            "Train loss:\t 1.923273945771731\n",
            "Test loss: \t 1.9259787707389155\n",
            "Train acc: \t 0.5354166666666667\n",
            "Test acc:  \t 0.5324367088607594\n",
            "\n",
            "Epoch 2\n",
            "======================================================================\n"
          ]
        },
        {
          "name": "stderr",
          "output_type": "stream",
          "text": [
            "100%|██████████| 390/390 [00:10<00:00, 37.77it/s]\n",
            "100%|██████████| 79/79 [00:01<00:00, 72.76it/s]\n"
          ]
        },
        {
          "name": "stdout",
          "output_type": "stream",
          "text": [
            "Train loss:\t 1.867741158986703\n",
            "Test loss: \t 1.8441979266420196\n",
            "Train acc: \t 0.5907852564102564\n",
            "Test acc:  \t 0.6147151898734177\n",
            "\n",
            "Epoch 3\n",
            "======================================================================\n"
          ]
        },
        {
          "name": "stderr",
          "output_type": "stream",
          "text": [
            "100%|██████████| 390/390 [00:10<00:00, 37.87it/s]\n",
            "100%|██████████| 79/79 [00:01<00:00, 73.70it/s]\n"
          ]
        },
        {
          "name": "stdout",
          "output_type": "stream",
          "text": [
            "Train loss:\t 1.8328964025546344\n",
            "Test loss: \t 1.8258033975770203\n",
            "Train acc: \t 0.6266426282051282\n",
            "Test acc:  \t 0.6326147151898734\n",
            "\n",
            "Epoch 4\n",
            "======================================================================\n"
          ]
        },
        {
          "name": "stderr",
          "output_type": "stream",
          "text": [
            "100%|██████████| 390/390 [00:10<00:00, 37.90it/s]\n",
            "100%|██████████| 79/79 [00:01<00:00, 71.10it/s]\n"
          ]
        },
        {
          "name": "stdout",
          "output_type": "stream",
          "text": [
            "Train loss:\t 1.8041542444473657\n",
            "Test loss: \t 1.8260975834689563\n",
            "Train acc: \t 0.6549278846153846\n",
            "Test acc:  \t 0.6323180379746836\n",
            "\n",
            "Epoch 5\n",
            "======================================================================\n"
          ]
        },
        {
          "name": "stderr",
          "output_type": "stream",
          "text": [
            "100%|██████████| 390/390 [00:10<00:00, 37.84it/s]\n",
            "100%|██████████| 79/79 [00:01<00:00, 72.35it/s]\n"
          ]
        },
        {
          "name": "stdout",
          "output_type": "stream",
          "text": [
            "Train loss:\t 1.7836343642992851\n",
            "Test loss: \t 1.8025480388086053\n",
            "Train acc: \t 0.6760416666666667\n",
            "Test acc:  \t 0.6574367088607594\n",
            "\n",
            "Epoch 6\n",
            "======================================================================\n"
          ]
        },
        {
          "name": "stderr",
          "output_type": "stream",
          "text": [
            "100%|██████████| 390/390 [00:10<00:00, 37.91it/s]\n",
            "100%|██████████| 79/79 [00:01<00:00, 69.31it/s]\n"
          ]
        },
        {
          "name": "stdout",
          "output_type": "stream",
          "text": [
            "Train loss:\t 1.7660103244659229\n",
            "Test loss: \t 1.8162489661687538\n",
            "Train acc: \t 0.6924879807692308\n",
            "Test acc:  \t 0.6430973101265823\n",
            "\n",
            "Epoch 7\n",
            "======================================================================\n"
          ]
        },
        {
          "name": "stderr",
          "output_type": "stream",
          "text": [
            "100%|██████████| 390/390 [00:10<00:00, 37.74it/s]\n",
            "100%|██████████| 79/79 [00:01<00:00, 71.09it/s]\n"
          ]
        },
        {
          "name": "stdout",
          "output_type": "stream",
          "text": [
            "Train loss:\t 1.753439456377274\n",
            "Test loss: \t 1.7603483939472633\n",
            "Train acc: \t 0.7065705128205129\n",
            "Test acc:  \t 0.6989715189873418\n",
            "\n",
            "Epoch 8\n",
            "======================================================================\n"
          ]
        },
        {
          "name": "stderr",
          "output_type": "stream",
          "text": [
            "100%|██████████| 390/390 [00:10<00:00, 37.98it/s]\n",
            "100%|██████████| 79/79 [00:01<00:00, 69.78it/s]\n"
          ]
        },
        {
          "name": "stdout",
          "output_type": "stream",
          "text": [
            "Train loss:\t 1.7368363588284224\n",
            "Test loss: \t 1.757579337192487\n",
            "Train acc: \t 0.7230568910256411\n",
            "Test acc:  \t 0.7026305379746836\n",
            "\n",
            "Epoch 9\n",
            "======================================================================\n"
          ]
        },
        {
          "name": "stderr",
          "output_type": "stream",
          "text": [
            "100%|██████████| 390/390 [00:10<00:00, 37.90it/s]\n",
            "100%|██████████| 79/79 [00:01<00:00, 69.54it/s]\n"
          ]
        },
        {
          "name": "stdout",
          "output_type": "stream",
          "text": [
            "Train loss:\t 1.7266273440458835\n",
            "Test loss: \t 1.7476829064043262\n",
            "Train acc: \t 0.7331530448717949\n",
            "Test acc:  \t 0.7129153481012658\n",
            "\n",
            "Epoch 10\n",
            "======================================================================\n"
          ]
        },
        {
          "name": "stderr",
          "output_type": "stream",
          "text": [
            "100%|██████████| 390/390 [00:10<00:00, 37.89it/s]\n",
            "100%|██████████| 79/79 [00:01<00:00, 70.12it/s]\n"
          ]
        },
        {
          "name": "stdout",
          "output_type": "stream",
          "text": [
            "Train loss:\t 1.719132547500806\n",
            "Test loss: \t 1.740087723430199\n",
            "Train acc: \t 0.7409855769230769\n",
            "Test acc:  \t 0.7190466772151899\n",
            "\n",
            "Epoch 11\n",
            "======================================================================\n"
          ]
        },
        {
          "name": "stderr",
          "output_type": "stream",
          "text": [
            "100%|██████████| 390/390 [00:10<00:00, 37.97it/s]\n",
            "100%|██████████| 79/79 [00:01<00:00, 70.16it/s]\n"
          ]
        },
        {
          "name": "stdout",
          "output_type": "stream",
          "text": [
            "Train loss:\t 1.712156911385365\n",
            "Test loss: \t 1.723149672339234\n",
            "Train acc: \t 0.747676282051282\n",
            "Test acc:  \t 0.7370450949367089\n",
            "\n",
            "Epoch 12\n",
            "======================================================================\n"
          ]
        },
        {
          "name": "stderr",
          "output_type": "stream",
          "text": [
            "100%|██████████| 390/390 [00:10<00:00, 37.93it/s]\n",
            "100%|██████████| 79/79 [00:01<00:00, 73.61it/s]\n"
          ]
        },
        {
          "name": "stdout",
          "output_type": "stream",
          "text": [
            "Train loss:\t 1.7016203360679822\n",
            "Test loss: \t 1.7223952148534074\n",
            "Train acc: \t 0.7588141025641025\n",
            "Test acc:  \t 0.7369462025316456\n",
            "\n",
            "Epoch 13\n",
            "======================================================================\n"
          ]
        },
        {
          "name": "stderr",
          "output_type": "stream",
          "text": [
            "100%|██████████| 390/390 [00:10<00:00, 37.90it/s]\n",
            "100%|██████████| 79/79 [00:01<00:00, 71.98it/s]\n"
          ]
        },
        {
          "name": "stdout",
          "output_type": "stream",
          "text": [
            "Train loss:\t 1.6989391192411765\n",
            "Test loss: \t 1.7186566380005848\n",
            "Train acc: \t 0.7614583333333333\n",
            "Test acc:  \t 0.7413963607594937\n",
            "\n",
            "Epoch 14\n",
            "======================================================================\n"
          ]
        },
        {
          "name": "stderr",
          "output_type": "stream",
          "text": [
            "100%|██████████| 390/390 [00:10<00:00, 37.91it/s]\n",
            "100%|██████████| 79/79 [00:01<00:00, 72.58it/s]\n"
          ]
        },
        {
          "name": "stdout",
          "output_type": "stream",
          "text": [
            "Train loss:\t 1.689188315318181\n",
            "Test loss: \t 1.6998603691028644\n",
            "Train acc: \t 0.7709134615384615\n",
            "Test acc:  \t 0.7614715189873418\n",
            "\n",
            "Epoch 15\n",
            "======================================================================\n"
          ]
        },
        {
          "name": "stderr",
          "output_type": "stream",
          "text": [
            "100%|██████████| 390/390 [00:10<00:00, 37.99it/s]\n",
            "100%|██████████| 79/79 [00:01<00:00, 71.51it/s]\n"
          ]
        },
        {
          "name": "stdout",
          "output_type": "stream",
          "text": [
            "Train loss:\t 1.6853616145940928\n",
            "Test loss: \t 1.6995365136786351\n",
            "Train acc: \t 0.7750801282051282\n",
            "Test acc:  \t 0.7603837025316456\n",
            "\n",
            "Epoch 16\n",
            "======================================================================\n"
          ]
        },
        {
          "name": "stderr",
          "output_type": "stream",
          "text": [
            "100%|██████████| 390/390 [00:10<00:00, 37.84it/s]\n",
            "100%|██████████| 79/79 [00:01<00:00, 72.91it/s]\n"
          ]
        },
        {
          "name": "stdout",
          "output_type": "stream",
          "text": [
            "Train loss:\t 1.6815156273352794\n",
            "Test loss: \t 1.698375481593458\n",
            "Train acc: \t 0.778926282051282\n",
            "Test acc:  \t 0.7615704113924051\n",
            "\n",
            "Epoch 17\n",
            "======================================================================\n"
          ]
        },
        {
          "name": "stderr",
          "output_type": "stream",
          "text": [
            "100%|██████████| 390/390 [00:10<00:00, 37.84it/s]\n",
            "100%|██████████| 79/79 [00:01<00:00, 71.66it/s]\n"
          ]
        },
        {
          "name": "stdout",
          "output_type": "stream",
          "text": [
            "Train loss:\t 1.673242753285628\n",
            "Test loss: \t 1.7028959551944007\n",
            "Train acc: \t 0.7868990384615384\n",
            "Test acc:  \t 0.7580102848101266\n",
            "\n",
            "Epoch 18\n",
            "======================================================================\n"
          ]
        },
        {
          "name": "stderr",
          "output_type": "stream",
          "text": [
            "100%|██████████| 390/390 [00:10<00:00, 37.87it/s]\n",
            "100%|██████████| 79/79 [00:01<00:00, 72.80it/s]\n"
          ]
        },
        {
          "name": "stdout",
          "output_type": "stream",
          "text": [
            "Train loss:\t 1.6712632093674098\n",
            "Test loss: \t 1.6997712141350856\n",
            "Train acc: \t 0.7890424679487179\n",
            "Test acc:  \t 0.7600870253164557\n",
            "\n",
            "Epoch 19\n",
            "======================================================================\n"
          ]
        },
        {
          "name": "stderr",
          "output_type": "stream",
          "text": [
            "100%|██████████| 390/390 [00:10<00:00, 37.82it/s]\n",
            "100%|██████████| 79/79 [00:01<00:00, 73.68it/s]\n"
          ]
        },
        {
          "name": "stdout",
          "output_type": "stream",
          "text": [
            "Train loss:\t 1.6673948740347837\n",
            "Test loss: \t 1.6859053720401813\n",
            "Train acc: \t 0.7932692307692307\n",
            "Test acc:  \t 0.7726463607594937\n",
            "\n",
            "Epoch 20\n",
            "======================================================================\n"
          ]
        },
        {
          "name": "stderr",
          "output_type": "stream",
          "text": [
            "100%|██████████| 390/390 [00:10<00:00, 37.88it/s]\n",
            "100%|██████████| 79/79 [00:01<00:00, 73.73it/s]\n"
          ]
        },
        {
          "name": "stdout",
          "output_type": "stream",
          "text": [
            "Train loss:\t 1.6599908828735352\n",
            "Test loss: \t 1.68608820438385\n",
            "Train acc: \t 0.7998597756410256\n",
            "Test acc:  \t 0.7750197784810127\n",
            "\n",
            "Epoch 21\n",
            "======================================================================\n"
          ]
        },
        {
          "name": "stderr",
          "output_type": "stream",
          "text": [
            "100%|██████████| 390/390 [00:10<00:00, 37.90it/s]\n",
            "100%|██████████| 79/79 [00:01<00:00, 73.02it/s]\n"
          ]
        },
        {
          "name": "stdout",
          "output_type": "stream",
          "text": [
            "Train loss:\t 1.6586691639362237\n",
            "Test loss: \t 1.6895399335064465\n",
            "Train acc: \t 0.8017227564102564\n",
            "Test acc:  \t 0.7707674050632911\n",
            "\n",
            "Epoch 22\n",
            "======================================================================\n"
          ]
        },
        {
          "name": "stderr",
          "output_type": "stream",
          "text": [
            "100%|██████████| 390/390 [00:10<00:00, 37.90it/s]\n",
            "100%|██████████| 79/79 [00:01<00:00, 75.41it/s]\n"
          ]
        },
        {
          "name": "stdout",
          "output_type": "stream",
          "text": [
            "Train loss:\t 1.6515600366470142\n",
            "Test loss: \t 1.7081029430220398\n",
            "Train acc: \t 0.8092948717948718\n",
            "Test acc:  \t 0.7515822784810127\n",
            "\n",
            "Epoch 23\n",
            "======================================================================\n"
          ]
        },
        {
          "name": "stderr",
          "output_type": "stream",
          "text": [
            "100%|██████████| 390/390 [00:10<00:00, 38.01it/s]\n",
            "100%|██████████| 79/79 [00:01<00:00, 74.38it/s]\n"
          ]
        },
        {
          "name": "stdout",
          "output_type": "stream",
          "text": [
            "Train loss:\t 1.6519584628251882\n",
            "Test loss: \t 1.6672467928898485\n",
            "Train acc: \t 0.8084334935897436\n",
            "Test acc:  \t 0.7930181962025317\n",
            "\n",
            "Epoch 24\n",
            "======================================================================\n"
          ]
        },
        {
          "name": "stderr",
          "output_type": "stream",
          "text": [
            "100%|██████████| 390/390 [00:10<00:00, 37.91it/s]\n",
            "100%|██████████| 79/79 [00:01<00:00, 75.29it/s]\n"
          ]
        },
        {
          "name": "stdout",
          "output_type": "stream",
          "text": [
            "Train loss:\t 1.647787238084353\n",
            "Test loss: \t 1.6907088560394095\n",
            "Train acc: \t 0.8126001602564102\n",
            "Test acc:  \t 0.7691851265822784\n",
            "\n",
            "Epoch 25\n",
            "======================================================================\n"
          ]
        },
        {
          "name": "stderr",
          "output_type": "stream",
          "text": [
            "100%|██████████| 390/390 [00:10<00:00, 38.05it/s]\n",
            "100%|██████████| 79/79 [00:01<00:00, 74.33it/s]\n"
          ]
        },
        {
          "name": "stdout",
          "output_type": "stream",
          "text": [
            "Train loss:\t 1.6463334966928531\n",
            "Test loss: \t 1.6665839077551154\n",
            "Train acc: \t 0.8139623397435898\n",
            "Test acc:  \t 0.7943037974683544\n",
            "\n",
            "Epoch 26\n",
            "======================================================================\n"
          ]
        },
        {
          "name": "stderr",
          "output_type": "stream",
          "text": [
            "100%|██████████| 390/390 [00:10<00:00, 37.95it/s]\n",
            "100%|██████████| 79/79 [00:01<00:00, 74.16it/s]\n"
          ]
        },
        {
          "name": "stdout",
          "output_type": "stream",
          "text": [
            "Train loss:\t 1.6376165836285321\n",
            "Test loss: \t 1.662529628488082\n",
            "Train acc: \t 0.8233573717948718\n",
            "Test acc:  \t 0.7976661392405063\n",
            "\n",
            "Epoch 27\n",
            "======================================================================\n"
          ]
        },
        {
          "name": "stderr",
          "output_type": "stream",
          "text": [
            "100%|██████████| 390/390 [00:10<00:00, 37.82it/s]\n",
            "100%|██████████| 79/79 [00:01<00:00, 74.42it/s]\n"
          ]
        },
        {
          "name": "stdout",
          "output_type": "stream",
          "text": [
            "Train loss:\t 1.6418868987988202\n",
            "Test loss: \t 1.6788734740848783\n",
            "Train acc: \t 0.8183894230769231\n",
            "Test acc:  \t 0.7814477848101266\n",
            "\n",
            "Epoch 28\n",
            "======================================================================\n"
          ]
        },
        {
          "name": "stderr",
          "output_type": "stream",
          "text": [
            "100%|██████████| 390/390 [00:10<00:00, 37.92it/s]\n",
            "100%|██████████| 79/79 [00:01<00:00, 74.53it/s]\n"
          ]
        },
        {
          "name": "stdout",
          "output_type": "stream",
          "text": [
            "Train loss:\t 1.633271338083805\n",
            "Test loss: \t 1.6683422191233575\n",
            "Train acc: \t 0.82734375\n",
            "Test acc:  \t 0.7918314873417721\n",
            "\n",
            "Epoch 29\n",
            "======================================================================\n"
          ]
        },
        {
          "name": "stderr",
          "output_type": "stream",
          "text": [
            "100%|██████████| 390/390 [00:10<00:00, 38.00it/s]\n",
            "100%|██████████| 79/79 [00:01<00:00, 74.77it/s]\n"
          ]
        },
        {
          "name": "stdout",
          "output_type": "stream",
          "text": [
            "Train loss:\t 1.628877071845226\n",
            "Test loss: \t 1.673618816122224\n",
            "Train acc: \t 0.8320713141025641\n",
            "Test acc:  \t 0.7869857594936709\n",
            "\n",
            "Epoch 30\n",
            "======================================================================\n"
          ]
        },
        {
          "name": "stderr",
          "output_type": "stream",
          "text": [
            "100%|██████████| 390/390 [00:10<00:00, 37.95it/s]\n",
            "100%|██████████| 79/79 [00:01<00:00, 74.73it/s]\n"
          ]
        },
        {
          "name": "stdout",
          "output_type": "stream",
          "text": [
            "Train loss:\t 1.6276566343429761\n",
            "Test loss: \t 1.6663699059546748\n",
            "Train acc: \t 0.8326121794871795\n",
            "Test acc:  \t 0.7933148734177216\n",
            "\n",
            "Epoch 31\n",
            "======================================================================\n"
          ]
        },
        {
          "name": "stderr",
          "output_type": "stream",
          "text": [
            "100%|██████████| 390/390 [00:10<00:00, 37.89it/s]\n",
            "100%|██████████| 79/79 [00:01<00:00, 73.99it/s]\n"
          ]
        },
        {
          "name": "stdout",
          "output_type": "stream",
          "text": [
            "Train loss:\t 1.629929581972269\n",
            "Test loss: \t 1.6906407980979243\n",
            "Train acc: \t 0.8304887820512821\n",
            "Test acc:  \t 0.7691851265822784\n",
            "\n",
            "Epoch 32\n",
            "======================================================================\n"
          ]
        },
        {
          "name": "stderr",
          "output_type": "stream",
          "text": [
            "100%|██████████| 390/390 [00:10<00:00, 37.90it/s]\n",
            "100%|██████████| 79/79 [00:01<00:00, 73.64it/s]\n"
          ]
        },
        {
          "name": "stdout",
          "output_type": "stream",
          "text": [
            "Train loss:\t 1.6253164321948321\n",
            "Test loss: \t 1.655018263225314\n",
            "Train acc: \t 0.8355168269230769\n",
            "Test acc:  \t 0.8051819620253164\n",
            "\n",
            "Epoch 33\n",
            "======================================================================\n"
          ]
        },
        {
          "name": "stderr",
          "output_type": "stream",
          "text": [
            "100%|██████████| 390/390 [00:10<00:00, 37.86it/s]\n",
            "100%|██████████| 79/79 [00:01<00:00, 73.85it/s]\n"
          ]
        },
        {
          "name": "stdout",
          "output_type": "stream",
          "text": [
            "Train loss:\t 1.6236027922385778\n",
            "Test loss: \t 1.678051891206186\n",
            "Train acc: \t 0.8371394230769231\n",
            "Test acc:  \t 0.7823378164556962\n",
            "\n",
            "Epoch 34\n",
            "======================================================================\n"
          ]
        },
        {
          "name": "stderr",
          "output_type": "stream",
          "text": [
            "100%|██████████| 390/390 [00:10<00:00, 37.90it/s]\n",
            "100%|██████████| 79/79 [00:01<00:00, 74.16it/s]\n"
          ]
        },
        {
          "name": "stdout",
          "output_type": "stream",
          "text": [
            "Train loss:\t 1.619848532248766\n",
            "Test loss: \t 1.6659780393672894\n",
            "Train acc: \t 0.8404046474358975\n",
            "Test acc:  \t 0.7946004746835443\n",
            "\n",
            "Epoch 35\n",
            "======================================================================\n"
          ]
        },
        {
          "name": "stderr",
          "output_type": "stream",
          "text": [
            "100%|██████████| 390/390 [00:10<00:00, 37.97it/s]\n",
            "100%|██████████| 79/79 [00:01<00:00, 61.28it/s]\n"
          ]
        },
        {
          "name": "stdout",
          "output_type": "stream",
          "text": [
            "Train loss:\t 1.6174305114990626\n",
            "Test loss: \t 1.6669239801696585\n",
            "Train acc: \t 0.8426883012820513\n",
            "Test acc:  \t 0.7936115506329114\n",
            "\n",
            "Epoch 36\n",
            "======================================================================\n"
          ]
        },
        {
          "name": "stderr",
          "output_type": "stream",
          "text": [
            "100%|██████████| 390/390 [00:10<00:00, 37.93it/s]\n",
            "100%|██████████| 79/79 [00:01<00:00, 73.03it/s]\n"
          ]
        },
        {
          "name": "stdout",
          "output_type": "stream",
          "text": [
            "Train loss:\t 1.6116465223141205\n",
            "Test loss: \t 1.651499456997159\n",
            "Train acc: \t 0.8491987179487179\n",
            "Test acc:  \t 0.8093354430379747\n",
            "\n",
            "Epoch 37\n",
            "======================================================================\n"
          ]
        },
        {
          "name": "stderr",
          "output_type": "stream",
          "text": [
            "100%|██████████| 390/390 [00:10<00:00, 37.96it/s]\n",
            "100%|██████████| 79/79 [00:01<00:00, 73.37it/s]\n"
          ]
        },
        {
          "name": "stdout",
          "output_type": "stream",
          "text": [
            "Train loss:\t 1.614247956031408\n",
            "Test loss: \t 1.6626727128330665\n",
            "Train acc: \t 0.8465945512820513\n",
            "Test acc:  \t 0.796182753164557\n",
            "\n",
            "Epoch 38\n",
            "======================================================================\n"
          ]
        },
        {
          "name": "stderr",
          "output_type": "stream",
          "text": [
            "100%|██████████| 390/390 [00:10<00:00, 37.90it/s]\n",
            "100%|██████████| 79/79 [00:01<00:00, 73.96it/s]\n"
          ]
        },
        {
          "name": "stdout",
          "output_type": "stream",
          "text": [
            "Train loss:\t 1.6074114200396417\n",
            "Test loss: \t 1.6662452220916748\n",
            "Train acc: \t 0.8535657051282052\n",
            "Test acc:  \t 0.793809335443038\n",
            "\n",
            "Epoch 39\n",
            "======================================================================\n"
          ]
        },
        {
          "name": "stderr",
          "output_type": "stream",
          "text": [
            "100%|██████████| 390/390 [00:10<00:00, 37.99it/s]\n",
            "100%|██████████| 79/79 [00:01<00:00, 71.92it/s]\n"
          ]
        },
        {
          "name": "stdout",
          "output_type": "stream",
          "text": [
            "Train loss:\t 1.6131166231937897\n",
            "Test loss: \t 1.6658067733426638\n",
            "Train acc: \t 0.8479967948717949\n",
            "Test acc:  \t 0.7942049050632911\n",
            "\n",
            "Epoch 40\n",
            "======================================================================\n"
          ]
        },
        {
          "name": "stderr",
          "output_type": "stream",
          "text": [
            "100%|██████████| 390/390 [00:10<00:00, 37.88it/s]\n",
            "100%|██████████| 79/79 [00:01<00:00, 74.76it/s]\n"
          ]
        },
        {
          "name": "stdout",
          "output_type": "stream",
          "text": [
            "Train loss:\t 1.608509961458353\n",
            "Test loss: \t 1.6561867375917072\n",
            "Train acc: \t 0.8521634615384616\n",
            "Test acc:  \t 0.8032041139240507\n",
            "\n",
            "Epoch 41\n",
            "======================================================================\n"
          ]
        },
        {
          "name": "stderr",
          "output_type": "stream",
          "text": [
            "100%|██████████| 390/390 [00:10<00:00, 37.91it/s]\n",
            "100%|██████████| 79/79 [00:01<00:00, 74.77it/s]\n"
          ]
        },
        {
          "name": "stdout",
          "output_type": "stream",
          "text": [
            "Train loss:\t 1.6058903162296\n",
            "Test loss: \t 1.6475793802285497\n",
            "Train acc: \t 0.8550681089743589\n",
            "Test acc:  \t 0.8125\n",
            "\n",
            "Epoch 42\n",
            "======================================================================\n"
          ]
        },
        {
          "name": "stderr",
          "output_type": "stream",
          "text": [
            "100%|██████████| 390/390 [00:10<00:00, 37.93it/s]\n",
            "100%|██████████| 79/79 [00:01<00:00, 73.42it/s]\n"
          ]
        },
        {
          "name": "stdout",
          "output_type": "stream",
          "text": [
            "Train loss:\t 1.6035489042599995\n",
            "Test loss: \t 1.6467271288738976\n",
            "Train acc: \t 0.8572716346153846\n",
            "Test acc:  \t 0.8134889240506329\n",
            "\n",
            "Epoch 43\n",
            "======================================================================\n"
          ]
        },
        {
          "name": "stderr",
          "output_type": "stream",
          "text": [
            "100%|██████████| 390/390 [00:10<00:00, 37.91it/s]\n",
            "100%|██████████| 79/79 [00:01<00:00, 74.60it/s]\n"
          ]
        },
        {
          "name": "stdout",
          "output_type": "stream",
          "text": [
            "Train loss:\t 1.6060406639025762\n",
            "Test loss: \t 1.6566078361076644\n",
            "Train acc: \t 0.8546274038461539\n",
            "Test acc:  \t 0.8036985759493671\n",
            "\n",
            "Epoch 44\n",
            "======================================================================\n"
          ]
        },
        {
          "name": "stderr",
          "output_type": "stream",
          "text": [
            "100%|██████████| 390/390 [00:10<00:00, 37.98it/s]\n",
            "100%|██████████| 79/79 [00:01<00:00, 73.72it/s]\n"
          ]
        },
        {
          "name": "stdout",
          "output_type": "stream",
          "text": [
            "Train loss:\t 1.6051782757808\n",
            "Test loss: \t 1.640393463871147\n",
            "Train acc: \t 0.8551282051282051\n",
            "Test acc:  \t 0.8203125\n",
            "\n",
            "Epoch 45\n",
            "======================================================================\n"
          ]
        },
        {
          "name": "stderr",
          "output_type": "stream",
          "text": [
            "100%|██████████| 390/390 [00:10<00:00, 37.91it/s]\n",
            "100%|██████████| 79/79 [00:01<00:00, 73.53it/s]\n"
          ]
        },
        {
          "name": "stdout",
          "output_type": "stream",
          "text": [
            "Train loss:\t 1.5981677165398231\n",
            "Test loss: \t 1.6582768567000763\n",
            "Train acc: \t 0.8623597756410256\n",
            "Test acc:  \t 0.8011273734177216\n",
            "\n",
            "Epoch 46\n",
            "======================================================================\n"
          ]
        },
        {
          "name": "stderr",
          "output_type": "stream",
          "text": [
            "100%|██████████| 390/390 [00:10<00:00, 37.88it/s]\n",
            "100%|██████████| 79/79 [00:01<00:00, 72.85it/s]\n"
          ]
        },
        {
          "name": "stdout",
          "output_type": "stream",
          "text": [
            "Train loss:\t 1.5963476104614063\n",
            "Test loss: \t 1.6386776785307293\n",
            "Train acc: \t 0.8642628205128206\n",
            "Test acc:  \t 0.8212025316455697\n",
            "\n",
            "Epoch 47\n",
            "======================================================================\n"
          ]
        },
        {
          "name": "stderr",
          "output_type": "stream",
          "text": [
            "100%|██████████| 390/390 [00:10<00:00, 37.93it/s]\n",
            "100%|██████████| 79/79 [00:01<00:00, 74.44it/s]\n"
          ]
        },
        {
          "name": "stdout",
          "output_type": "stream",
          "text": [
            "Train loss:\t 1.5946591954964857\n",
            "Test loss: \t 1.6434925251369235\n",
            "Train acc: \t 0.8662660256410256\n",
            "Test acc:  \t 0.8166534810126582\n",
            "\n",
            "Epoch 48\n",
            "======================================================================\n"
          ]
        },
        {
          "name": "stderr",
          "output_type": "stream",
          "text": [
            "100%|██████████| 390/390 [00:10<00:00, 37.87it/s]\n",
            "100%|██████████| 79/79 [00:01<00:00, 73.70it/s]\n"
          ]
        },
        {
          "name": "stdout",
          "output_type": "stream",
          "text": [
            "Train loss:\t 1.5967901871754573\n",
            "Test loss: \t 1.6412471668629707\n",
            "Train acc: \t 0.8640224358974359\n",
            "Test acc:  \t 0.8191257911392406\n",
            "\n",
            "Epoch 49\n",
            "======================================================================\n"
          ]
        },
        {
          "name": "stderr",
          "output_type": "stream",
          "text": [
            "100%|██████████| 390/390 [00:10<00:00, 37.95it/s]\n",
            "100%|██████████| 79/79 [00:01<00:00, 73.20it/s]\n"
          ]
        },
        {
          "name": "stdout",
          "output_type": "stream",
          "text": [
            "Train loss:\t 1.597234648007613\n",
            "Test loss: \t 1.6470269296742692\n",
            "Train acc: \t 0.8636217948717949\n",
            "Test acc:  \t 0.8140822784810127\n"
          ]
        }
      ],
      "source": [
        "# Membuat instance dari kelas MyModel\n",
        "model = MyModel(len(CIFARSample.label_to_str), use_swish=True, loss_unit=\"crossentropy\", optimizer_name=\"Adam\")\n",
        "\n",
        "# Melatih model\n",
        "model.train(train_loader, test_loader, max_epoch=50)\n",
        "results1 = model.results"
      ]
    },
    {
      "cell_type": "code",
      "execution_count": null,
      "metadata": {
        "colab": {
          "base_uri": "https://localhost:8080/"
        },
        "id": "Sk_OMEgofEQ2",
        "outputId": "76cd6636-e730-4500-acc8-f67f45859bcd"
      },
      "outputs": [
        {
          "name": "stdout",
          "output_type": "stream",
          "text": [
            "\n",
            "Epoch 0\n",
            "======================================================================\n"
          ]
        },
        {
          "name": "stderr",
          "output_type": "stream",
          "text": [
            "100%|██████████| 390/390 [00:10<00:00, 37.80it/s]\n",
            "100%|██████████| 79/79 [00:01<00:00, 73.24it/s]\n"
          ]
        },
        {
          "name": "stdout",
          "output_type": "stream",
          "text": [
            "Train loss:\t 2.0726347009340924\n",
            "Test loss: \t 2.0367493614365784\n",
            "Train acc: \t 0.38461538461538464\n",
            "Test acc:  \t 0.41871044303797467\n",
            "\n",
            "Epoch 1\n",
            "======================================================================\n"
          ]
        },
        {
          "name": "stderr",
          "output_type": "stream",
          "text": [
            "100%|██████████| 390/390 [00:10<00:00, 37.79it/s]\n",
            "100%|██████████| 79/79 [00:01<00:00, 73.40it/s]\n"
          ]
        },
        {
          "name": "stdout",
          "output_type": "stream",
          "text": [
            "Train loss:\t 1.9148378763443386\n",
            "Test loss: \t 1.9451693884934051\n",
            "Train acc: \t 0.5464342948717948\n",
            "Test acc:  \t 0.510878164556962\n",
            "\n",
            "Epoch 2\n",
            "======================================================================\n"
          ]
        },
        {
          "name": "stderr",
          "output_type": "stream",
          "text": [
            "100%|██████████| 390/390 [00:10<00:00, 37.62it/s]\n",
            "100%|██████████| 79/79 [00:01<00:00, 73.55it/s]\n"
          ]
        },
        {
          "name": "stdout",
          "output_type": "stream",
          "text": [
            "Train loss:\t 1.8566575371302092\n",
            "Test loss: \t 1.8961306025710287\n",
            "Train acc: \t 0.6035456730769231\n",
            "Test acc:  \t 0.5621044303797469\n",
            "\n",
            "Epoch 3\n",
            "======================================================================\n"
          ]
        },
        {
          "name": "stderr",
          "output_type": "stream",
          "text": [
            "100%|██████████| 390/390 [00:10<00:00, 37.95it/s]\n",
            "100%|██████████| 79/79 [00:01<00:00, 74.13it/s]\n"
          ]
        },
        {
          "name": "stdout",
          "output_type": "stream",
          "text": [
            "Train loss:\t 1.817561445175073\n",
            "Test loss: \t 1.835597816901871\n",
            "Train acc: \t 0.6431490384615385\n",
            "Test acc:  \t 0.6221321202531646\n",
            "\n",
            "Epoch 4\n",
            "======================================================================\n"
          ]
        },
        {
          "name": "stderr",
          "output_type": "stream",
          "text": [
            "100%|██████████| 390/390 [00:10<00:00, 37.91it/s]\n",
            "100%|██████████| 79/79 [00:01<00:00, 74.42it/s]\n"
          ]
        },
        {
          "name": "stdout",
          "output_type": "stream",
          "text": [
            "Train loss:\t 1.795445541235117\n",
            "Test loss: \t 1.8540435335304164\n",
            "Train acc: \t 0.6641826923076923\n",
            "Test acc:  \t 0.6058148734177216\n",
            "\n",
            "Epoch 5\n",
            "======================================================================\n"
          ]
        },
        {
          "name": "stderr",
          "output_type": "stream",
          "text": [
            "100%|██████████| 390/390 [00:10<00:00, 37.87it/s]\n",
            "100%|██████████| 79/79 [00:01<00:00, 73.93it/s]\n"
          ]
        },
        {
          "name": "stdout",
          "output_type": "stream",
          "text": [
            "Train loss:\t 1.7696206795863616\n",
            "Test loss: \t 1.7948337551913685\n",
            "Train acc: \t 0.6907451923076923\n",
            "Test acc:  \t 0.6645569620253164\n",
            "\n",
            "Epoch 6\n",
            "======================================================================\n"
          ]
        },
        {
          "name": "stderr",
          "output_type": "stream",
          "text": [
            "100%|██████████| 390/390 [00:10<00:00, 37.97it/s]\n",
            "100%|██████████| 79/79 [00:01<00:00, 75.00it/s]\n"
          ]
        },
        {
          "name": "stdout",
          "output_type": "stream",
          "text": [
            "Train loss:\t 1.7533647720630352\n",
            "Test loss: \t 1.796693590622914\n",
            "Train acc: \t 0.7071113782051283\n",
            "Test acc:  \t 0.6600079113924051\n",
            "\n",
            "Epoch 7\n",
            "======================================================================\n"
          ]
        },
        {
          "name": "stderr",
          "output_type": "stream",
          "text": [
            "100%|██████████| 390/390 [00:10<00:00, 37.98it/s]\n",
            "100%|██████████| 79/79 [00:01<00:00, 74.87it/s]\n"
          ]
        },
        {
          "name": "stdout",
          "output_type": "stream",
          "text": [
            "Train loss:\t 1.7393616462365176\n",
            "Test loss: \t 1.7619901518278485\n",
            "Train acc: \t 0.7216546474358975\n",
            "Test acc:  \t 0.6991693037974683\n",
            "\n",
            "Epoch 8\n",
            "======================================================================\n"
          ]
        },
        {
          "name": "stderr",
          "output_type": "stream",
          "text": [
            "100%|██████████| 390/390 [00:10<00:00, 37.93it/s]\n",
            "100%|██████████| 79/79 [00:01<00:00, 74.18it/s]\n"
          ]
        },
        {
          "name": "stdout",
          "output_type": "stream",
          "text": [
            "Train loss:\t 1.7278829828286781\n",
            "Test loss: \t 1.7669468001474309\n",
            "Train acc: \t 0.7323317307692307\n",
            "Test acc:  \t 0.6912579113924051\n",
            "\n",
            "Epoch 9\n",
            "======================================================================\n"
          ]
        },
        {
          "name": "stderr",
          "output_type": "stream",
          "text": [
            "100%|██████████| 390/390 [00:10<00:00, 37.95it/s]\n",
            "100%|██████████| 79/79 [00:01<00:00, 75.15it/s]\n"
          ]
        },
        {
          "name": "stdout",
          "output_type": "stream",
          "text": [
            "Train loss:\t 1.7191623534911717\n",
            "Test loss: \t 1.743877216230465\n",
            "Train acc: \t 0.7417668269230769\n",
            "Test acc:  \t 0.7158821202531646\n",
            "\n",
            "Epoch 10\n",
            "======================================================================\n"
          ]
        },
        {
          "name": "stderr",
          "output_type": "stream",
          "text": [
            "100%|██████████| 390/390 [00:10<00:00, 37.93it/s]\n",
            "100%|██████████| 79/79 [00:01<00:00, 73.72it/s]\n"
          ]
        },
        {
          "name": "stdout",
          "output_type": "stream",
          "text": [
            "Train loss:\t 1.7046102621616461\n",
            "Test loss: \t 1.7320543648321418\n",
            "Train acc: \t 0.7561498397435897\n",
            "Test acc:  \t 0.7271558544303798\n",
            "\n",
            "Epoch 11\n",
            "======================================================================\n"
          ]
        },
        {
          "name": "stderr",
          "output_type": "stream",
          "text": [
            "100%|██████████| 390/390 [00:10<00:00, 37.88it/s]\n",
            "100%|██████████| 79/79 [00:01<00:00, 73.15it/s]\n"
          ]
        },
        {
          "name": "stdout",
          "output_type": "stream",
          "text": [
            "Train loss:\t 1.6995122001721308\n",
            "Test loss: \t 1.7661605424518827\n",
            "Train acc: \t 0.7612379807692308\n",
            "Test acc:  \t 0.694620253164557\n",
            "\n",
            "Epoch 12\n",
            "======================================================================\n"
          ]
        },
        {
          "name": "stderr",
          "output_type": "stream",
          "text": [
            "100%|██████████| 390/390 [00:10<00:00, 37.89it/s]\n",
            "100%|██████████| 79/79 [00:01<00:00, 72.47it/s]\n"
          ]
        },
        {
          "name": "stdout",
          "output_type": "stream",
          "text": [
            "Train loss:\t 1.6874770259245848\n",
            "Test loss: \t 1.7325708171989345\n",
            "Train acc: \t 0.7737179487179487\n",
            "Test acc:  \t 0.7263647151898734\n",
            "\n",
            "Epoch 13\n",
            "======================================================================\n"
          ]
        },
        {
          "name": "stderr",
          "output_type": "stream",
          "text": [
            "100%|██████████| 390/390 [00:10<00:00, 37.88it/s]\n",
            "100%|██████████| 79/79 [00:01<00:00, 75.41it/s]\n"
          ]
        },
        {
          "name": "stdout",
          "output_type": "stream",
          "text": [
            "Train loss:\t 1.6819306722054115\n",
            "Test loss: \t 1.760315953930722\n",
            "Train acc: \t 0.7783653846153846\n",
            "Test acc:  \t 0.6997626582278481\n",
            "\n",
            "Epoch 14\n",
            "======================================================================\n"
          ]
        },
        {
          "name": "stderr",
          "output_type": "stream",
          "text": [
            "100%|██████████| 390/390 [00:10<00:00, 37.97it/s]\n",
            "100%|██████████| 79/79 [00:01<00:00, 73.83it/s]\n"
          ]
        },
        {
          "name": "stdout",
          "output_type": "stream",
          "text": [
            "Train loss:\t 1.6755305281052222\n",
            "Test loss: \t 1.7330740614782405\n",
            "Train acc: \t 0.7859975961538461\n",
            "Test acc:  \t 0.7250791139240507\n",
            "\n",
            "Epoch 15\n",
            "======================================================================\n"
          ]
        },
        {
          "name": "stderr",
          "output_type": "stream",
          "text": [
            "100%|██████████| 390/390 [00:10<00:00, 37.89it/s]\n",
            "100%|██████████| 79/79 [00:01<00:00, 74.14it/s]\n"
          ]
        },
        {
          "name": "stdout",
          "output_type": "stream",
          "text": [
            "Train loss:\t 1.6670865645775428\n",
            "Test loss: \t 1.717313678958748\n",
            "Train acc: \t 0.7933894230769231\n",
            "Test acc:  \t 0.742879746835443\n",
            "\n",
            "Epoch 16\n",
            "======================================================================\n"
          ]
        },
        {
          "name": "stderr",
          "output_type": "stream",
          "text": [
            "100%|██████████| 390/390 [00:10<00:00, 37.96it/s]\n",
            "100%|██████████| 79/79 [00:01<00:00, 74.31it/s]\n"
          ]
        },
        {
          "name": "stdout",
          "output_type": "stream",
          "text": [
            "Train loss:\t 1.6606179546087216\n",
            "Test loss: \t 1.7175215573250493\n",
            "Train acc: \t 0.8006810897435898\n",
            "Test acc:  \t 0.7424841772151899\n",
            "\n",
            "Epoch 17\n",
            "======================================================================\n"
          ]
        },
        {
          "name": "stderr",
          "output_type": "stream",
          "text": [
            "100%|██████████| 390/390 [00:10<00:00, 37.84it/s]\n",
            "100%|██████████| 79/79 [00:01<00:00, 72.24it/s]\n"
          ]
        },
        {
          "name": "stdout",
          "output_type": "stream",
          "text": [
            "Train loss:\t 1.6572094342647454\n",
            "Test loss: \t 1.7065447765060617\n",
            "Train acc: \t 0.803886217948718\n",
            "Test acc:  \t 0.7534612341772152\n",
            "\n",
            "Epoch 18\n",
            "======================================================================\n"
          ]
        },
        {
          "name": "stderr",
          "output_type": "stream",
          "text": [
            "100%|██████████| 390/390 [00:10<00:00, 37.90it/s]\n",
            "100%|██████████| 79/79 [00:01<00:00, 72.74it/s]\n"
          ]
        },
        {
          "name": "stdout",
          "output_type": "stream",
          "text": [
            "Train loss:\t 1.6487832943598428\n",
            "Test loss: \t 1.6932345809815805\n",
            "Train acc: \t 0.8124599358974359\n",
            "Test acc:  \t 0.766317246835443\n",
            "\n",
            "Epoch 19\n",
            "======================================================================\n"
          ]
        },
        {
          "name": "stderr",
          "output_type": "stream",
          "text": [
            "100%|██████████| 390/390 [00:10<00:00, 37.96it/s]\n",
            "100%|██████████| 79/79 [00:01<00:00, 69.42it/s]\n"
          ]
        },
        {
          "name": "stdout",
          "output_type": "stream",
          "text": [
            "Train loss:\t 1.6449784615100957\n",
            "Test loss: \t 1.6840982844557943\n",
            "Train acc: \t 0.8160056089743589\n",
            "Test acc:  \t 0.7755142405063291\n",
            "\n",
            "Epoch 20\n",
            "======================================================================\n"
          ]
        },
        {
          "name": "stderr",
          "output_type": "stream",
          "text": [
            "100%|██████████| 390/390 [00:10<00:00, 37.86it/s]\n",
            "100%|██████████| 79/79 [00:01<00:00, 72.56it/s]\n"
          ]
        },
        {
          "name": "stdout",
          "output_type": "stream",
          "text": [
            "Train loss:\t 1.6410787472358117\n",
            "Test loss: \t 1.7115713101399095\n",
            "Train acc: \t 0.8196113782051282\n",
            "Test acc:  \t 0.7486155063291139\n",
            "\n",
            "Epoch 21\n",
            "======================================================================\n"
          ]
        },
        {
          "name": "stderr",
          "output_type": "stream",
          "text": [
            "100%|██████████| 390/390 [00:10<00:00, 37.80it/s]\n",
            "100%|██████████| 79/79 [00:01<00:00, 70.32it/s]\n"
          ]
        },
        {
          "name": "stdout",
          "output_type": "stream",
          "text": [
            "Train loss:\t 1.637107657469236\n",
            "Test loss: \t 1.6842988276783424\n",
            "Train acc: \t 0.8236778846153846\n",
            "Test acc:  \t 0.7755142405063291\n",
            "\n",
            "Epoch 22\n",
            "======================================================================\n"
          ]
        },
        {
          "name": "stderr",
          "output_type": "stream",
          "text": [
            "100%|██████████| 390/390 [00:10<00:00, 37.84it/s]\n",
            "100%|██████████| 79/79 [00:01<00:00, 72.22it/s]\n"
          ]
        },
        {
          "name": "stdout",
          "output_type": "stream",
          "text": [
            "Train loss:\t 1.6319722606585576\n",
            "Test loss: \t 1.683886884134027\n",
            "Train acc: \t 0.8294070512820513\n",
            "Test acc:  \t 0.7763053797468354\n",
            "\n",
            "Epoch 23\n",
            "======================================================================\n"
          ]
        },
        {
          "name": "stderr",
          "output_type": "stream",
          "text": [
            "100%|██████████| 390/390 [00:10<00:00, 37.82it/s]\n",
            "100%|██████████| 79/79 [00:01<00:00, 72.17it/s]\n"
          ]
        },
        {
          "name": "stdout",
          "output_type": "stream",
          "text": [
            "Train loss:\t 1.6302122883307628\n",
            "Test loss: \t 1.6944135593462595\n",
            "Train acc: \t 0.8310296474358975\n",
            "Test acc:  \t 0.7653283227848101\n",
            "\n",
            "Epoch 24\n",
            "======================================================================\n"
          ]
        },
        {
          "name": "stderr",
          "output_type": "stream",
          "text": [
            "100%|██████████| 390/390 [00:10<00:00, 37.86it/s]\n",
            "100%|██████████| 79/79 [00:01<00:00, 71.67it/s]\n"
          ]
        },
        {
          "name": "stdout",
          "output_type": "stream",
          "text": [
            "Train loss:\t 1.621764463950426\n",
            "Test loss: \t 1.6831965355933467\n",
            "Train acc: \t 0.8396033653846153\n",
            "Test acc:  \t 0.7775909810126582\n",
            "\n",
            "Epoch 25\n",
            "======================================================================\n"
          ]
        },
        {
          "name": "stderr",
          "output_type": "stream",
          "text": [
            "100%|██████████| 390/390 [00:10<00:00, 37.90it/s]\n",
            "100%|██████████| 79/79 [00:01<00:00, 70.47it/s]\n"
          ]
        },
        {
          "name": "stdout",
          "output_type": "stream",
          "text": [
            "Train loss:\t 1.6224911014238994\n",
            "Test loss: \t 1.6766799039478544\n",
            "Train acc: \t 0.8380608974358974\n",
            "Test acc:  \t 0.7830300632911392\n",
            "\n",
            "Epoch 26\n",
            "======================================================================\n"
          ]
        },
        {
          "name": "stderr",
          "output_type": "stream",
          "text": [
            "100%|██████████| 390/390 [00:10<00:00, 37.90it/s]\n",
            "100%|██████████| 79/79 [00:01<00:00, 70.90it/s]\n"
          ]
        },
        {
          "name": "stdout",
          "output_type": "stream",
          "text": [
            "Train loss:\t 1.615506832416241\n",
            "Test loss: \t 1.6790964030012299\n",
            "Train acc: \t 0.8455128205128205\n",
            "Test acc:  \t 0.7811511075949367\n",
            "\n",
            "Epoch 27\n",
            "======================================================================\n"
          ]
        },
        {
          "name": "stderr",
          "output_type": "stream",
          "text": [
            "100%|██████████| 390/390 [00:10<00:00, 37.88it/s]\n",
            "100%|██████████| 79/79 [00:01<00:00, 69.35it/s]\n"
          ]
        },
        {
          "name": "stdout",
          "output_type": "stream",
          "text": [
            "Train loss:\t 1.6124568606034304\n",
            "Test loss: \t 1.6572302474251277\n",
            "Train acc: \t 0.8484975961538461\n",
            "Test acc:  \t 0.8027096518987342\n",
            "\n",
            "Epoch 28\n",
            "======================================================================\n"
          ]
        },
        {
          "name": "stderr",
          "output_type": "stream",
          "text": [
            "100%|██████████| 390/390 [00:10<00:00, 37.82it/s]\n",
            "100%|██████████| 79/79 [00:01<00:00, 69.24it/s]\n"
          ]
        },
        {
          "name": "stdout",
          "output_type": "stream",
          "text": [
            "Train loss:\t 1.608236468755282\n",
            "Test loss: \t 1.6884338795384275\n",
            "Train acc: \t 0.8528846153846154\n",
            "Test acc:  \t 0.7730419303797469\n",
            "\n",
            "Epoch 29\n",
            "======================================================================\n"
          ]
        },
        {
          "name": "stderr",
          "output_type": "stream",
          "text": [
            "100%|██████████| 390/390 [00:10<00:00, 37.84it/s]\n",
            "100%|██████████| 79/79 [00:01<00:00, 69.40it/s]\n"
          ]
        },
        {
          "name": "stdout",
          "output_type": "stream",
          "text": [
            "Train loss:\t 1.6064891763222524\n",
            "Test loss: \t 1.6744455053836484\n",
            "Train acc: \t 0.854326923076923\n",
            "Test acc:  \t 0.7857990506329114\n",
            "\n",
            "Epoch 30\n",
            "======================================================================\n"
          ]
        },
        {
          "name": "stderr",
          "output_type": "stream",
          "text": [
            "100%|██████████| 390/390 [00:10<00:00, 37.79it/s]\n",
            "100%|██████████| 79/79 [00:01<00:00, 69.98it/s]\n"
          ]
        },
        {
          "name": "stdout",
          "output_type": "stream",
          "text": [
            "Train loss:\t 1.6056106983087002\n",
            "Test loss: \t 1.6851368720018411\n",
            "Train acc: \t 0.8552483974358974\n",
            "Test acc:  \t 0.7743275316455697\n",
            "\n",
            "Epoch 31\n",
            "======================================================================\n"
          ]
        },
        {
          "name": "stderr",
          "output_type": "stream",
          "text": [
            "100%|██████████| 390/390 [00:10<00:00, 37.85it/s]\n",
            "100%|██████████| 79/79 [00:01<00:00, 70.20it/s]\n"
          ]
        },
        {
          "name": "stdout",
          "output_type": "stream",
          "text": [
            "Train loss:\t 1.599992301219549\n",
            "Test loss: \t 1.6640903421595126\n",
            "Train acc: \t 0.8613581730769231\n",
            "Test acc:  \t 0.7956882911392406\n",
            "\n",
            "Epoch 32\n",
            "======================================================================\n"
          ]
        },
        {
          "name": "stderr",
          "output_type": "stream",
          "text": [
            "100%|██████████| 390/390 [00:10<00:00, 37.42it/s]\n",
            "100%|██████████| 79/79 [00:01<00:00, 69.96it/s]\n"
          ]
        },
        {
          "name": "stdout",
          "output_type": "stream",
          "text": [
            "Train loss:\t 1.5951824952394535\n",
            "Test loss: \t 1.6608959406237058\n",
            "Train acc: \t 0.8655649038461538\n",
            "Test acc:  \t 0.7990506329113924\n",
            "\n",
            "Epoch 33\n",
            "======================================================================\n"
          ]
        },
        {
          "name": "stderr",
          "output_type": "stream",
          "text": [
            "100%|██████████| 390/390 [00:10<00:00, 37.83it/s]\n",
            "100%|██████████| 79/79 [00:01<00:00, 71.85it/s]\n"
          ]
        },
        {
          "name": "stdout",
          "output_type": "stream",
          "text": [
            "Train loss:\t 1.595171101582356\n",
            "Test loss: \t 1.674685534042648\n",
            "Train acc: \t 0.865665064102564\n",
            "Test acc:  \t 0.785996835443038\n",
            "\n",
            "Epoch 34\n",
            "======================================================================\n"
          ]
        },
        {
          "name": "stderr",
          "output_type": "stream",
          "text": [
            "100%|██████████| 390/390 [00:10<00:00, 37.67it/s]\n",
            "100%|██████████| 79/79 [00:01<00:00, 65.28it/s]\n"
          ]
        },
        {
          "name": "stdout",
          "output_type": "stream",
          "text": [
            "Train loss:\t 1.590978221098582\n",
            "Test loss: \t 1.6528740698778177\n",
            "Train acc: \t 0.8704927884615384\n",
            "Test acc:  \t 0.806368670886076\n",
            "\n",
            "Epoch 35\n",
            "======================================================================\n"
          ]
        },
        {
          "name": "stderr",
          "output_type": "stream",
          "text": [
            "100%|██████████| 390/390 [00:10<00:00, 37.82it/s]\n",
            "100%|██████████| 79/79 [00:01<00:00, 70.62it/s]\n"
          ]
        },
        {
          "name": "stdout",
          "output_type": "stream",
          "text": [
            "Train loss:\t 1.5909055129075662\n",
            "Test loss: \t 1.6559771480439585\n",
            "Train acc: \t 0.8704126602564103\n",
            "Test acc:  \t 0.8047863924050633\n",
            "\n",
            "Epoch 36\n",
            "======================================================================\n"
          ]
        },
        {
          "name": "stderr",
          "output_type": "stream",
          "text": [
            "100%|██████████| 390/390 [00:10<00:00, 37.80it/s]\n",
            "100%|██████████| 79/79 [00:01<00:00, 72.04it/s]\n"
          ]
        },
        {
          "name": "stdout",
          "output_type": "stream",
          "text": [
            "Train loss:\t 1.5859329972511682\n",
            "Test loss: \t 1.6713602497607847\n",
            "Train acc: \t 0.8753205128205128\n",
            "Test acc:  \t 0.7886669303797469\n",
            "\n",
            "Epoch 37\n",
            "======================================================================\n"
          ]
        },
        {
          "name": "stderr",
          "output_type": "stream",
          "text": [
            "100%|██████████| 390/390 [00:10<00:00, 37.82it/s]\n",
            "100%|██████████| 79/79 [00:01<00:00, 72.16it/s]\n"
          ]
        },
        {
          "name": "stdout",
          "output_type": "stream",
          "text": [
            "Train loss:\t 1.5848450666818863\n",
            "Test loss: \t 1.6621789238120936\n",
            "Train acc: \t 0.8761017628205128\n",
            "Test acc:  \t 0.7983583860759493\n",
            "\n",
            "Epoch 38\n",
            "======================================================================\n"
          ]
        },
        {
          "name": "stderr",
          "output_type": "stream",
          "text": [
            "100%|██████████| 390/390 [00:10<00:00, 37.13it/s]\n",
            "100%|██████████| 79/79 [00:01<00:00, 72.39it/s]\n"
          ]
        },
        {
          "name": "stdout",
          "output_type": "stream",
          "text": [
            "Train loss:\t 1.5815581236130152\n",
            "Test loss: \t 1.6602685149711898\n",
            "Train acc: \t 0.8790464743589743\n",
            "Test acc:  \t 0.7988528481012658\n",
            "\n",
            "Epoch 39\n",
            "======================================================================\n"
          ]
        },
        {
          "name": "stderr",
          "output_type": "stream",
          "text": [
            "100%|██████████| 390/390 [00:10<00:00, 37.75it/s]\n",
            "100%|██████████| 79/79 [00:01<00:00, 71.12it/s]\n"
          ]
        },
        {
          "name": "stdout",
          "output_type": "stream",
          "text": [
            "Train loss:\t 1.5829646908319914\n",
            "Test loss: \t 1.6627536740484117\n",
            "Train acc: \t 0.8779447115384615\n",
            "Test acc:  \t 0.7970727848101266\n",
            "\n",
            "Epoch 40\n",
            "======================================================================\n"
          ]
        },
        {
          "name": "stderr",
          "output_type": "stream",
          "text": [
            "100%|██████████| 390/390 [00:10<00:00, 37.89it/s]\n",
            "100%|██████████| 79/79 [00:01<00:00, 73.03it/s]\n"
          ]
        },
        {
          "name": "stdout",
          "output_type": "stream",
          "text": [
            "Train loss:\t 1.5761469455865713\n",
            "Test loss: \t 1.6712753893453864\n",
            "Train acc: \t 0.885136217948718\n",
            "Test acc:  \t 0.7877768987341772\n",
            "\n",
            "Epoch 41\n",
            "======================================================================\n"
          ]
        },
        {
          "name": "stderr",
          "output_type": "stream",
          "text": [
            "100%|██████████| 390/390 [00:10<00:00, 37.85it/s]\n",
            "100%|██████████| 79/79 [00:01<00:00, 72.81it/s]\n"
          ]
        },
        {
          "name": "stdout",
          "output_type": "stream",
          "text": [
            "Train loss:\t 1.5781083984252735\n",
            "Test loss: \t 1.6602901250501223\n",
            "Train acc: \t 0.8830929487179487\n",
            "Test acc:  \t 0.8008306962025317\n",
            "\n",
            "Epoch 42\n",
            "======================================================================\n"
          ]
        },
        {
          "name": "stderr",
          "output_type": "stream",
          "text": [
            "100%|██████████| 390/390 [00:10<00:00, 37.80it/s]\n",
            "100%|██████████| 79/79 [00:01<00:00, 70.94it/s]\n"
          ]
        },
        {
          "name": "stdout",
          "output_type": "stream",
          "text": [
            "Train loss:\t 1.5779938706984886\n",
            "Test loss: \t 1.6634300751022146\n",
            "Train acc: \t 0.8828325320512821\n",
            "Test acc:  \t 0.797567246835443\n",
            "\n",
            "Epoch 43\n",
            "======================================================================\n"
          ]
        },
        {
          "name": "stderr",
          "output_type": "stream",
          "text": [
            "100%|██████████| 390/390 [00:10<00:00, 37.84it/s]\n",
            "100%|██████████| 79/79 [00:01<00:00, 71.09it/s]\n"
          ]
        },
        {
          "name": "stdout",
          "output_type": "stream",
          "text": [
            "Train loss:\t 1.5743571339509426\n",
            "Test loss: \t 1.6513248516034476\n",
            "Train acc: \t 0.88671875\n",
            "Test acc:  \t 0.8084454113924051\n",
            "\n",
            "Epoch 44\n",
            "======================================================================\n"
          ]
        },
        {
          "name": "stderr",
          "output_type": "stream",
          "text": [
            "100%|██████████| 390/390 [00:10<00:00, 37.88it/s]\n",
            "100%|██████████| 79/79 [00:01<00:00, 72.83it/s]\n"
          ]
        },
        {
          "name": "stdout",
          "output_type": "stream",
          "text": [
            "Train loss:\t 1.5720862315251276\n",
            "Test loss: \t 1.657070037684863\n",
            "Train acc: \t 0.8887019230769231\n",
            "Test acc:  \t 0.8034018987341772\n",
            "\n",
            "Epoch 45\n",
            "======================================================================\n"
          ]
        },
        {
          "name": "stderr",
          "output_type": "stream",
          "text": [
            "100%|██████████| 390/390 [00:10<00:00, 37.78it/s]\n",
            "100%|██████████| 79/79 [00:01<00:00, 72.90it/s]\n"
          ]
        },
        {
          "name": "stdout",
          "output_type": "stream",
          "text": [
            "Train loss:\t 1.5712312206243857\n",
            "Test loss: \t 1.6477695190453832\n",
            "Train acc: \t 0.8895232371794872\n",
            "Test acc:  \t 0.8120055379746836\n",
            "\n",
            "Epoch 46\n",
            "======================================================================\n"
          ]
        },
        {
          "name": "stderr",
          "output_type": "stream",
          "text": [
            "100%|██████████| 390/390 [00:10<00:00, 37.86it/s]\n",
            "100%|██████████| 79/79 [00:01<00:00, 73.75it/s]\n"
          ]
        },
        {
          "name": "stdout",
          "output_type": "stream",
          "text": [
            "Train loss:\t 1.5677516261736553\n",
            "Test loss: \t 1.654635865477067\n",
            "Train acc: \t 0.893008814102564\n",
            "Test acc:  \t 0.805379746835443\n",
            "\n",
            "Epoch 47\n",
            "======================================================================\n"
          ]
        },
        {
          "name": "stderr",
          "output_type": "stream",
          "text": [
            "100%|██████████| 390/390 [00:10<00:00, 37.84it/s]\n",
            "100%|██████████| 79/79 [00:01<00:00, 74.33it/s]\n"
          ]
        },
        {
          "name": "stdout",
          "output_type": "stream",
          "text": [
            "Train loss:\t 1.566301610836616\n",
            "Test loss: \t 1.643744845933552\n",
            "Train acc: \t 0.8950320512820513\n",
            "Test acc:  \t 0.8169501582278481\n",
            "\n",
            "Epoch 48\n",
            "======================================================================\n"
          ]
        },
        {
          "name": "stderr",
          "output_type": "stream",
          "text": [
            "100%|██████████| 390/390 [00:10<00:00, 37.88it/s]\n",
            "100%|██████████| 79/79 [00:01<00:00, 74.06it/s]\n"
          ]
        },
        {
          "name": "stdout",
          "output_type": "stream",
          "text": [
            "Train loss:\t 1.5615284024140774\n",
            "Test loss: \t 1.643629270263865\n",
            "Train acc: \t 0.899579326923077\n",
            "Test acc:  \t 0.8173457278481012\n",
            "\n",
            "Epoch 49\n",
            "======================================================================\n"
          ]
        },
        {
          "name": "stderr",
          "output_type": "stream",
          "text": [
            "100%|██████████| 390/390 [00:10<00:00, 37.98it/s]\n",
            "100%|██████████| 79/79 [00:01<00:00, 72.17it/s]\n"
          ]
        },
        {
          "name": "stdout",
          "output_type": "stream",
          "text": [
            "Train loss:\t 1.5617106397946676\n",
            "Test loss: \t 1.644700933106338\n",
            "Train acc: \t 0.8997596153846154\n",
            "Test acc:  \t 0.814181170886076\n"
          ]
        }
      ],
      "source": [
        "# Membuat instance dari kelas MyModel\n",
        "model = MyModel(len(CIFARSample.label_to_str), use_swish=True, loss_unit=\"crossentropy\", optimizer_name=\"Adam2\")\n",
        "\n",
        "# Melatih model\n",
        "model.train(train_loader, test_loader, max_epoch=50)\n",
        "results2 = model.results"
      ]
    },
    {
      "attachments": {},
      "cell_type": "markdown",
      "metadata": {
        "id": "7Z9f7v0PGzF3"
      },
      "source": [
        "#### Using AGD (Automatic-Gradient Descent) Optimizer"
      ]
    },
    {
      "cell_type": "code",
      "execution_count": null,
      "metadata": {
        "colab": {
          "base_uri": "https://localhost:8080/"
        },
        "id": "5qig836PGl_n",
        "outputId": "6f3df6bc-4832-46e1-acf7-54e5be8daf9f"
      },
      "outputs": [
        {
          "name": "stdout",
          "output_type": "stream",
          "text": [
            "\n",
            "Epoch 0\n",
            "======================================================================\n"
          ]
        },
        {
          "name": "stderr",
          "output_type": "stream",
          "text": [
            "100%|██████████| 390/390 [00:10<00:00, 38.82it/s]\n",
            "100%|██████████| 79/79 [00:01<00:00, 69.81it/s]\n"
          ]
        },
        {
          "name": "stdout",
          "output_type": "stream",
          "text": [
            "Train loss:\t 2.275323661779746\n",
            "Test loss: \t 2.2863773907287213\n",
            "Train acc: \t 0.16654647435897435\n",
            "Test acc:  \t 0.1415150316455696\n",
            "\n",
            "Epoch 1\n",
            "======================================================================\n"
          ]
        },
        {
          "name": "stderr",
          "output_type": "stream",
          "text": [
            "100%|██████████| 390/390 [00:10<00:00, 38.84it/s]\n",
            "100%|██████████| 79/79 [00:01<00:00, 73.47it/s]\n"
          ]
        },
        {
          "name": "stdout",
          "output_type": "stream",
          "text": [
            "Train loss:\t 2.19425044915615\n",
            "Test loss: \t 2.2418277414539194\n",
            "Train acc: \t 0.24549278846153846\n",
            "Test acc:  \t 0.21143196202531644\n",
            "\n",
            "Epoch 2\n",
            "======================================================================\n"
          ]
        },
        {
          "name": "stderr",
          "output_type": "stream",
          "text": [
            "100%|██████████| 390/390 [00:10<00:00, 38.96it/s]\n",
            "100%|██████████| 79/79 [00:01<00:00, 75.05it/s]\n"
          ]
        },
        {
          "name": "stdout",
          "output_type": "stream",
          "text": [
            "Train loss:\t 2.0867303747397203\n",
            "Test loss: \t 2.1154747673227816\n",
            "Train acc: \t 0.3685697115384615\n",
            "Test acc:  \t 0.338310917721519\n",
            "\n",
            "Epoch 3\n",
            "======================================================================\n"
          ]
        },
        {
          "name": "stderr",
          "output_type": "stream",
          "text": [
            "100%|██████████| 390/390 [00:10<00:00, 38.85it/s]\n",
            "100%|██████████| 79/79 [00:01<00:00, 71.51it/s]\n"
          ]
        },
        {
          "name": "stdout",
          "output_type": "stream",
          "text": [
            "Train loss:\t 1.987215455678793\n",
            "Test loss: \t 2.06958920744401\n",
            "Train acc: \t 0.47682291666666665\n",
            "Test acc:  \t 0.38666930379746833\n",
            "\n",
            "Epoch 4\n",
            "======================================================================\n"
          ]
        },
        {
          "name": "stderr",
          "output_type": "stream",
          "text": [
            "100%|██████████| 390/390 [00:10<00:00, 38.84it/s]\n",
            "100%|██████████| 79/79 [00:01<00:00, 72.82it/s]\n"
          ]
        },
        {
          "name": "stdout",
          "output_type": "stream",
          "text": [
            "Train loss:\t 1.9235431787295219\n",
            "Test loss: \t 1.933827142172222\n",
            "Train acc: \t 0.5372796474358974\n",
            "Test acc:  \t 0.5249208860759493\n",
            "\n",
            "Epoch 5\n",
            "======================================================================\n"
          ]
        },
        {
          "name": "stderr",
          "output_type": "stream",
          "text": [
            "100%|██████████| 390/390 [00:10<00:00, 38.90it/s]\n",
            "100%|██████████| 79/79 [00:01<00:00, 70.74it/s]\n"
          ]
        },
        {
          "name": "stdout",
          "output_type": "stream",
          "text": [
            "Train loss:\t 1.8893021103663323\n",
            "Test loss: \t 1.925711729858495\n",
            "Train acc: \t 0.5717948717948718\n",
            "Test acc:  \t 0.5318433544303798\n",
            "\n",
            "Epoch 6\n",
            "======================================================================\n"
          ]
        },
        {
          "name": "stderr",
          "output_type": "stream",
          "text": [
            "100%|██████████| 390/390 [00:10<00:00, 38.96it/s]\n",
            "100%|██████████| 79/79 [00:01<00:00, 70.72it/s]\n"
          ]
        },
        {
          "name": "stdout",
          "output_type": "stream",
          "text": [
            "Train loss:\t 1.864386919217232\n",
            "Test loss: \t 1.8802889766572397\n",
            "Train acc: \t 0.5959935897435897\n",
            "Test acc:  \t 0.5782238924050633\n",
            "\n",
            "Epoch 7\n",
            "======================================================================\n"
          ]
        },
        {
          "name": "stderr",
          "output_type": "stream",
          "text": [
            "100%|██████████| 390/390 [00:10<00:00, 38.81it/s]\n",
            "100%|██████████| 79/79 [00:01<00:00, 70.43it/s]\n"
          ]
        },
        {
          "name": "stdout",
          "output_type": "stream",
          "text": [
            "Train loss:\t 1.8405154350476387\n",
            "Test loss: \t 1.913301170626773\n",
            "Train acc: \t 0.618709935897436\n",
            "Test acc:  \t 0.5442049050632911\n",
            "\n",
            "Epoch 8\n",
            "======================================================================\n"
          ]
        },
        {
          "name": "stderr",
          "output_type": "stream",
          "text": [
            "100%|██████████| 390/390 [00:10<00:00, 38.86it/s]\n",
            "100%|██████████| 79/79 [00:01<00:00, 72.18it/s]\n"
          ]
        },
        {
          "name": "stdout",
          "output_type": "stream",
          "text": [
            "Train loss:\t 1.8120340494009164\n",
            "Test loss: \t 1.806957401806795\n",
            "Train acc: \t 0.6495993589743589\n",
            "Test acc:  \t 0.653184335443038\n",
            "\n",
            "Epoch 9\n",
            "======================================================================\n"
          ]
        },
        {
          "name": "stderr",
          "output_type": "stream",
          "text": [
            "100%|██████████| 390/390 [00:10<00:00, 38.87it/s]\n",
            "100%|██████████| 79/79 [00:01<00:00, 73.44it/s]\n"
          ]
        },
        {
          "name": "stdout",
          "output_type": "stream",
          "text": [
            "Train loss:\t 1.7873723403001442\n",
            "Test loss: \t 1.844176159629339\n",
            "Train acc: \t 0.6743990384615385\n",
            "Test acc:  \t 0.6157041139240507\n",
            "\n",
            "Epoch 10\n",
            "======================================================================\n"
          ]
        },
        {
          "name": "stderr",
          "output_type": "stream",
          "text": [
            "100%|██████████| 390/390 [00:10<00:00, 38.92it/s]\n",
            "100%|██████████| 79/79 [00:01<00:00, 74.06it/s]\n"
          ]
        },
        {
          "name": "stdout",
          "output_type": "stream",
          "text": [
            "Train loss:\t 1.7673760560842662\n",
            "Test loss: \t 1.7915012776097166\n",
            "Train acc: \t 0.6939503205128205\n",
            "Test acc:  \t 0.6670292721518988\n",
            "\n",
            "Epoch 11\n",
            "======================================================================\n"
          ]
        },
        {
          "name": "stderr",
          "output_type": "stream",
          "text": [
            "100%|██████████| 390/390 [00:10<00:00, 38.87it/s]\n",
            "100%|██████████| 79/79 [00:01<00:00, 73.19it/s]\n"
          ]
        },
        {
          "name": "stdout",
          "output_type": "stream",
          "text": [
            "Train loss:\t 1.7526378374833327\n",
            "Test loss: \t 1.7820545133156112\n",
            "Train acc: \t 0.7083733974358974\n",
            "Test acc:  \t 0.6758306962025317\n",
            "\n",
            "Epoch 12\n",
            "======================================================================\n"
          ]
        },
        {
          "name": "stderr",
          "output_type": "stream",
          "text": [
            "100%|██████████| 390/390 [00:10<00:00, 38.98it/s]\n",
            "100%|██████████| 79/79 [00:01<00:00, 73.93it/s]\n"
          ]
        },
        {
          "name": "stdout",
          "output_type": "stream",
          "text": [
            "Train loss:\t 1.7386798748603234\n",
            "Test loss: \t 1.7691687315325193\n",
            "Train acc: \t 0.7228565705128205\n",
            "Test acc:  \t 0.6893789556962026\n",
            "\n",
            "Epoch 13\n",
            "======================================================================\n"
          ]
        },
        {
          "name": "stderr",
          "output_type": "stream",
          "text": [
            "100%|██████████| 390/390 [00:10<00:00, 38.87it/s]\n",
            "100%|██████████| 79/79 [00:01<00:00, 75.20it/s]\n"
          ]
        },
        {
          "name": "stdout",
          "output_type": "stream",
          "text": [
            "Train loss:\t 1.729209309357863\n",
            "Test loss: \t 1.7612296101413196\n",
            "Train acc: \t 0.7317708333333334\n",
            "Test acc:  \t 0.6995648734177216\n",
            "\n",
            "Epoch 14\n",
            "======================================================================\n"
          ]
        },
        {
          "name": "stderr",
          "output_type": "stream",
          "text": [
            "100%|██████████| 390/390 [00:09<00:00, 39.03it/s]\n",
            "100%|██████████| 79/79 [00:01<00:00, 73.19it/s]\n"
          ]
        },
        {
          "name": "stdout",
          "output_type": "stream",
          "text": [
            "Train loss:\t 1.7149684025691105\n",
            "Test loss: \t 1.7712538876110995\n",
            "Train acc: \t 0.7461338141025641\n",
            "Test acc:  \t 0.6875\n",
            "\n",
            "Epoch 15\n",
            "======================================================================\n"
          ]
        },
        {
          "name": "stderr",
          "output_type": "stream",
          "text": [
            "100%|██████████| 390/390 [00:10<00:00, 38.86it/s]\n",
            "100%|██████████| 79/79 [00:01<00:00, 74.24it/s]\n"
          ]
        },
        {
          "name": "stdout",
          "output_type": "stream",
          "text": [
            "Train loss:\t 1.7064548626924172\n",
            "Test loss: \t 1.7412314580965647\n",
            "Train acc: \t 0.7548878205128206\n",
            "Test acc:  \t 0.7172666139240507\n",
            "\n",
            "Epoch 16\n",
            "======================================================================\n"
          ]
        },
        {
          "name": "stderr",
          "output_type": "stream",
          "text": [
            "100%|██████████| 390/390 [00:10<00:00, 38.96it/s]\n",
            "100%|██████████| 79/79 [00:01<00:00, 74.27it/s]\n"
          ]
        },
        {
          "name": "stdout",
          "output_type": "stream",
          "text": [
            "Train loss:\t 1.6990914424260457\n",
            "Test loss: \t 1.7467998402028144\n",
            "Train acc: \t 0.7622596153846154\n",
            "Test acc:  \t 0.712618670886076\n",
            "\n",
            "Epoch 17\n",
            "======================================================================\n"
          ]
        },
        {
          "name": "stderr",
          "output_type": "stream",
          "text": [
            "100%|██████████| 390/390 [00:09<00:00, 39.08it/s]\n",
            "100%|██████████| 79/79 [00:01<00:00, 74.05it/s]\n"
          ]
        },
        {
          "name": "stdout",
          "output_type": "stream",
          "text": [
            "Train loss:\t 1.6918922708584712\n",
            "Test loss: \t 1.7591132921508597\n",
            "Train acc: \t 0.7699719551282052\n",
            "Test acc:  \t 0.7008504746835443\n",
            "\n",
            "Epoch 18\n",
            "======================================================================\n"
          ]
        },
        {
          "name": "stderr",
          "output_type": "stream",
          "text": [
            "100%|██████████| 390/390 [00:10<00:00, 38.88it/s]\n",
            "100%|██████████| 79/79 [00:01<00:00, 75.14it/s]\n"
          ]
        },
        {
          "name": "stdout",
          "output_type": "stream",
          "text": [
            "Train loss:\t 1.6873138378827999\n",
            "Test loss: \t 1.7496056783048413\n",
            "Train acc: \t 0.7732371794871795\n",
            "Test acc:  \t 0.7091574367088608\n",
            "\n",
            "Epoch 19\n",
            "======================================================================\n"
          ]
        },
        {
          "name": "stderr",
          "output_type": "stream",
          "text": [
            "100%|██████████| 390/390 [00:10<00:00, 38.90it/s]\n",
            "100%|██████████| 79/79 [00:01<00:00, 73.32it/s]\n"
          ]
        },
        {
          "name": "stdout",
          "output_type": "stream",
          "text": [
            "Train loss:\t 1.6782616710051512\n",
            "Test loss: \t 1.7111474517025524\n",
            "Train acc: \t 0.7833133012820512\n",
            "Test acc:  \t 0.7474287974683544\n",
            "\n",
            "Epoch 20\n",
            "======================================================================\n"
          ]
        },
        {
          "name": "stderr",
          "output_type": "stream",
          "text": [
            "100%|██████████| 390/390 [00:10<00:00, 38.88it/s]\n",
            "100%|██████████| 79/79 [00:01<00:00, 73.43it/s]\n"
          ]
        },
        {
          "name": "stdout",
          "output_type": "stream",
          "text": [
            "Train loss:\t 1.6721702184432592\n",
            "Test loss: \t 1.711966258061083\n",
            "Train acc: \t 0.7889823717948717\n",
            "Test acc:  \t 0.7477254746835443\n",
            "\n",
            "Epoch 21\n",
            "======================================================================\n"
          ]
        },
        {
          "name": "stderr",
          "output_type": "stream",
          "text": [
            "100%|██████████| 390/390 [00:10<00:00, 38.96it/s]\n",
            "100%|██████████| 79/79 [00:01<00:00, 72.02it/s]\n"
          ]
        },
        {
          "name": "stdout",
          "output_type": "stream",
          "text": [
            "Train loss:\t 1.6671861789165399\n",
            "Test loss: \t 1.7225382192225396\n",
            "Train acc: \t 0.7938701923076923\n",
            "Test acc:  \t 0.7382318037974683\n",
            "\n",
            "Epoch 22\n",
            "======================================================================\n"
          ]
        },
        {
          "name": "stderr",
          "output_type": "stream",
          "text": [
            "100%|██████████| 390/390 [00:10<00:00, 38.77it/s]\n",
            "100%|██████████| 79/79 [00:01<00:00, 70.47it/s]\n"
          ]
        },
        {
          "name": "stdout",
          "output_type": "stream",
          "text": [
            "Train loss:\t 1.6614482632050147\n",
            "Test loss: \t 1.6855126800416391\n",
            "Train acc: \t 0.799639423076923\n",
            "Test acc:  \t 0.7737341772151899\n",
            "\n",
            "Epoch 23\n",
            "======================================================================\n"
          ]
        },
        {
          "name": "stderr",
          "output_type": "stream",
          "text": [
            "100%|██████████| 390/390 [00:10<00:00, 37.97it/s]\n",
            "100%|██████████| 79/79 [00:01<00:00, 70.65it/s]\n"
          ]
        },
        {
          "name": "stdout",
          "output_type": "stream",
          "text": [
            "Train loss:\t 1.6566590226613558\n",
            "Test loss: \t 1.7157669022113462\n",
            "Train acc: \t 0.8040064102564103\n",
            "Test acc:  \t 0.7448575949367089\n",
            "\n",
            "Epoch 24\n",
            "======================================================================\n"
          ]
        },
        {
          "name": "stderr",
          "output_type": "stream",
          "text": [
            "100%|██████████| 390/390 [00:10<00:00, 38.46it/s]\n",
            "100%|██████████| 79/79 [00:01<00:00, 72.37it/s]\n"
          ]
        },
        {
          "name": "stdout",
          "output_type": "stream",
          "text": [
            "Train loss:\t 1.6514824249805549\n",
            "Test loss: \t 1.6828258369542375\n",
            "Train acc: \t 0.8092948717948718\n",
            "Test acc:  \t 0.7763053797468354\n",
            "\n",
            "Epoch 25\n",
            "======================================================================\n"
          ]
        },
        {
          "name": "stderr",
          "output_type": "stream",
          "text": [
            "100%|██████████| 390/390 [00:10<00:00, 38.85it/s]\n",
            "100%|██████████| 79/79 [00:01<00:00, 74.70it/s]\n"
          ]
        },
        {
          "name": "stdout",
          "output_type": "stream",
          "text": [
            "Train loss:\t 1.6469605448918465\n",
            "Test loss: \t 1.6985050273846976\n",
            "Train acc: \t 0.8142027243589743\n",
            "Test acc:  \t 0.7609770569620253\n",
            "\n",
            "Epoch 26\n",
            "======================================================================\n"
          ]
        },
        {
          "name": "stderr",
          "output_type": "stream",
          "text": [
            "100%|██████████| 390/390 [00:10<00:00, 38.78it/s]\n",
            "100%|██████████| 79/79 [00:01<00:00, 73.45it/s]\n"
          ]
        },
        {
          "name": "stdout",
          "output_type": "stream",
          "text": [
            "Train loss:\t 1.641274161522205\n",
            "Test loss: \t 1.6891220279886752\n",
            "Train acc: \t 0.8198116987179487\n",
            "Test acc:  \t 0.7716574367088608\n",
            "\n",
            "Epoch 27\n",
            "======================================================================\n"
          ]
        },
        {
          "name": "stderr",
          "output_type": "stream",
          "text": [
            "100%|██████████| 390/390 [00:10<00:00, 38.79it/s]\n",
            "100%|██████████| 79/79 [00:01<00:00, 71.22it/s]\n"
          ]
        },
        {
          "name": "stdout",
          "output_type": "stream",
          "text": [
            "Train loss:\t 1.636733867877569\n",
            "Test loss: \t 1.6749524828753894\n",
            "Train acc: \t 0.8244391025641026\n",
            "Test acc:  \t 0.7854034810126582\n",
            "\n",
            "Epoch 28\n",
            "======================================================================\n"
          ]
        },
        {
          "name": "stderr",
          "output_type": "stream",
          "text": [
            "100%|██████████| 390/390 [00:10<00:00, 38.78it/s]\n",
            "100%|██████████| 79/79 [00:01<00:00, 71.59it/s]\n"
          ]
        },
        {
          "name": "stdout",
          "output_type": "stream",
          "text": [
            "Train loss:\t 1.6356029913975643\n",
            "Test loss: \t 1.6957662663882291\n",
            "Train acc: \t 0.8255408653846154\n",
            "Test acc:  \t 0.7644382911392406\n",
            "\n",
            "Epoch 29\n",
            "======================================================================\n"
          ]
        },
        {
          "name": "stderr",
          "output_type": "stream",
          "text": [
            "100%|██████████| 390/390 [00:10<00:00, 38.93it/s]\n",
            "100%|██████████| 79/79 [00:01<00:00, 70.39it/s]\n"
          ]
        },
        {
          "name": "stdout",
          "output_type": "stream",
          "text": [
            "Train loss:\t 1.6321080152805034\n",
            "Test loss: \t 1.680279764948012\n",
            "Train acc: \t 0.8287860576923077\n",
            "Test acc:  \t 0.7793710443037974\n",
            "\n",
            "Epoch 30\n",
            "======================================================================\n"
          ]
        },
        {
          "name": "stderr",
          "output_type": "stream",
          "text": [
            "100%|██████████| 390/390 [00:10<00:00, 38.84it/s]\n",
            "100%|██████████| 79/79 [00:01<00:00, 70.39it/s]\n"
          ]
        },
        {
          "name": "stdout",
          "output_type": "stream",
          "text": [
            "Train loss:\t 1.6255449753541213\n",
            "Test loss: \t 1.6948276350769815\n",
            "Train acc: \t 0.8357371794871795\n",
            "Test acc:  \t 0.7648338607594937\n",
            "\n",
            "Epoch 31\n",
            "======================================================================\n"
          ]
        },
        {
          "name": "stderr",
          "output_type": "stream",
          "text": [
            "100%|██████████| 390/390 [00:10<00:00, 38.84it/s]\n",
            "100%|██████████| 79/79 [00:01<00:00, 71.43it/s]\n"
          ]
        },
        {
          "name": "stdout",
          "output_type": "stream",
          "text": [
            "Train loss:\t 1.623053447711162\n",
            "Test loss: \t 1.6944787396660335\n",
            "Train acc: \t 0.8381810897435897\n",
            "Test acc:  \t 0.765625\n",
            "\n",
            "Epoch 32\n",
            "======================================================================\n"
          ]
        },
        {
          "name": "stderr",
          "output_type": "stream",
          "text": [
            "100%|██████████| 390/390 [00:10<00:00, 38.96it/s]\n",
            "100%|██████████| 79/79 [00:01<00:00, 73.21it/s]\n"
          ]
        },
        {
          "name": "stdout",
          "output_type": "stream",
          "text": [
            "Train loss:\t 1.6230680661323742\n",
            "Test loss: \t 1.663332172586948\n",
            "Train acc: \t 0.8375801282051282\n",
            "Test acc:  \t 0.7967761075949367\n",
            "\n",
            "Epoch 33\n",
            "======================================================================\n"
          ]
        },
        {
          "name": "stderr",
          "output_type": "stream",
          "text": [
            "100%|██████████| 390/390 [00:10<00:00, 38.97it/s]\n",
            "100%|██████████| 79/79 [00:01<00:00, 74.43it/s]\n"
          ]
        },
        {
          "name": "stdout",
          "output_type": "stream",
          "text": [
            "Train loss:\t 1.6186301607352036\n",
            "Test loss: \t 1.670337403876872\n",
            "Train acc: \t 0.8423076923076923\n",
            "Test acc:  \t 0.790743670886076\n",
            "\n",
            "Epoch 34\n",
            "======================================================================\n"
          ]
        },
        {
          "name": "stderr",
          "output_type": "stream",
          "text": [
            "100%|██████████| 390/390 [00:10<00:00, 38.91it/s]\n",
            "100%|██████████| 79/79 [00:01<00:00, 73.48it/s]\n"
          ]
        },
        {
          "name": "stdout",
          "output_type": "stream",
          "text": [
            "Train loss:\t 1.615990169843038\n",
            "Test loss: \t 1.6867872929271264\n",
            "Train acc: \t 0.8446314102564103\n",
            "Test acc:  \t 0.7735363924050633\n",
            "\n",
            "Epoch 35\n",
            "======================================================================\n"
          ]
        },
        {
          "name": "stderr",
          "output_type": "stream",
          "text": [
            "100%|██████████| 390/390 [00:10<00:00, 38.91it/s]\n",
            "100%|██████████| 79/79 [00:01<00:00, 73.33it/s]\n"
          ]
        },
        {
          "name": "stdout",
          "output_type": "stream",
          "text": [
            "Train loss:\t 1.610835381043263\n",
            "Test loss: \t 1.6748576843285863\n",
            "Train acc: \t 0.8505408653846154\n",
            "Test acc:  \t 0.7852056962025317\n",
            "\n",
            "Epoch 36\n",
            "======================================================================\n"
          ]
        },
        {
          "name": "stderr",
          "output_type": "stream",
          "text": [
            "100%|██████████| 390/390 [00:10<00:00, 38.98it/s]\n",
            "100%|██████████| 79/79 [00:01<00:00, 74.40it/s]\n"
          ]
        },
        {
          "name": "stdout",
          "output_type": "stream",
          "text": [
            "Train loss:\t 1.6085641781489055\n",
            "Test loss: \t 1.6649040783507913\n",
            "Train acc: \t 0.8522636217948718\n",
            "Test acc:  \t 0.7946004746835443\n",
            "\n",
            "Epoch 37\n",
            "======================================================================\n"
          ]
        },
        {
          "name": "stderr",
          "output_type": "stream",
          "text": [
            "100%|██████████| 390/390 [00:10<00:00, 38.91it/s]\n",
            "100%|██████████| 79/79 [00:01<00:00, 73.98it/s]\n"
          ]
        },
        {
          "name": "stdout",
          "output_type": "stream",
          "text": [
            "Train loss:\t 1.6058619866004358\n",
            "Test loss: \t 1.6636102003387259\n",
            "Train acc: \t 0.8549479166666667\n",
            "Test acc:  \t 0.7966772151898734\n",
            "\n",
            "Epoch 38\n",
            "======================================================================\n"
          ]
        },
        {
          "name": "stderr",
          "output_type": "stream",
          "text": [
            "100%|██████████| 390/390 [00:09<00:00, 39.04it/s]\n",
            "100%|██████████| 79/79 [00:01<00:00, 73.90it/s]\n"
          ]
        },
        {
          "name": "stdout",
          "output_type": "stream",
          "text": [
            "Train loss:\t 1.6021473484161572\n",
            "Test loss: \t 1.6787845877152454\n",
            "Train acc: \t 0.8589142628205129\n",
            "Test acc:  \t 0.7809533227848101\n",
            "\n",
            "Epoch 39\n",
            "======================================================================\n"
          ]
        },
        {
          "name": "stderr",
          "output_type": "stream",
          "text": [
            "100%|██████████| 390/390 [00:10<00:00, 38.93it/s]\n",
            "100%|██████████| 79/79 [00:01<00:00, 73.43it/s]\n"
          ]
        },
        {
          "name": "stdout",
          "output_type": "stream",
          "text": [
            "Train loss:\t 1.600300227678739\n",
            "Test loss: \t 1.673186862016026\n",
            "Train acc: \t 0.8609975961538462\n",
            "Test acc:  \t 0.7857990506329114\n",
            "\n",
            "Epoch 40\n",
            "======================================================================\n"
          ]
        },
        {
          "name": "stderr",
          "output_type": "stream",
          "text": [
            "100%|██████████| 390/390 [00:10<00:00, 38.97it/s]\n",
            "100%|██████████| 79/79 [00:01<00:00, 72.55it/s]\n"
          ]
        },
        {
          "name": "stdout",
          "output_type": "stream",
          "text": [
            "Train loss:\t 1.5988228804025895\n",
            "Test loss: \t 1.671329071250143\n",
            "Train acc: \t 0.8623197115384615\n",
            "Test acc:  \t 0.7879746835443038\n",
            "\n",
            "Epoch 41\n",
            "======================================================================\n"
          ]
        },
        {
          "name": "stderr",
          "output_type": "stream",
          "text": [
            "100%|██████████| 390/390 [00:10<00:00, 38.99it/s]\n",
            "100%|██████████| 79/79 [00:01<00:00, 75.99it/s]\n"
          ]
        },
        {
          "name": "stdout",
          "output_type": "stream",
          "text": [
            "Train loss:\t 1.5957382232714923\n",
            "Test loss: \t 1.6507979691783083\n",
            "Train acc: \t 0.8657051282051282\n",
            "Test acc:  \t 0.8096321202531646\n",
            "\n",
            "Epoch 42\n",
            "======================================================================\n"
          ]
        },
        {
          "name": "stderr",
          "output_type": "stream",
          "text": [
            "100%|██████████| 390/390 [00:10<00:00, 38.90it/s]\n",
            "100%|██████████| 79/79 [00:01<00:00, 73.00it/s]\n"
          ]
        },
        {
          "name": "stdout",
          "output_type": "stream",
          "text": [
            "Train loss:\t 1.5935940247315628\n",
            "Test loss: \t 1.649979176400583\n",
            "Train acc: \t 0.8674479166666667\n",
            "Test acc:  \t 0.8097310126582279\n",
            "\n",
            "Epoch 43\n",
            "======================================================================\n"
          ]
        },
        {
          "name": "stderr",
          "output_type": "stream",
          "text": [
            "100%|██████████| 390/390 [00:10<00:00, 38.93it/s]\n",
            "100%|██████████| 79/79 [00:01<00:00, 73.93it/s]\n"
          ]
        },
        {
          "name": "stdout",
          "output_type": "stream",
          "text": [
            "Train loss:\t 1.5887519341248733\n",
            "Test loss: \t 1.6632307601880423\n",
            "Train acc: \t 0.8723958333333334\n",
            "Test acc:  \t 0.796182753164557\n",
            "\n",
            "Epoch 44\n",
            "======================================================================\n"
          ]
        },
        {
          "name": "stderr",
          "output_type": "stream",
          "text": [
            "100%|██████████| 390/390 [00:10<00:00, 38.89it/s]\n",
            "100%|██████████| 79/79 [00:01<00:00, 73.64it/s]\n"
          ]
        },
        {
          "name": "stdout",
          "output_type": "stream",
          "text": [
            "Train loss:\t 1.5870920991286253\n",
            "Test loss: \t 1.646490475799464\n",
            "Train acc: \t 0.8737780448717949\n",
            "Test acc:  \t 0.8140822784810127\n",
            "\n",
            "Epoch 45\n",
            "======================================================================\n"
          ]
        },
        {
          "name": "stderr",
          "output_type": "stream",
          "text": [
            "100%|██████████| 390/390 [00:10<00:00, 38.88it/s]\n",
            "100%|██████████| 79/79 [00:01<00:00, 73.22it/s]\n"
          ]
        },
        {
          "name": "stdout",
          "output_type": "stream",
          "text": [
            "Train loss:\t 1.5855279794106116\n",
            "Test loss: \t 1.680423812021183\n",
            "Train acc: \t 0.8759214743589744\n",
            "Test acc:  \t 0.7796677215189873\n",
            "\n",
            "Epoch 46\n",
            "======================================================================\n"
          ]
        },
        {
          "name": "stderr",
          "output_type": "stream",
          "text": [
            "100%|██████████| 390/390 [00:10<00:00, 38.86it/s]\n",
            "100%|██████████| 79/79 [00:01<00:00, 74.68it/s]\n"
          ]
        },
        {
          "name": "stdout",
          "output_type": "stream",
          "text": [
            "Train loss:\t 1.5834937716141726\n",
            "Test loss: \t 1.6557976098000249\n",
            "Train acc: \t 0.8772836538461538\n",
            "Test acc:  \t 0.8038963607594937\n",
            "\n",
            "Epoch 47\n",
            "======================================================================\n"
          ]
        },
        {
          "name": "stderr",
          "output_type": "stream",
          "text": [
            "100%|██████████| 390/390 [00:10<00:00, 38.79it/s]\n",
            "100%|██████████| 79/79 [00:01<00:00, 72.61it/s]\n"
          ]
        },
        {
          "name": "stdout",
          "output_type": "stream",
          "text": [
            "Train loss:\t 1.5803123312118725\n",
            "Test loss: \t 1.6411205122742472\n",
            "Train acc: \t 0.8806290064102564\n",
            "Test acc:  \t 0.8201147151898734\n",
            "\n",
            "Epoch 48\n",
            "======================================================================\n"
          ]
        },
        {
          "name": "stderr",
          "output_type": "stream",
          "text": [
            "100%|██████████| 390/390 [00:10<00:00, 38.82it/s]\n",
            "100%|██████████| 79/79 [00:01<00:00, 72.17it/s]\n"
          ]
        },
        {
          "name": "stdout",
          "output_type": "stream",
          "text": [
            "Train loss:\t 1.5788763214380312\n",
            "Test loss: \t 1.6628643002691148\n",
            "Train acc: \t 0.8825120192307693\n",
            "Test acc:  \t 0.7977650316455697\n",
            "\n",
            "Epoch 49\n",
            "======================================================================\n"
          ]
        },
        {
          "name": "stderr",
          "output_type": "stream",
          "text": [
            "100%|██████████| 390/390 [00:10<00:00, 38.86it/s]\n",
            "100%|██████████| 79/79 [00:01<00:00, 70.54it/s]\n"
          ]
        },
        {
          "name": "stdout",
          "output_type": "stream",
          "text": [
            "Train loss:\t 1.5771556615829467\n",
            "Test loss: \t 1.6553283130066305\n",
            "Train acc: \t 0.8838741987179487\n",
            "Test acc:  \t 0.8044897151898734\n"
          ]
        }
      ],
      "source": [
        "# Membuat instance dari kelas MyModel\n",
        "model = MyModel(len(CIFARSample.label_to_str), use_swish=True, loss_unit=\"crossentropy\", optimizer_name=\"AGD\")\n",
        "\n",
        "# Melatih model\n",
        "model.train(train_loader, test_loader, max_epoch=50)\n",
        "results3 = model.results"
      ]
    },
    {
      "cell_type": "code",
      "execution_count": null,
      "metadata": {
        "colab": {
          "base_uri": "https://localhost:8080/"
        },
        "id": "YYKA4JWje10V",
        "outputId": "7877d98b-30b3-45e6-ed5d-e0e2f1943184"
      },
      "outputs": [
        {
          "name": "stdout",
          "output_type": "stream",
          "text": [
            "\n",
            "Epoch 0\n",
            "======================================================================\n"
          ]
        },
        {
          "name": "stderr",
          "output_type": "stream",
          "text": [
            "100%|██████████| 390/390 [00:10<00:00, 38.18it/s]\n",
            "100%|██████████| 79/79 [00:01<00:00, 72.67it/s]\n"
          ]
        },
        {
          "name": "stdout",
          "output_type": "stream",
          "text": [
            "Train loss:\t 2.2771392999551234\n",
            "Test loss: \t 2.2729866474489624\n",
            "Train acc: \t 0.17552083333333332\n",
            "Test acc:  \t 0.21835443037974683\n",
            "\n",
            "Epoch 1\n",
            "======================================================================\n"
          ]
        },
        {
          "name": "stderr",
          "output_type": "stream",
          "text": [
            "100%|██████████| 390/390 [00:10<00:00, 38.76it/s]\n",
            "100%|██████████| 79/79 [00:01<00:00, 72.38it/s]\n"
          ]
        },
        {
          "name": "stdout",
          "output_type": "stream",
          "text": [
            "Train loss:\t 2.1955679856813872\n",
            "Test loss: \t 2.238209341145769\n",
            "Train acc: \t 0.25158253205128206\n",
            "Test acc:  \t 0.19630142405063292\n",
            "\n",
            "Epoch 2\n",
            "======================================================================\n"
          ]
        },
        {
          "name": "stderr",
          "output_type": "stream",
          "text": [
            "100%|██████████| 390/390 [00:10<00:00, 38.77it/s]\n",
            "100%|██████████| 79/79 [00:01<00:00, 72.65it/s]\n"
          ]
        },
        {
          "name": "stdout",
          "output_type": "stream",
          "text": [
            "Train loss:\t 2.1246199008746025\n",
            "Test loss: \t 2.2472774559938453\n",
            "Train acc: \t 0.3182491987179487\n",
            "Test acc:  \t 0.1964992088607595\n",
            "\n",
            "Epoch 3\n",
            "======================================================================\n"
          ]
        },
        {
          "name": "stderr",
          "output_type": "stream",
          "text": [
            "100%|██████████| 390/390 [00:10<00:00, 38.93it/s]\n",
            "100%|██████████| 79/79 [00:01<00:00, 72.98it/s]\n"
          ]
        },
        {
          "name": "stdout",
          "output_type": "stream",
          "text": [
            "Train loss:\t 2.0427230232801192\n",
            "Test loss: \t 2.116183462022226\n",
            "Train acc: \t 0.41991185897435895\n",
            "Test acc:  \t 0.3414754746835443\n",
            "\n",
            "Epoch 4\n",
            "======================================================================\n"
          ]
        },
        {
          "name": "stderr",
          "output_type": "stream",
          "text": [
            "100%|██████████| 390/390 [00:10<00:00, 38.80it/s]\n",
            "100%|██████████| 79/79 [00:01<00:00, 72.18it/s]\n"
          ]
        },
        {
          "name": "stdout",
          "output_type": "stream",
          "text": [
            "Train loss:\t 1.9563394711567805\n",
            "Test loss: \t 1.9724260236643538\n",
            "Train acc: \t 0.5074919871794872\n",
            "Test acc:  \t 0.4861550632911392\n",
            "\n",
            "Epoch 5\n",
            "======================================================================\n"
          ]
        },
        {
          "name": "stderr",
          "output_type": "stream",
          "text": [
            "100%|██████████| 390/390 [00:10<00:00, 38.76it/s]\n",
            "100%|██████████| 79/79 [00:01<00:00, 69.18it/s]\n"
          ]
        },
        {
          "name": "stdout",
          "output_type": "stream",
          "text": [
            "Train loss:\t 1.9066821599617982\n",
            "Test loss: \t 1.9198204369484624\n",
            "Train acc: \t 0.55546875\n",
            "Test acc:  \t 0.5378757911392406\n",
            "\n",
            "Epoch 6\n",
            "======================================================================\n"
          ]
        },
        {
          "name": "stderr",
          "output_type": "stream",
          "text": [
            "100%|██████████| 390/390 [00:10<00:00, 38.64it/s]\n",
            "100%|██████████| 79/79 [00:01<00:00, 70.78it/s]\n"
          ]
        },
        {
          "name": "stdout",
          "output_type": "stream",
          "text": [
            "Train loss:\t 1.8703111092249551\n",
            "Test loss: \t 1.9064656420599055\n",
            "Train acc: \t 0.5936097756410257\n",
            "Test acc:  \t 0.5507318037974683\n",
            "\n",
            "Epoch 7\n",
            "======================================================================\n"
          ]
        },
        {
          "name": "stderr",
          "output_type": "stream",
          "text": [
            "100%|██████████| 390/390 [00:10<00:00, 38.62it/s]\n",
            "100%|██████████| 79/79 [00:01<00:00, 68.80it/s]\n"
          ]
        },
        {
          "name": "stdout",
          "output_type": "stream",
          "text": [
            "Train loss:\t 1.837115525893676\n",
            "Test loss: \t 1.8455509928208362\n",
            "Train acc: \t 0.6270833333333333\n",
            "Test acc:  \t 0.615506329113924\n",
            "\n",
            "Epoch 8\n",
            "======================================================================\n"
          ]
        },
        {
          "name": "stderr",
          "output_type": "stream",
          "text": [
            "100%|██████████| 390/390 [00:10<00:00, 38.74it/s]\n",
            "100%|██████████| 79/79 [00:01<00:00, 67.90it/s]\n"
          ]
        },
        {
          "name": "stdout",
          "output_type": "stream",
          "text": [
            "Train loss:\t 1.8143339034838555\n",
            "Test loss: \t 1.850746266449554\n",
            "Train acc: \t 0.6475961538461539\n",
            "Test acc:  \t 0.6069026898734177\n",
            "\n",
            "Epoch 9\n",
            "======================================================================\n"
          ]
        },
        {
          "name": "stderr",
          "output_type": "stream",
          "text": [
            "100%|██████████| 390/390 [00:10<00:00, 38.66it/s]\n",
            "100%|██████████| 79/79 [00:01<00:00, 69.35it/s]\n"
          ]
        },
        {
          "name": "stdout",
          "output_type": "stream",
          "text": [
            "Train loss:\t 1.7945542087921729\n",
            "Test loss: \t 1.8255742909033088\n",
            "Train acc: \t 0.6673677884615384\n",
            "Test acc:  \t 0.6339003164556962\n",
            "\n",
            "Epoch 10\n",
            "======================================================================\n"
          ]
        },
        {
          "name": "stderr",
          "output_type": "stream",
          "text": [
            "100%|██████████| 390/390 [00:10<00:00, 38.63it/s]\n",
            "100%|██████████| 79/79 [00:01<00:00, 69.51it/s]\n"
          ]
        },
        {
          "name": "stdout",
          "output_type": "stream",
          "text": [
            "Train loss:\t 1.775455531401512\n",
            "Test loss: \t 1.7824312297603753\n",
            "Train acc: \t 0.6862580128205128\n",
            "Test acc:  \t 0.6755340189873418\n",
            "\n",
            "Epoch 11\n",
            "======================================================================\n"
          ]
        },
        {
          "name": "stderr",
          "output_type": "stream",
          "text": [
            "100%|██████████| 390/390 [00:10<00:00, 38.72it/s]\n",
            "100%|██████████| 79/79 [00:01<00:00, 72.20it/s]\n"
          ]
        },
        {
          "name": "stdout",
          "output_type": "stream",
          "text": [
            "Train loss:\t 1.764036851662856\n",
            "Test loss: \t 1.7882157262367537\n",
            "Train acc: \t 0.697275641025641\n",
            "Test acc:  \t 0.6709849683544303\n",
            "\n",
            "Epoch 12\n",
            "======================================================================\n"
          ]
        },
        {
          "name": "stderr",
          "output_type": "stream",
          "text": [
            "100%|██████████| 390/390 [00:10<00:00, 38.73it/s]\n",
            "100%|██████████| 79/79 [00:01<00:00, 72.69it/s]\n"
          ]
        },
        {
          "name": "stdout",
          "output_type": "stream",
          "text": [
            "Train loss:\t 1.7480026452969282\n",
            "Test loss: \t 1.7842972520031506\n",
            "Train acc: \t 0.713661858974359\n",
            "Test acc:  \t 0.6737539556962026\n",
            "\n",
            "Epoch 13\n",
            "======================================================================\n"
          ]
        },
        {
          "name": "stderr",
          "output_type": "stream",
          "text": [
            "100%|██████████| 390/390 [00:10<00:00, 38.59it/s]\n",
            "100%|██████████| 79/79 [00:01<00:00, 72.47it/s]\n"
          ]
        },
        {
          "name": "stdout",
          "output_type": "stream",
          "text": [
            "Train loss:\t 1.736671467622121\n",
            "Test loss: \t 1.7696333897264698\n",
            "Train acc: \t 0.7238581730769231\n",
            "Test acc:  \t 0.6900712025316456\n",
            "\n",
            "Epoch 14\n",
            "======================================================================\n"
          ]
        },
        {
          "name": "stderr",
          "output_type": "stream",
          "text": [
            "100%|██████████| 390/390 [00:10<00:00, 38.85it/s]\n",
            "100%|██████████| 79/79 [00:01<00:00, 72.19it/s]\n"
          ]
        },
        {
          "name": "stdout",
          "output_type": "stream",
          "text": [
            "Train loss:\t 1.7262162434749113\n",
            "Test loss: \t 1.8026646873618983\n",
            "Train acc: \t 0.7347756410256411\n",
            "Test acc:  \t 0.6568433544303798\n",
            "\n",
            "Epoch 15\n",
            "======================================================================\n"
          ]
        },
        {
          "name": "stderr",
          "output_type": "stream",
          "text": [
            "100%|██████████| 390/390 [00:10<00:00, 38.55it/s]\n",
            "100%|██████████| 79/79 [00:01<00:00, 70.87it/s]\n"
          ]
        },
        {
          "name": "stdout",
          "output_type": "stream",
          "text": [
            "Train loss:\t 1.7178630092205145\n",
            "Test loss: \t 1.7600216156319728\n",
            "Train acc: \t 0.744130608974359\n",
            "Test acc:  \t 0.6998615506329114\n",
            "\n",
            "Epoch 16\n",
            "======================================================================\n"
          ]
        },
        {
          "name": "stderr",
          "output_type": "stream",
          "text": [
            "100%|██████████| 390/390 [00:10<00:00, 38.20it/s]\n",
            "100%|██████████| 79/79 [00:01<00:00, 69.81it/s]\n"
          ]
        },
        {
          "name": "stdout",
          "output_type": "stream",
          "text": [
            "Train loss:\t 1.708563822049361\n",
            "Test loss: \t 1.748968030832991\n",
            "Train acc: \t 0.7532451923076923\n",
            "Test acc:  \t 0.7097507911392406\n",
            "\n",
            "Epoch 17\n",
            "======================================================================\n"
          ]
        },
        {
          "name": "stderr",
          "output_type": "stream",
          "text": [
            "100%|██████████| 390/390 [00:10<00:00, 38.25it/s]\n",
            "100%|██████████| 79/79 [00:01<00:00, 73.12it/s]\n"
          ]
        },
        {
          "name": "stdout",
          "output_type": "stream",
          "text": [
            "Train loss:\t 1.697543327930646\n",
            "Test loss: \t 1.7601544117625756\n",
            "Train acc: \t 0.7637419871794872\n",
            "Test acc:  \t 0.6990704113924051\n",
            "\n",
            "Epoch 18\n",
            "======================================================================\n"
          ]
        },
        {
          "name": "stderr",
          "output_type": "stream",
          "text": [
            "100%|██████████| 390/390 [00:10<00:00, 38.88it/s]\n",
            "100%|██████████| 79/79 [00:01<00:00, 74.56it/s]\n"
          ]
        },
        {
          "name": "stdout",
          "output_type": "stream",
          "text": [
            "Train loss:\t 1.6923203333830221\n",
            "Test loss: \t 1.724060417730597\n",
            "Train acc: \t 0.7692307692307693\n",
            "Test acc:  \t 0.7368473101265823\n",
            "\n",
            "Epoch 19\n",
            "======================================================================\n"
          ]
        },
        {
          "name": "stderr",
          "output_type": "stream",
          "text": [
            "100%|██████████| 390/390 [00:10<00:00, 38.91it/s]\n",
            "100%|██████████| 79/79 [00:01<00:00, 73.07it/s]\n"
          ]
        },
        {
          "name": "stdout",
          "output_type": "stream",
          "text": [
            "Train loss:\t 1.6841594940576798\n",
            "Test loss: \t 1.7173708118969881\n",
            "Train acc: \t 0.7769831730769231\n",
            "Test acc:  \t 0.7412974683544303\n",
            "\n",
            "Epoch 20\n",
            "======================================================================\n"
          ]
        },
        {
          "name": "stderr",
          "output_type": "stream",
          "text": [
            "100%|██████████| 390/390 [00:10<00:00, 38.88it/s]\n",
            "100%|██████████| 79/79 [00:01<00:00, 74.22it/s]\n"
          ]
        },
        {
          "name": "stdout",
          "output_type": "stream",
          "text": [
            "Train loss:\t 1.679656237210983\n",
            "Test loss: \t 1.6997367203990115\n",
            "Train acc: \t 0.7809895833333333\n",
            "Test acc:  \t 0.7617681962025317\n",
            "\n",
            "Epoch 21\n",
            "======================================================================\n"
          ]
        },
        {
          "name": "stderr",
          "output_type": "stream",
          "text": [
            "100%|██████████| 390/390 [00:10<00:00, 38.90it/s]\n",
            "100%|██████████| 79/79 [00:01<00:00, 71.73it/s]\n"
          ]
        },
        {
          "name": "stdout",
          "output_type": "stream",
          "text": [
            "Train loss:\t 1.6742101956636477\n",
            "Test loss: \t 1.7086053769799727\n",
            "Train acc: \t 0.7866586538461539\n",
            "Test acc:  \t 0.75\n",
            "\n",
            "Epoch 22\n",
            "======================================================================\n"
          ]
        },
        {
          "name": "stderr",
          "output_type": "stream",
          "text": [
            "100%|██████████| 390/390 [00:10<00:00, 38.86it/s]\n",
            "100%|██████████| 79/79 [00:01<00:00, 73.09it/s]\n"
          ]
        },
        {
          "name": "stdout",
          "output_type": "stream",
          "text": [
            "Train loss:\t 1.6687596541184646\n",
            "Test loss: \t 1.6977089251144022\n",
            "Train acc: \t 0.7928084935897436\n",
            "Test acc:  \t 0.762559335443038\n",
            "\n",
            "Epoch 23\n",
            "======================================================================\n"
          ]
        },
        {
          "name": "stderr",
          "output_type": "stream",
          "text": [
            "100%|██████████| 390/390 [00:10<00:00, 38.87it/s]\n",
            "100%|██████████| 79/79 [00:01<00:00, 73.88it/s]\n"
          ]
        },
        {
          "name": "stdout",
          "output_type": "stream",
          "text": [
            "Train loss:\t 1.6648637099143786\n",
            "Test loss: \t 1.7097166716297971\n",
            "Train acc: \t 0.7964743589743589\n",
            "Test acc:  \t 0.7498022151898734\n",
            "\n",
            "Epoch 24\n",
            "======================================================================\n"
          ]
        },
        {
          "name": "stderr",
          "output_type": "stream",
          "text": [
            "100%|██████████| 390/390 [00:10<00:00, 38.94it/s]\n",
            "100%|██████████| 79/79 [00:01<00:00, 72.30it/s]\n"
          ]
        },
        {
          "name": "stdout",
          "output_type": "stream",
          "text": [
            "Train loss:\t 1.6571148799015925\n",
            "Test loss: \t 1.6983403525774992\n",
            "Train acc: \t 0.8042668269230769\n",
            "Test acc:  \t 0.7607792721518988\n",
            "\n",
            "Epoch 25\n",
            "======================================================================\n"
          ]
        },
        {
          "name": "stderr",
          "output_type": "stream",
          "text": [
            "100%|██████████| 390/390 [00:10<00:00, 38.91it/s]\n",
            "100%|██████████| 79/79 [00:01<00:00, 73.11it/s]\n"
          ]
        },
        {
          "name": "stdout",
          "output_type": "stream",
          "text": [
            "Train loss:\t 1.6527640990721875\n",
            "Test loss: \t 1.7286122418657135\n",
            "Train acc: \t 0.8086538461538462\n",
            "Test acc:  \t 0.7299248417721519\n",
            "\n",
            "Epoch 26\n",
            "======================================================================\n"
          ]
        },
        {
          "name": "stderr",
          "output_type": "stream",
          "text": [
            "100%|██████████| 390/390 [00:10<00:00, 38.97it/s]\n",
            "100%|██████████| 79/79 [00:01<00:00, 73.08it/s]\n"
          ]
        },
        {
          "name": "stdout",
          "output_type": "stream",
          "text": [
            "Train loss:\t 1.6487272855563042\n",
            "Test loss: \t 1.6816099987754338\n",
            "Train acc: \t 0.8128605769230769\n",
            "Test acc:  \t 0.7782832278481012\n",
            "\n",
            "Epoch 27\n",
            "======================================================================\n"
          ]
        },
        {
          "name": "stderr",
          "output_type": "stream",
          "text": [
            "100%|██████████| 390/390 [00:10<00:00, 38.94it/s]\n",
            "100%|██████████| 79/79 [00:01<00:00, 73.90it/s]\n"
          ]
        },
        {
          "name": "stdout",
          "output_type": "stream",
          "text": [
            "Train loss:\t 1.6433617539894887\n",
            "Test loss: \t 1.6738053801693493\n",
            "Train acc: \t 0.8175681089743589\n",
            "Test acc:  \t 0.7867879746835443\n",
            "\n",
            "Epoch 28\n",
            "======================================================================\n"
          ]
        },
        {
          "name": "stderr",
          "output_type": "stream",
          "text": [
            "100%|██████████| 390/390 [00:10<00:00, 38.90it/s]\n",
            "100%|██████████| 79/79 [00:01<00:00, 72.57it/s]\n"
          ]
        },
        {
          "name": "stdout",
          "output_type": "stream",
          "text": [
            "Train loss:\t 1.6417332300773033\n",
            "Test loss: \t 1.6876956088633477\n",
            "Train acc: \t 0.8194310897435897\n",
            "Test acc:  \t 0.7718552215189873\n",
            "\n",
            "Epoch 29\n",
            "======================================================================\n"
          ]
        },
        {
          "name": "stderr",
          "output_type": "stream",
          "text": [
            "100%|██████████| 390/390 [00:10<00:00, 38.76it/s]\n",
            "100%|██████████| 79/79 [00:01<00:00, 70.82it/s]\n"
          ]
        },
        {
          "name": "stdout",
          "output_type": "stream",
          "text": [
            "Train loss:\t 1.6356533509034377\n",
            "Test loss: \t 1.6868409325804892\n",
            "Train acc: \t 0.8251001602564103\n",
            "Test acc:  \t 0.7721518987341772\n",
            "\n",
            "Epoch 30\n",
            "======================================================================\n"
          ]
        },
        {
          "name": "stderr",
          "output_type": "stream",
          "text": [
            "100%|██████████| 390/390 [00:10<00:00, 38.90it/s]\n",
            "100%|██████████| 79/79 [00:01<00:00, 70.40it/s]\n"
          ]
        },
        {
          "name": "stdout",
          "output_type": "stream",
          "text": [
            "Train loss:\t 1.6355267530832536\n",
            "Test loss: \t 1.6930504297908349\n",
            "Train acc: \t 0.8255008012820513\n",
            "Test acc:  \t 0.7654272151898734\n",
            "\n",
            "Epoch 31\n",
            "======================================================================\n"
          ]
        },
        {
          "name": "stderr",
          "output_type": "stream",
          "text": [
            "100%|██████████| 390/390 [00:10<00:00, 38.89it/s]\n",
            "100%|██████████| 79/79 [00:01<00:00, 72.44it/s]\n"
          ]
        },
        {
          "name": "stdout",
          "output_type": "stream",
          "text": [
            "Train loss:\t 1.6321256811802203\n",
            "Test loss: \t 1.6957914512368697\n",
            "Train acc: \t 0.8291266025641025\n",
            "Test acc:  \t 0.7634493670886076\n",
            "\n",
            "Epoch 32\n",
            "======================================================================\n"
          ]
        },
        {
          "name": "stderr",
          "output_type": "stream",
          "text": [
            "100%|██████████| 390/390 [00:10<00:00, 38.93it/s]\n",
            "100%|██████████| 79/79 [00:01<00:00, 69.85it/s]\n"
          ]
        },
        {
          "name": "stdout",
          "output_type": "stream",
          "text": [
            "Train loss:\t 1.625149980875162\n",
            "Test loss: \t 1.670108027096036\n",
            "Train acc: \t 0.8356370192307693\n",
            "Test acc:  \t 0.791435917721519\n",
            "\n",
            "Epoch 33\n",
            "======================================================================\n"
          ]
        },
        {
          "name": "stderr",
          "output_type": "stream",
          "text": [
            "100%|██████████| 390/390 [00:10<00:00, 38.91it/s]\n",
            "100%|██████████| 79/79 [00:01<00:00, 72.22it/s]\n"
          ]
        },
        {
          "name": "stdout",
          "output_type": "stream",
          "text": [
            "Train loss:\t 1.6221099908535297\n",
            "Test loss: \t 1.6853834028485455\n",
            "Train acc: \t 0.8385416666666666\n",
            "Test acc:  \t 0.7752175632911392\n",
            "\n",
            "Epoch 34\n",
            "======================================================================\n"
          ]
        },
        {
          "name": "stderr",
          "output_type": "stream",
          "text": [
            "100%|██████████| 390/390 [00:10<00:00, 38.89it/s]\n",
            "100%|██████████| 79/79 [00:01<00:00, 72.60it/s]\n"
          ]
        },
        {
          "name": "stdout",
          "output_type": "stream",
          "text": [
            "Train loss:\t 1.6178998286907489\n",
            "Test loss: \t 1.6816063681735267\n",
            "Train acc: \t 0.8430088141025641\n",
            "Test acc:  \t 0.7782832278481012\n",
            "\n",
            "Epoch 35\n",
            "======================================================================\n"
          ]
        },
        {
          "name": "stderr",
          "output_type": "stream",
          "text": [
            "100%|██████████| 390/390 [00:10<00:00, 38.89it/s]\n",
            "100%|██████████| 79/79 [00:01<00:00, 73.37it/s]\n"
          ]
        },
        {
          "name": "stdout",
          "output_type": "stream",
          "text": [
            "Train loss:\t 1.6143729567527771\n",
            "Test loss: \t 1.6860192727439012\n",
            "Train acc: \t 0.8468149038461539\n",
            "Test acc:  \t 0.7735363924050633\n",
            "\n",
            "Epoch 36\n",
            "======================================================================\n"
          ]
        },
        {
          "name": "stderr",
          "output_type": "stream",
          "text": [
            "100%|██████████| 390/390 [00:10<00:00, 38.82it/s]\n",
            "100%|██████████| 79/79 [00:01<00:00, 72.36it/s]\n"
          ]
        },
        {
          "name": "stdout",
          "output_type": "stream",
          "text": [
            "Train loss:\t 1.6112114964387356\n",
            "Test loss: \t 1.6812281804748728\n",
            "Train acc: \t 0.8504006410256411\n",
            "Test acc:  \t 0.7794699367088608\n",
            "\n",
            "Epoch 37\n",
            "======================================================================\n"
          ]
        },
        {
          "name": "stderr",
          "output_type": "stream",
          "text": [
            "100%|██████████| 390/390 [00:10<00:00, 38.77it/s]\n",
            "100%|██████████| 79/79 [00:01<00:00, 73.39it/s]\n"
          ]
        },
        {
          "name": "stdout",
          "output_type": "stream",
          "text": [
            "Train loss:\t 1.6113695068237108\n",
            "Test loss: \t 1.6735044808327397\n",
            "Train acc: \t 0.8499599358974359\n",
            "Test acc:  \t 0.7850079113924051\n",
            "\n",
            "Epoch 38\n",
            "======================================================================\n"
          ]
        },
        {
          "name": "stderr",
          "output_type": "stream",
          "text": [
            "100%|██████████| 390/390 [00:10<00:00, 38.93it/s]\n",
            "100%|██████████| 79/79 [00:01<00:00, 72.53it/s]\n"
          ]
        },
        {
          "name": "stdout",
          "output_type": "stream",
          "text": [
            "Train loss:\t 1.6066044067725158\n",
            "Test loss: \t 1.6573699199700658\n",
            "Train acc: \t 0.8544270833333333\n",
            "Test acc:  \t 0.8033030063291139\n",
            "\n",
            "Epoch 39\n",
            "======================================================================\n"
          ]
        },
        {
          "name": "stderr",
          "output_type": "stream",
          "text": [
            "100%|██████████| 390/390 [00:10<00:00, 38.84it/s]\n",
            "100%|██████████| 79/79 [00:01<00:00, 73.66it/s]\n"
          ]
        },
        {
          "name": "stdout",
          "output_type": "stream",
          "text": [
            "Train loss:\t 1.60392392934897\n",
            "Test loss: \t 1.6561473849453503\n",
            "Train acc: \t 0.8570713141025641\n",
            "Test acc:  \t 0.8043908227848101\n",
            "\n",
            "Epoch 40\n",
            "======================================================================\n"
          ]
        },
        {
          "name": "stderr",
          "output_type": "stream",
          "text": [
            "100%|██████████| 390/390 [00:10<00:00, 38.95it/s]\n",
            "100%|██████████| 79/79 [00:01<00:00, 72.68it/s]\n"
          ]
        },
        {
          "name": "stdout",
          "output_type": "stream",
          "text": [
            "Train loss:\t 1.6018528171074695\n",
            "Test loss: \t 1.6490607835069488\n",
            "Train acc: \t 0.8590745192307693\n",
            "Test acc:  \t 0.8112143987341772\n",
            "\n",
            "Epoch 41\n",
            "======================================================================\n"
          ]
        },
        {
          "name": "stderr",
          "output_type": "stream",
          "text": [
            "100%|██████████| 390/390 [00:10<00:00, 38.83it/s]\n",
            "100%|██████████| 79/79 [00:01<00:00, 73.71it/s]\n"
          ]
        },
        {
          "name": "stdout",
          "output_type": "stream",
          "text": [
            "Train loss:\t 1.5977713233385331\n",
            "Test loss: \t 1.6523284534864788\n",
            "Train acc: \t 0.8633814102564102\n",
            "Test acc:  \t 0.8071598101265823\n",
            "\n",
            "Epoch 42\n",
            "======================================================================\n"
          ]
        },
        {
          "name": "stderr",
          "output_type": "stream",
          "text": [
            "100%|██████████| 390/390 [00:09<00:00, 39.03it/s]\n",
            "100%|██████████| 79/79 [00:01<00:00, 73.66it/s]\n"
          ]
        },
        {
          "name": "stdout",
          "output_type": "stream",
          "text": [
            "Train loss:\t 1.598323440246093\n",
            "Test loss: \t 1.6583340545243854\n",
            "Train acc: \t 0.8625400641025641\n",
            "Test acc:  \t 0.8028085443037974\n",
            "\n",
            "Epoch 43\n",
            "======================================================================\n"
          ]
        },
        {
          "name": "stderr",
          "output_type": "stream",
          "text": [
            "100%|██████████| 390/390 [00:09<00:00, 39.02it/s]\n",
            "100%|██████████| 79/79 [00:01<00:00, 73.83it/s]\n"
          ]
        },
        {
          "name": "stdout",
          "output_type": "stream",
          "text": [
            "Train loss:\t 1.592789032520392\n",
            "Test loss: \t 1.6497723150856887\n",
            "Train acc: \t 0.8681490384615385\n",
            "Test acc:  \t 0.8106210443037974\n",
            "\n",
            "Epoch 44\n",
            "======================================================================\n"
          ]
        },
        {
          "name": "stderr",
          "output_type": "stream",
          "text": [
            "100%|██████████| 390/390 [00:10<00:00, 38.81it/s]\n",
            "100%|██████████| 79/79 [00:01<00:00, 73.34it/s]\n"
          ]
        },
        {
          "name": "stdout",
          "output_type": "stream",
          "text": [
            "Train loss:\t 1.5908765154007154\n",
            "Test loss: \t 1.6490425837190845\n",
            "Train acc: \t 0.8702323717948718\n",
            "Test acc:  \t 0.810818829113924\n",
            "\n",
            "Epoch 45\n",
            "======================================================================\n"
          ]
        },
        {
          "name": "stderr",
          "output_type": "stream",
          "text": [
            "100%|██████████| 390/390 [00:09<00:00, 39.00it/s]\n",
            "100%|██████████| 79/79 [00:01<00:00, 72.84it/s]\n"
          ]
        },
        {
          "name": "stdout",
          "output_type": "stream",
          "text": [
            "Train loss:\t 1.5885117674485232\n",
            "Test loss: \t 1.6648381148712545\n",
            "Train acc: \t 0.8723157051282051\n",
            "Test acc:  \t 0.795193829113924\n",
            "\n",
            "Epoch 46\n",
            "======================================================================\n"
          ]
        },
        {
          "name": "stderr",
          "output_type": "stream",
          "text": [
            "100%|██████████| 390/390 [00:10<00:00, 38.93it/s]\n",
            "100%|██████████| 79/79 [00:01<00:00, 74.56it/s]\n"
          ]
        },
        {
          "name": "stdout",
          "output_type": "stream",
          "text": [
            "Train loss:\t 1.5850872935392917\n",
            "Test loss: \t 1.6603223009954524\n",
            "Train acc: \t 0.876181891025641\n",
            "Test acc:  \t 0.8013251582278481\n",
            "\n",
            "Epoch 47\n",
            "======================================================================\n"
          ]
        },
        {
          "name": "stderr",
          "output_type": "stream",
          "text": [
            "100%|██████████| 390/390 [00:10<00:00, 38.94it/s]\n",
            "100%|██████████| 79/79 [00:01<00:00, 74.50it/s]\n"
          ]
        },
        {
          "name": "stdout",
          "output_type": "stream",
          "text": [
            "Train loss:\t 1.5827550524320357\n",
            "Test loss: \t 1.6398489777045915\n",
            "Train acc: \t 0.8784254807692308\n",
            "Test acc:  \t 0.8199169303797469\n",
            "\n",
            "Epoch 48\n",
            "======================================================================\n"
          ]
        },
        {
          "name": "stderr",
          "output_type": "stream",
          "text": [
            "100%|██████████| 390/390 [00:10<00:00, 38.95it/s]\n",
            "100%|██████████| 79/79 [00:01<00:00, 72.23it/s]\n"
          ]
        },
        {
          "name": "stdout",
          "output_type": "stream",
          "text": [
            "Train loss:\t 1.5832171458464401\n",
            "Test loss: \t 1.6454282274729088\n",
            "Train acc: \t 0.8774038461538461\n",
            "Test acc:  \t 0.8156645569620253\n",
            "\n",
            "Epoch 49\n",
            "======================================================================\n"
          ]
        },
        {
          "name": "stderr",
          "output_type": "stream",
          "text": [
            "100%|██████████| 390/390 [00:10<00:00, 38.87it/s]\n",
            "100%|██████████| 79/79 [00:01<00:00, 73.04it/s]\n"
          ]
        },
        {
          "name": "stdout",
          "output_type": "stream",
          "text": [
            "Train loss:\t 1.5815817102407799\n",
            "Test loss: \t 1.6457974865466733\n",
            "Train acc: \t 0.8793870192307692\n",
            "Test acc:  \t 0.8146756329113924\n"
          ]
        }
      ],
      "source": [
        "# Membuat instance dari kelas MyModel\n",
        "model = MyModel(len(CIFARSample.label_to_str), use_swish=True, loss_unit=\"crossentropy\", optimizer_name=\"AGD2\")\n",
        "\n",
        "# Melatih model\n",
        "model.train(train_loader, test_loader, max_epoch=50)\n",
        "results4 = model.results"
      ]
    },
    {
      "attachments": {},
      "cell_type": "markdown",
      "metadata": {
        "id": "9ZpepjdOCbPG"
      },
      "source": [
        "#### Using Lion Optimizer"
      ]
    },
    {
      "cell_type": "code",
      "execution_count": null,
      "metadata": {
        "colab": {
          "base_uri": "https://localhost:8080/"
        },
        "id": "gLiUZXibNlGn",
        "outputId": "d20ac6ac-34bf-4721-9921-20db04236de8"
      },
      "outputs": [
        {
          "name": "stdout",
          "output_type": "stream",
          "text": [
            "\n",
            "Epoch 0\n",
            "======================================================================\n"
          ]
        },
        {
          "name": "stderr",
          "output_type": "stream",
          "text": [
            "100%|██████████| 390/390 [00:10<00:00, 37.88it/s]\n",
            "100%|██████████| 79/79 [00:01<00:00, 71.44it/s]\n"
          ]
        },
        {
          "name": "stdout",
          "output_type": "stream",
          "text": [
            "Train loss:\t 2.1300922137040357\n",
            "Test loss: \t 2.0317975358117986\n",
            "Train acc: \t 0.3267628205128205\n",
            "Test acc:  \t 0.4239517405063291\n",
            "\n",
            "Epoch 1\n",
            "======================================================================\n"
          ]
        },
        {
          "name": "stderr",
          "output_type": "stream",
          "text": [
            "100%|██████████| 390/390 [00:10<00:00, 37.51it/s]\n",
            "100%|██████████| 79/79 [00:01<00:00, 70.29it/s]\n"
          ]
        },
        {
          "name": "stdout",
          "output_type": "stream",
          "text": [
            "Train loss:\t 1.951921262496557\n",
            "Test loss: \t 1.9821265271947355\n",
            "Train acc: \t 0.5081530448717949\n",
            "Test acc:  \t 0.47498022151898733\n",
            "\n",
            "Epoch 2\n",
            "======================================================================\n"
          ]
        },
        {
          "name": "stderr",
          "output_type": "stream",
          "text": [
            "100%|██████████| 390/390 [00:10<00:00, 37.97it/s]\n",
            "100%|██████████| 79/79 [00:01<00:00, 71.25it/s]\n"
          ]
        },
        {
          "name": "stdout",
          "output_type": "stream",
          "text": [
            "Train loss:\t 1.884695108425923\n",
            "Test loss: \t 1.9119913321507127\n",
            "Train acc: \t 0.5750801282051282\n",
            "Test acc:  \t 0.5446993670886076\n",
            "\n",
            "Epoch 3\n",
            "======================================================================\n"
          ]
        },
        {
          "name": "stderr",
          "output_type": "stream",
          "text": [
            "100%|██████████| 390/390 [00:10<00:00, 38.05it/s]\n",
            "100%|██████████| 79/79 [00:01<00:00, 69.81it/s]\n"
          ]
        },
        {
          "name": "stdout",
          "output_type": "stream",
          "text": [
            "Train loss:\t 1.8458086044360429\n",
            "Test loss: \t 1.8732325744025315\n",
            "Train acc: \t 0.6140625\n",
            "Test acc:  \t 0.5868275316455697\n",
            "\n",
            "Epoch 4\n",
            "======================================================================\n"
          ]
        },
        {
          "name": "stderr",
          "output_type": "stream",
          "text": [
            "100%|██████████| 390/390 [00:10<00:00, 38.01it/s]\n",
            "100%|██████████| 79/79 [00:01<00:00, 73.31it/s]\n"
          ]
        },
        {
          "name": "stdout",
          "output_type": "stream",
          "text": [
            "Train loss:\t 1.8201264586204138\n",
            "Test loss: \t 1.851726286018951\n",
            "Train acc: \t 0.6395032051282051\n",
            "Test acc:  \t 0.6062104430379747\n",
            "\n",
            "Epoch 5\n",
            "======================================================================\n"
          ]
        },
        {
          "name": "stderr",
          "output_type": "stream",
          "text": [
            "100%|██████████| 390/390 [00:10<00:00, 37.93it/s]\n",
            "100%|██████████| 79/79 [00:01<00:00, 71.08it/s]\n"
          ]
        },
        {
          "name": "stdout",
          "output_type": "stream",
          "text": [
            "Train loss:\t 1.790546884597876\n",
            "Test loss: \t 1.8334094406683235\n",
            "Train acc: \t 0.6688100961538461\n",
            "Test acc:  \t 0.6244066455696202\n",
            "\n",
            "Epoch 6\n",
            "======================================================================\n"
          ]
        },
        {
          "name": "stderr",
          "output_type": "stream",
          "text": [
            "100%|██████████| 390/390 [00:10<00:00, 37.54it/s]\n",
            "100%|██████████| 79/79 [00:01<00:00, 70.22it/s]\n"
          ]
        },
        {
          "name": "stdout",
          "output_type": "stream",
          "text": [
            "Train loss:\t 1.7719784849729294\n",
            "Test loss: \t 1.827542929709712\n",
            "Train acc: \t 0.6874198717948717\n",
            "Test acc:  \t 0.6314280063291139\n",
            "\n",
            "Epoch 7\n",
            "======================================================================\n"
          ]
        },
        {
          "name": "stderr",
          "output_type": "stream",
          "text": [
            "100%|██████████| 390/390 [00:10<00:00, 37.92it/s]\n",
            "100%|██████████| 79/79 [00:01<00:00, 72.07it/s]\n"
          ]
        },
        {
          "name": "stdout",
          "output_type": "stream",
          "text": [
            "Train loss:\t 1.7575364033381145\n",
            "Test loss: \t 1.7952908881102936\n",
            "Train acc: \t 0.7022035256410256\n",
            "Test acc:  \t 0.6636669303797469\n",
            "\n",
            "Epoch 8\n",
            "======================================================================\n"
          ]
        },
        {
          "name": "stderr",
          "output_type": "stream",
          "text": [
            "100%|██████████| 390/390 [00:10<00:00, 36.77it/s]\n",
            "100%|██████████| 79/79 [00:01<00:00, 69.34it/s]\n"
          ]
        },
        {
          "name": "stdout",
          "output_type": "stream",
          "text": [
            "Train loss:\t 1.741531384908236\n",
            "Test loss: \t 1.7736955141719384\n",
            "Train acc: \t 0.7187700320512821\n",
            "Test acc:  \t 0.6855221518987342\n",
            "\n",
            "Epoch 9\n",
            "======================================================================\n"
          ]
        },
        {
          "name": "stderr",
          "output_type": "stream",
          "text": [
            "100%|██████████| 390/390 [00:10<00:00, 37.98it/s]\n",
            "100%|██████████| 79/79 [00:01<00:00, 67.68it/s]\n"
          ]
        },
        {
          "name": "stdout",
          "output_type": "stream",
          "text": [
            "Train loss:\t 1.7263802231886447\n",
            "Test loss: \t 1.7546989751767508\n",
            "Train acc: \t 0.7341346153846153\n",
            "Test acc:  \t 0.7050039556962026\n",
            "\n",
            "Epoch 10\n",
            "======================================================================\n"
          ]
        },
        {
          "name": "stderr",
          "output_type": "stream",
          "text": [
            "100%|██████████| 390/390 [00:10<00:00, 38.02it/s]\n",
            "100%|██████████| 79/79 [00:01<00:00, 71.67it/s]\n"
          ]
        },
        {
          "name": "stdout",
          "output_type": "stream",
          "text": [
            "Train loss:\t 1.7156572858492534\n",
            "Test loss: \t 1.7528994656816315\n",
            "Train acc: \t 0.7444110576923076\n",
            "Test acc:  \t 0.7069818037974683\n",
            "\n",
            "Epoch 11\n",
            "======================================================================\n"
          ]
        },
        {
          "name": "stderr",
          "output_type": "stream",
          "text": [
            "100%|██████████| 390/390 [00:10<00:00, 37.99it/s]\n",
            "100%|██████████| 79/79 [00:01<00:00, 68.08it/s]\n"
          ]
        },
        {
          "name": "stdout",
          "output_type": "stream",
          "text": [
            "Train loss:\t 1.7070824629221206\n",
            "Test loss: \t 1.7423391176175467\n",
            "Train acc: \t 0.7533052884615384\n",
            "Test acc:  \t 0.7155854430379747\n",
            "\n",
            "Epoch 12\n",
            "======================================================================\n"
          ]
        },
        {
          "name": "stderr",
          "output_type": "stream",
          "text": [
            "100%|██████████| 390/390 [00:10<00:00, 38.01it/s]\n",
            "100%|██████████| 79/79 [00:01<00:00, 69.12it/s]\n"
          ]
        },
        {
          "name": "stdout",
          "output_type": "stream",
          "text": [
            "Train loss:\t 1.6982803613711626\n",
            "Test loss: \t 1.7329372016689446\n",
            "Train acc: \t 0.7621794871794871\n",
            "Test acc:  \t 0.7267602848101266\n",
            "\n",
            "Epoch 13\n",
            "======================================================================\n"
          ]
        },
        {
          "name": "stderr",
          "output_type": "stream",
          "text": [
            "100%|██████████| 390/390 [00:10<00:00, 37.92it/s]\n",
            "100%|██████████| 79/79 [00:01<00:00, 67.30it/s]\n"
          ]
        },
        {
          "name": "stdout",
          "output_type": "stream",
          "text": [
            "Train loss:\t 1.6947953428977576\n",
            "Test loss: \t 1.7268543469754956\n",
            "Train acc: \t 0.7654847756410257\n",
            "Test acc:  \t 0.7321993670886076\n",
            "\n",
            "Epoch 14\n",
            "======================================================================\n"
          ]
        },
        {
          "name": "stderr",
          "output_type": "stream",
          "text": [
            "100%|██████████| 390/390 [00:10<00:00, 37.88it/s]\n",
            "100%|██████████| 79/79 [00:01<00:00, 67.83it/s]\n"
          ]
        },
        {
          "name": "stdout",
          "output_type": "stream",
          "text": [
            "Train loss:\t 1.6825118984931555\n",
            "Test loss: \t 1.7138551096372967\n",
            "Train acc: \t 0.7782852564102564\n",
            "Test acc:  \t 0.7477254746835443\n",
            "\n",
            "Epoch 15\n",
            "======================================================================\n"
          ]
        },
        {
          "name": "stderr",
          "output_type": "stream",
          "text": [
            "100%|██████████| 390/390 [00:10<00:00, 37.97it/s]\n",
            "100%|██████████| 79/79 [00:01<00:00, 67.91it/s]\n"
          ]
        },
        {
          "name": "stdout",
          "output_type": "stream",
          "text": [
            "Train loss:\t 1.6747279203855074\n",
            "Test loss: \t 1.7196158623393578\n",
            "Train acc: \t 0.7854967948717949\n",
            "Test acc:  \t 0.7392207278481012\n",
            "\n",
            "Epoch 16\n",
            "======================================================================\n"
          ]
        },
        {
          "name": "stderr",
          "output_type": "stream",
          "text": [
            "100%|██████████| 390/390 [00:10<00:00, 37.86it/s]\n",
            "100%|██████████| 79/79 [00:01<00:00, 68.33it/s]\n"
          ]
        },
        {
          "name": "stdout",
          "output_type": "stream",
          "text": [
            "Train loss:\t 1.6743983812821217\n",
            "Test loss: \t 1.708980524087254\n",
            "Train acc: \t 0.7860176282051282\n",
            "Test acc:  \t 0.7502966772151899\n",
            "\n",
            "Epoch 17\n",
            "======================================================================\n"
          ]
        },
        {
          "name": "stderr",
          "output_type": "stream",
          "text": [
            "100%|██████████| 390/390 [00:10<00:00, 37.95it/s]\n",
            "100%|██████████| 79/79 [00:01<00:00, 68.51it/s]\n"
          ]
        },
        {
          "name": "stdout",
          "output_type": "stream",
          "text": [
            "Train loss:\t 1.6626679218732394\n",
            "Test loss: \t 1.6958056899565686\n",
            "Train acc: \t 0.7981570512820513\n",
            "Test acc:  \t 0.7643393987341772\n",
            "\n",
            "Epoch 18\n",
            "======================================================================\n"
          ]
        },
        {
          "name": "stderr",
          "output_type": "stream",
          "text": [
            "100%|██████████| 390/390 [00:10<00:00, 38.04it/s]\n",
            "100%|██████████| 79/79 [00:01<00:00, 68.38it/s]\n"
          ]
        },
        {
          "name": "stdout",
          "output_type": "stream",
          "text": [
            "Train loss:\t 1.6564213508214707\n",
            "Test loss: \t 1.686302337465407\n",
            "Train acc: \t 0.8043870192307693\n",
            "Test acc:  \t 0.774129746835443\n",
            "\n",
            "Epoch 19\n",
            "======================================================================\n"
          ]
        },
        {
          "name": "stderr",
          "output_type": "stream",
          "text": [
            "100%|██████████| 390/390 [00:10<00:00, 38.10it/s]\n",
            "100%|██████████| 79/79 [00:01<00:00, 70.37it/s]\n"
          ]
        },
        {
          "name": "stdout",
          "output_type": "stream",
          "text": [
            "Train loss:\t 1.6525133979626192\n",
            "Test loss: \t 1.6939865939224823\n",
            "Train acc: \t 0.8085536858974359\n",
            "Test acc:  \t 0.7658227848101266\n",
            "\n",
            "Epoch 20\n",
            "======================================================================\n"
          ]
        },
        {
          "name": "stderr",
          "output_type": "stream",
          "text": [
            "100%|██████████| 390/390 [00:10<00:00, 37.06it/s]\n",
            "100%|██████████| 79/79 [00:01<00:00, 62.87it/s]\n"
          ]
        },
        {
          "name": "stdout",
          "output_type": "stream",
          "text": [
            "Train loss:\t 1.6497712248410934\n",
            "Test loss: \t 1.7047937203057204\n",
            "Train acc: \t 0.8104967948717948\n",
            "Test acc:  \t 0.7551424050632911\n",
            "\n",
            "Epoch 21\n",
            "======================================================================\n"
          ]
        },
        {
          "name": "stderr",
          "output_type": "stream",
          "text": [
            "100%|██████████| 390/390 [00:10<00:00, 36.89it/s]\n",
            "100%|██████████| 79/79 [00:01<00:00, 70.61it/s]\n"
          ]
        },
        {
          "name": "stdout",
          "output_type": "stream",
          "text": [
            "Train loss:\t 1.6446405698091555\n",
            "Test loss: \t 1.6915032727808892\n",
            "Train acc: \t 0.8166466346153847\n",
            "Test acc:  \t 0.7678006329113924\n",
            "\n",
            "Epoch 22\n",
            "======================================================================\n"
          ]
        },
        {
          "name": "stderr",
          "output_type": "stream",
          "text": [
            "100%|██████████| 390/390 [00:10<00:00, 36.57it/s]\n",
            "100%|██████████| 79/79 [00:01<00:00, 68.17it/s]\n"
          ]
        },
        {
          "name": "stdout",
          "output_type": "stream",
          "text": [
            "Train loss:\t 1.6448237076783792\n",
            "Test loss: \t 1.6841763514506667\n",
            "Train acc: \t 0.8156850961538461\n",
            "Test acc:  \t 0.7764042721518988\n",
            "\n",
            "Epoch 23\n",
            "======================================================================\n"
          ]
        },
        {
          "name": "stderr",
          "output_type": "stream",
          "text": [
            "100%|██████████| 390/390 [00:10<00:00, 37.96it/s]\n",
            "100%|██████████| 79/79 [00:01<00:00, 70.78it/s]\n"
          ]
        },
        {
          "name": "stdout",
          "output_type": "stream",
          "text": [
            "Train loss:\t 1.6404854484093494\n",
            "Test loss: \t 1.692314010632189\n",
            "Train acc: \t 0.8202524038461538\n",
            "Test acc:  \t 0.7678006329113924\n",
            "\n",
            "Epoch 24\n",
            "======================================================================\n"
          ]
        },
        {
          "name": "stderr",
          "output_type": "stream",
          "text": [
            "100%|██████████| 390/390 [00:10<00:00, 37.50it/s]\n",
            "100%|██████████| 79/79 [00:01<00:00, 64.39it/s]\n"
          ]
        },
        {
          "name": "stdout",
          "output_type": "stream",
          "text": [
            "Train loss:\t 1.6339699075772212\n",
            "Test loss: \t 1.6842779766155194\n",
            "Train acc: \t 0.826983173076923\n",
            "Test acc:  \t 0.7754153481012658\n",
            "\n",
            "Epoch 25\n",
            "======================================================================\n"
          ]
        },
        {
          "name": "stderr",
          "output_type": "stream",
          "text": [
            "100%|██████████| 390/390 [00:10<00:00, 36.99it/s]\n",
            "100%|██████████| 79/79 [00:01<00:00, 70.67it/s]\n"
          ]
        },
        {
          "name": "stdout",
          "output_type": "stream",
          "text": [
            "Train loss:\t 1.6304618887412243\n",
            "Test loss: \t 1.6680678430991838\n",
            "Train acc: \t 0.8303485576923076\n",
            "Test acc:  \t 0.792128164556962\n",
            "\n",
            "Epoch 26\n",
            "======================================================================\n"
          ]
        },
        {
          "name": "stderr",
          "output_type": "stream",
          "text": [
            "100%|██████████| 390/390 [00:10<00:00, 37.91it/s]\n",
            "100%|██████████| 79/79 [00:01<00:00, 70.50it/s]\n"
          ]
        },
        {
          "name": "stdout",
          "output_type": "stream",
          "text": [
            "Train loss:\t 1.6267007714662796\n",
            "Test loss: \t 1.6830337258833874\n",
            "Train acc: \t 0.8335136217948718\n",
            "Test acc:  \t 0.7767009493670886\n",
            "\n",
            "Epoch 27\n",
            "======================================================================\n"
          ]
        },
        {
          "name": "stderr",
          "output_type": "stream",
          "text": [
            "100%|██████████| 390/390 [00:10<00:00, 38.04it/s]\n",
            "100%|██████████| 79/79 [00:01<00:00, 70.54it/s]\n"
          ]
        },
        {
          "name": "stdout",
          "output_type": "stream",
          "text": [
            "Train loss:\t 1.6208188527669662\n",
            "Test loss: \t 1.6776100985611542\n",
            "Train acc: \t 0.8394230769230769\n",
            "Test acc:  \t 0.7823378164556962\n",
            "\n",
            "Epoch 28\n",
            "======================================================================\n"
          ]
        },
        {
          "name": "stderr",
          "output_type": "stream",
          "text": [
            "100%|██████████| 390/390 [00:10<00:00, 37.41it/s]\n",
            "100%|██████████| 79/79 [00:01<00:00, 68.26it/s]\n"
          ]
        },
        {
          "name": "stdout",
          "output_type": "stream",
          "text": [
            "Train loss:\t 1.6197867344587278\n",
            "Test loss: \t 1.6902279989628852\n",
            "Train acc: \t 0.8409655448717949\n",
            "Test acc:  \t 0.7690862341772152\n",
            "\n",
            "Epoch 29\n",
            "======================================================================\n"
          ]
        },
        {
          "name": "stderr",
          "output_type": "stream",
          "text": [
            "100%|██████████| 390/390 [00:10<00:00, 38.02it/s]\n",
            "100%|██████████| 79/79 [00:01<00:00, 69.92it/s]\n"
          ]
        },
        {
          "name": "stdout",
          "output_type": "stream",
          "text": [
            "Train loss:\t 1.6151600898840488\n",
            "Test loss: \t 1.66858219949505\n",
            "Train acc: \t 0.8453926282051282\n",
            "Test acc:  \t 0.7901503164556962\n",
            "\n",
            "Epoch 30\n",
            "======================================================================\n"
          ]
        },
        {
          "name": "stderr",
          "output_type": "stream",
          "text": [
            "100%|██████████| 390/390 [00:10<00:00, 37.60it/s]\n",
            "100%|██████████| 79/79 [00:01<00:00, 70.69it/s]\n"
          ]
        },
        {
          "name": "stdout",
          "output_type": "stream",
          "text": [
            "Train loss:\t 1.6137594473667634\n",
            "Test loss: \t 1.6605423975594436\n",
            "Train acc: \t 0.8468149038461539\n",
            "Test acc:  \t 0.7996439873417721\n",
            "\n",
            "Epoch 31\n",
            "======================================================================\n"
          ]
        },
        {
          "name": "stderr",
          "output_type": "stream",
          "text": [
            "100%|██████████| 390/390 [00:10<00:00, 37.94it/s]\n",
            "100%|██████████| 79/79 [00:01<00:00, 70.45it/s]\n"
          ]
        },
        {
          "name": "stdout",
          "output_type": "stream",
          "text": [
            "Train loss:\t 1.6115308104417263\n",
            "Test loss: \t 1.6653518842745432\n",
            "Train acc: \t 0.84921875\n",
            "Test acc:  \t 0.7934137658227848\n",
            "\n",
            "Epoch 32\n",
            "======================================================================\n"
          ]
        },
        {
          "name": "stderr",
          "output_type": "stream",
          "text": [
            "100%|██████████| 390/390 [00:10<00:00, 38.19it/s]\n",
            "100%|██████████| 79/79 [00:01<00:00, 70.77it/s]\n"
          ]
        },
        {
          "name": "stdout",
          "output_type": "stream",
          "text": [
            "Train loss:\t 1.607764395689353\n",
            "Test loss: \t 1.6537129984626286\n",
            "Train acc: \t 0.8527644230769231\n",
            "Test acc:  \t 0.8061708860759493\n",
            "\n",
            "Epoch 33\n",
            "======================================================================\n"
          ]
        },
        {
          "name": "stderr",
          "output_type": "stream",
          "text": [
            "100%|██████████| 390/390 [00:10<00:00, 38.01it/s]\n",
            "100%|██████████| 79/79 [00:01<00:00, 72.41it/s]\n"
          ]
        },
        {
          "name": "stdout",
          "output_type": "stream",
          "text": [
            "Train loss:\t 1.6025316586861245\n",
            "Test loss: \t 1.6656938248042819\n",
            "Train acc: \t 0.8579527243589744\n",
            "Test acc:  \t 0.7952927215189873\n",
            "\n",
            "Epoch 34\n",
            "======================================================================\n"
          ]
        },
        {
          "name": "stderr",
          "output_type": "stream",
          "text": [
            "100%|██████████| 390/390 [00:10<00:00, 37.96it/s]\n",
            "100%|██████████| 79/79 [00:01<00:00, 73.04it/s]\n"
          ]
        },
        {
          "name": "stdout",
          "output_type": "stream",
          "text": [
            "Train loss:\t 1.6007796223347004\n",
            "Test loss: \t 1.6526983267144313\n",
            "Train acc: \t 0.8598157051282052\n",
            "Test acc:  \t 0.807060917721519\n",
            "\n",
            "Epoch 35\n",
            "======================================================================\n"
          ]
        },
        {
          "name": "stderr",
          "output_type": "stream",
          "text": [
            "100%|██████████| 390/390 [00:10<00:00, 38.09it/s]\n",
            "100%|██████████| 79/79 [00:01<00:00, 72.34it/s]\n"
          ]
        },
        {
          "name": "stdout",
          "output_type": "stream",
          "text": [
            "Train loss:\t 1.5994554920074266\n",
            "Test loss: \t 1.6540829048881047\n",
            "Train acc: \t 0.8609174679487179\n",
            "Test acc:  \t 0.8066653481012658\n",
            "\n",
            "Epoch 36\n",
            "======================================================================\n"
          ]
        },
        {
          "name": "stderr",
          "output_type": "stream",
          "text": [
            "100%|██████████| 390/390 [00:10<00:00, 38.01it/s]\n",
            "100%|██████████| 79/79 [00:01<00:00, 73.55it/s]\n"
          ]
        },
        {
          "name": "stdout",
          "output_type": "stream",
          "text": [
            "Train loss:\t 1.6001308505351728\n",
            "Test loss: \t 1.660914594614053\n",
            "Train acc: \t 0.8604166666666667\n",
            "Test acc:  \t 0.7997428797468354\n",
            "\n",
            "Epoch 37\n",
            "======================================================================\n"
          ]
        },
        {
          "name": "stderr",
          "output_type": "stream",
          "text": [
            "100%|██████████| 390/390 [00:10<00:00, 38.16it/s]\n",
            "100%|██████████| 79/79 [00:01<00:00, 71.31it/s]\n"
          ]
        },
        {
          "name": "stdout",
          "output_type": "stream",
          "text": [
            "Train loss:\t 1.5989156967554337\n",
            "Test loss: \t 1.6529562035693397\n",
            "Train acc: \t 0.862099358974359\n",
            "Test acc:  \t 0.8079509493670886\n",
            "\n",
            "Epoch 38\n",
            "======================================================================\n"
          ]
        },
        {
          "name": "stderr",
          "output_type": "stream",
          "text": [
            "100%|██████████| 390/390 [00:10<00:00, 38.04it/s]\n",
            "100%|██████████| 79/79 [00:01<00:00, 73.19it/s]\n"
          ]
        },
        {
          "name": "stdout",
          "output_type": "stream",
          "text": [
            "Train loss:\t 1.5920756260553997\n",
            "Test loss: \t 1.651187166382995\n",
            "Train acc: \t 0.8688100961538462\n",
            "Test acc:  \t 0.8086431962025317\n",
            "\n",
            "Epoch 39\n",
            "======================================================================\n"
          ]
        },
        {
          "name": "stderr",
          "output_type": "stream",
          "text": [
            "100%|██████████| 390/390 [00:10<00:00, 38.11it/s]\n",
            "100%|██████████| 79/79 [00:01<00:00, 69.65it/s]\n"
          ]
        },
        {
          "name": "stdout",
          "output_type": "stream",
          "text": [
            "Train loss:\t 1.5876633680783785\n",
            "Test loss: \t 1.6643223581434805\n",
            "Train acc: \t 0.8735176282051282\n",
            "Test acc:  \t 0.7957871835443038\n",
            "\n",
            "Epoch 40\n",
            "======================================================================\n"
          ]
        },
        {
          "name": "stderr",
          "output_type": "stream",
          "text": [
            "100%|██████████| 390/390 [00:10<00:00, 38.10it/s]\n",
            "100%|██████████| 79/79 [00:01<00:00, 72.22it/s]\n"
          ]
        },
        {
          "name": "stdout",
          "output_type": "stream",
          "text": [
            "Train loss:\t 1.589569894167093\n",
            "Test loss: \t 1.6540226136581808\n",
            "Train acc: \t 0.8712139423076923\n",
            "Test acc:  \t 0.8068631329113924\n",
            "\n",
            "Epoch 41\n",
            "======================================================================\n"
          ]
        },
        {
          "name": "stderr",
          "output_type": "stream",
          "text": [
            "100%|██████████| 390/390 [00:10<00:00, 38.13it/s]\n",
            "100%|██████████| 79/79 [00:01<00:00, 73.51it/s]\n"
          ]
        },
        {
          "name": "stdout",
          "output_type": "stream",
          "text": [
            "Train loss:\t 1.5873261369191682\n",
            "Test loss: \t 1.6544710095924666\n",
            "Train acc: \t 0.8732772435897436\n",
            "Test acc:  \t 0.8061708860759493\n",
            "\n",
            "Epoch 42\n",
            "======================================================================\n"
          ]
        },
        {
          "name": "stderr",
          "output_type": "stream",
          "text": [
            "100%|██████████| 390/390 [00:10<00:00, 38.13it/s]\n",
            "100%|██████████| 79/79 [00:01<00:00, 73.16it/s]\n"
          ]
        },
        {
          "name": "stdout",
          "output_type": "stream",
          "text": [
            "Train loss:\t 1.5864428657751817\n",
            "Test loss: \t 1.6442710508274128\n",
            "Train acc: \t 0.8747195512820513\n",
            "Test acc:  \t 0.8169501582278481\n",
            "\n",
            "Epoch 43\n",
            "======================================================================\n"
          ]
        },
        {
          "name": "stderr",
          "output_type": "stream",
          "text": [
            "100%|██████████| 390/390 [00:10<00:00, 38.14it/s]\n",
            "100%|██████████| 79/79 [00:01<00:00, 73.66it/s]\n"
          ]
        },
        {
          "name": "stdout",
          "output_type": "stream",
          "text": [
            "Train loss:\t 1.583260067915305\n",
            "Test loss: \t 1.6456598647033112\n",
            "Train acc: \t 0.8775240384615385\n",
            "Test acc:  \t 0.8140822784810127\n",
            "\n",
            "Epoch 44\n",
            "======================================================================\n"
          ]
        },
        {
          "name": "stderr",
          "output_type": "stream",
          "text": [
            "100%|██████████| 390/390 [00:10<00:00, 38.10it/s]\n",
            "100%|██████████| 79/79 [00:01<00:00, 72.83it/s]\n"
          ]
        },
        {
          "name": "stdout",
          "output_type": "stream",
          "text": [
            "Train loss:\t 1.5821873203302041\n",
            "Test loss: \t 1.6465725823293758\n",
            "Train acc: \t 0.8788862179487179\n",
            "Test acc:  \t 0.8139833860759493\n",
            "\n",
            "Epoch 45\n",
            "======================================================================\n"
          ]
        },
        {
          "name": "stderr",
          "output_type": "stream",
          "text": [
            "100%|██████████| 390/390 [00:10<00:00, 38.04it/s]\n",
            "100%|██████████| 79/79 [00:01<00:00, 72.76it/s]\n"
          ]
        },
        {
          "name": "stdout",
          "output_type": "stream",
          "text": [
            "Train loss:\t 1.5800915280977885\n",
            "Test loss: \t 1.641715822340567\n",
            "Train acc: \t 0.8805288461538462\n",
            "Test acc:  \t 0.8185324367088608\n",
            "\n",
            "Epoch 46\n",
            "======================================================================\n"
          ]
        },
        {
          "name": "stderr",
          "output_type": "stream",
          "text": [
            "100%|██████████| 390/390 [00:10<00:00, 38.11it/s]\n",
            "100%|██████████| 79/79 [00:01<00:00, 70.96it/s]\n"
          ]
        },
        {
          "name": "stdout",
          "output_type": "stream",
          "text": [
            "Train loss:\t 1.5756252887921456\n",
            "Test loss: \t 1.6565849117085905\n",
            "Train acc: \t 0.8849559294871795\n",
            "Test acc:  \t 0.8033030063291139\n",
            "\n",
            "Epoch 47\n",
            "======================================================================\n"
          ]
        },
        {
          "name": "stderr",
          "output_type": "stream",
          "text": [
            "100%|██████████| 390/390 [00:10<00:00, 38.02it/s]\n",
            "100%|██████████| 79/79 [00:01<00:00, 72.16it/s]\n"
          ]
        },
        {
          "name": "stdout",
          "output_type": "stream",
          "text": [
            "Train loss:\t 1.5783435017634662\n",
            "Test loss: \t 1.6415845864935765\n",
            "Train acc: \t 0.8824519230769231\n",
            "Test acc:  \t 0.8183346518987342\n",
            "\n",
            "Epoch 48\n",
            "======================================================================\n"
          ]
        },
        {
          "name": "stderr",
          "output_type": "stream",
          "text": [
            "100%|██████████| 390/390 [00:10<00:00, 38.03it/s]\n",
            "100%|██████████| 79/79 [00:01<00:00, 72.22it/s]\n"
          ]
        },
        {
          "name": "stdout",
          "output_type": "stream",
          "text": [
            "Train loss:\t 1.576670604485732\n",
            "Test loss: \t 1.64217291149912\n",
            "Train acc: \t 0.884395032051282\n",
            "Test acc:  \t 0.8191257911392406\n",
            "\n",
            "Epoch 49\n",
            "======================================================================\n"
          ]
        },
        {
          "name": "stderr",
          "output_type": "stream",
          "text": [
            "100%|██████████| 390/390 [00:10<00:00, 38.08it/s]\n",
            "100%|██████████| 79/79 [00:01<00:00, 72.86it/s]\n"
          ]
        },
        {
          "name": "stdout",
          "output_type": "stream",
          "text": [
            "Train loss:\t 1.573384854121086\n",
            "Test loss: \t 1.6400283710866035\n",
            "Train acc: \t 0.8876602564102564\n",
            "Test acc:  \t 0.8207080696202531\n"
          ]
        }
      ],
      "source": [
        "# Membuat instance dari kelas MyModel\n",
        "model = MyModel(len(CIFARSample.label_to_str), use_swish=True, loss_unit=\"crossentropy\", optimizer_name=\"Lion\")\n",
        "\n",
        "# Melatih model\n",
        "model.train(train_loader, test_loader, max_epoch=50)\n",
        "results5 = model.results"
      ]
    },
    {
      "attachments": {},
      "cell_type": "markdown",
      "metadata": {
        "id": "7qraToXeUK28"
      },
      "source": [
        "#### Plot With Swish and without swish"
      ]
    },
    {
      "cell_type": "code",
      "execution_count": null,
      "metadata": {
        "colab": {
          "base_uri": "https://localhost:8080/",
          "height": 472
        },
        "id": "PJJYa2FiUQGA",
        "outputId": "48236699-3d60-495a-cfdc-a241e1355abd"
      },
      "outputs": [
        {
          "data": {
            "image/png": "[encoded data removed]",
            "text/plain": [
              "<Figure size 640x480 with 1 Axes>"
            ]
          },
          "metadata": {},
          "output_type": "display_data"
        }
      ],
      "source": [
        "plt.plot(results6['train_acc_list'], label=\"train Lion with Swish\")\n",
        "plt.plot(results6['test_acc_list'], label=\"test Lion with Swish\")\n",
        "plt.plot(results7['train_acc_list'], label=\"train Lion without Swish\")\n",
        "plt.plot(results7['test_acc_list'], label=\"test Lion without Swish\")\n",
        "plt.grid(True)\n",
        "plt.xlim(0, 50)\n",
        "plt.xlabel(\"epoch\")\n",
        "plt.ylabel(\"(%) accuracy\")\n",
        "plt.title(\"Train Accuracy ModifiedVGGNet-19\")\n",
        "plt.legend()\n",
        "plt.show()"
      ]
    },
    {
      "cell_type": "code",
      "execution_count": null,
      "metadata": {
        "colab": {
          "base_uri": "https://localhost:8080/",
          "height": 472
        },
        "id": "88YxFjEKUwF8",
        "outputId": "7ad60742-8672-49fb-a4d5-3e476eddad89"
      },
      "outputs": [
        {
          "data": {
            "image/png": "[encoded data removed]",
            "text/plain": [
              "<Figure size 640x480 with 1 Axes>"
            ]
          },
          "metadata": {},
          "output_type": "display_data"
        }
      ],
      "source": [
        "plt.plot(results6['train_loss_list'], label=\"train Lion with Swish\")\n",
        "plt.plot(results6['test_loss_list'], label=\"test Lion with Swish\")\n",
        "plt.plot(results7['train_loss_list'], label=\"train Lion without Swish\")\n",
        "plt.plot(results7['test_loss_list'], label=\"test Lion without Swish\")\n",
        "plt.grid(True)\n",
        "plt.xlim(0, 50)\n",
        "plt.xlabel(\"epoch\")\n",
        "plt.ylabel(\"Cross Entropy Loss\")\n",
        "plt.title(\"Loss ModifiedVGGNet-19\")\n",
        "plt.legend()\n",
        "plt.show()"
      ]
    },
    {
      "attachments": {},
      "cell_type": "markdown",
      "metadata": {
        "id": "6k3Zyg-jHcHA"
      },
      "source": [
        "#### Plot train result"
      ]
    },
    {
      "cell_type": "code",
      "execution_count": null,
      "metadata": {
        "colab": {
          "base_uri": "https://localhost:8080/",
          "height": 472
        },
        "id": "6Lqe_ZrkJApr",
        "outputId": "b8fca70e-57b6-4775-ba35-b510f6268212"
      },
      "outputs": [
        {
          "data": {
            "image/png": "[encoded data removed]",
            "text/plain": [
              "<Figure size 640x480 with 1 Axes>"
            ]
          },
          "metadata": {},
          "output_type": "display_data"
        }
      ],
      "source": [
        "plt.plot(results1['train_acc_list'], label=\"train Adam lr=1e-3\")\n",
        "plt.plot(results2['train_acc_list'], label=\"train Adam lr=1e-4\")\n",
        "plt.plot(results3['train_acc_list'], label=\"train AGD gain=1.0\")\n",
        "plt.plot(results4['train_acc_list'], label=\"train AGD gain=0.85\")\n",
        "plt.plot(results5['train_acc_list'], label=\"train Lion lr=1e-5, wd=1e-3\")\n",
        "plt.plot(results6['train_acc_list'], label=\"train Lion lr=0.2e-4, wd=1e-2\")\n",
        "plt.grid(True)\n",
        "plt.xlim(0, 50)\n",
        "plt.xlabel(\"epoch\")\n",
        "plt.ylabel(\"(%) accuracy\")\n",
        "plt.title(\"Train Accuracy ModifiedVGGNet-19 with different optimizer\")\n",
        "plt.legend()\n",
        "plt.show()"
      ]
    },
    {
      "attachments": {},
      "cell_type": "markdown",
      "metadata": {
        "id": "6fyYMAs-HexD"
      },
      "source": [
        "#### Plot Testing Result"
      ]
    },
    {
      "cell_type": "code",
      "execution_count": null,
      "metadata": {
        "colab": {
          "base_uri": "https://localhost:8080/",
          "height": 472
        },
        "id": "IDvKCfSMH559",
        "outputId": "5536d440-771a-4ee3-eb0b-ffba315422fb"
      },
      "outputs": [
        {
          "data": {
            "image/png": "[encoded data removed]",
            "text/plain": [
              "<Figure size 640x480 with 1 Axes>"
            ]
          },
          "metadata": {},
          "output_type": "display_data"
        }
      ],
      "source": [
        "plt.plot(results1['test_acc_list'], label=\"test Adam lr=1e-3\")\n",
        "plt.plot(results2['test_acc_list'], label=\"test Adam lr=1e-4\")\n",
        "plt.plot(results3['test_acc_list'], label=\"test AGD gain=1.0\")\n",
        "plt.plot(results4['test_acc_list'], label=\"test AGD gain=1.0\")\n",
        "plt.plot(results5['test_acc_list'], label=\"test Lion lr=1e-5, wd=1e-3\")\n",
        "plt.plot(results6['test_acc_list'], label=\"test Lion lr=0.2e-4, wd=1e-2\")\n",
        "plt.grid(True)\n",
        "plt.xlim(0, 50)\n",
        "plt.xlabel(\"epoch\")\n",
        "plt.ylabel(\"(%) accuracy\")\n",
        "plt.title(\"Test Accuracy ModifiedVGGNet-19 with different optimizer\")\n",
        "plt.legend()\n",
        "plt.show()"
      ]
    },
    {
      "attachments": {},
      "cell_type": "markdown",
      "metadata": {
        "id": "wBs9rIkGIin_"
      },
      "source": [
        "#### Plot Train Loss"
      ]
    },
    {
      "cell_type": "code",
      "execution_count": null,
      "metadata": {
        "colab": {
          "base_uri": "https://localhost:8080/",
          "height": 472
        },
        "id": "j7FyEsAWIsjB",
        "outputId": "9051c77a-55b2-4cb5-9505-649f0b1780a5"
      },
      "outputs": [
        {
          "data": {
            "image/png": "[encoded data removed]",
            "text/plain": [
              "<Figure size 640x480 with 1 Axes>"
            ]
          },
          "metadata": {},
          "output_type": "display_data"
        }
      ],
      "source": [
        "plt.plot(results1['train_loss_list'], label=\"train Adam lr=1e-3\")\n",
        "plt.plot(results2['train_loss_list'], label=\"train Adam lr=1e-4\")\n",
        "plt.plot(results3['train_loss_list'], label=\"train AGD gain=1.0\")\n",
        "plt.plot(results4['train_loss_list'], label=\"train AGD gain=1.0\")\n",
        "plt.plot(results5['train_loss_list'], label=\"train Lion lr=1e-5, wd=1e-3\")\n",
        "plt.plot(results6['train_loss_list'], label=\"train Lion lr=0.2e-4, wd=1e-2\")\n",
        "plt.grid(True)\n",
        "plt.xlim(0, 50)\n",
        "plt.xlabel(\"epoch\")\n",
        "plt.ylabel(\"Cross Entropy Loss\")\n",
        "plt.title(\"Train Loss ModifiedVGGNet-19 with different optimizer\")\n",
        "plt.legend()\n",
        "plt.show()"
      ]
    },
    {
      "attachments": {},
      "cell_type": "markdown",
      "metadata": {
        "id": "kpc5ttD5IqWA"
      },
      "source": [
        "#### Plot Test Loss"
      ]
    },
    {
      "cell_type": "code",
      "execution_count": null,
      "metadata": {
        "colab": {
          "base_uri": "https://localhost:8080/",
          "height": 472
        },
        "id": "YfWg9tyfI770",
        "outputId": "14b16e0b-97fb-46b6-83cd-c72dbfd40d57"
      },
      "outputs": [
        {
          "data": {
            "image/png": "[encoded data removed]",
            "text/plain": [
              "<Figure size 640x480 with 1 Axes>"
            ]
          },
          "metadata": {},
          "output_type": "display_data"
        }
      ],
      "source": [
        "plt.plot(results1['test_loss_list'], label=\"test Adam lr=1e-3\")\n",
        "plt.plot(results2['test_loss_list'], label=\"test Adam lr=1e-4\")\n",
        "plt.plot(results3['test_loss_list'], label=\"test AGD gain=1.0\")\n",
        "plt.plot(results4['test_loss_list'], label=\"test AGD gain=1.0\")\n",
        "plt.plot(results5['test_loss_list'], label=\"test Lion lr=1e-5, wd=1e-3\")\n",
        "plt.plot(results6['test_loss_list'], label=\"test Lion lr=0.2e-4, wd=1e-2\")\n",
        "plt.grid(True)\n",
        "plt.xlim(0, 50)\n",
        "plt.xlabel(\"epoch\")\n",
        "plt.ylabel(\"Cross Entropy Loss\")\n",
        "plt.title(\"Test Loss ModifiedVGGNet-19 with different optimizer\")\n",
        "plt.legend()\n",
        "plt.show()"
      ]
    },
    {
      "attachments": {},
      "cell_type": "markdown",
      "metadata": {
        "id": "FEBMOhRVgOFT"
      },
      "source": [
        "#### Checking output Manual (for 1 batch)"
      ]
    },
    {
      "cell_type": "code",
      "execution_count": null,
      "metadata": {
        "colab": {
          "base_uri": "https://localhost:8080/"
        },
        "id": "hodXDSkzgRlf",
        "outputId": "d2dc459d-6a1c-4782-95d4-2c069a5dafea"
      },
      "outputs": [
        {
          "name": "stdout",
          "output_type": "stream",
          "text": [
            "torch.Size([128, 10])\n",
            "torch.Size([128])\n",
            "tensor(1.6191, device='cuda:0', grad_fn=<NllLossBackward0>)\n"
          ]
        }
      ],
      "source": [
        "import sys\n",
        "torch.set_printoptions(threshold=sys.maxsize)\n",
        "image, label = next(iter(test_loader))\n",
        "\n",
        "#load agd model\n",
        "model.load_state_dict(torch.load(\"Cifar_Lion.pth\"))\n",
        "\n",
        "output = model(image)\n",
        "print(output.shape)\n",
        "print(label.shape)\n",
        "criterion = torch.nn.functional.cross_entropy(output, label)\n",
        "print(criterion)"
      ]
    },
    {
      "cell_type": "code",
      "execution_count": null,
      "metadata": {
        "colab": {
          "base_uri": "https://localhost:8080/"
        },
        "id": "KMd28JClgaB3",
        "outputId": "9d9ad521-3498-4e7a-e7b7-c5275b7dbf0e"
      },
      "outputs": [
        {
          "name": "stdout",
          "output_type": "stream",
          "text": [
            "Predict from Model : \n",
            " tensor([3, 1, 8, 8, 6, 6, 1, 6, 3, 1, 0, 9, 5, 7, 9, 8, 5, 7, 8, 6, 7, 0, 4, 9,\n",
            "        4, 2, 4, 0, 9, 6, 6, 5, 2, 5, 9, 8, 7, 1, 9, 5, 4, 6, 5, 6, 0, 9, 3, 9,\n",
            "        7, 6, 9, 8, 7, 3, 8, 8, 7, 3, 3, 6, 7, 5, 6, 3, 6, 2, 1, 2, 3, 7, 2, 6,\n",
            "        8, 8, 9, 2, 9, 3, 3, 8, 8, 1, 1, 7, 3, 7, 7, 3, 8, 9, 0, 3, 8, 6, 4, 6,\n",
            "        6, 0, 0, 7, 4, 5, 6, 3, 1, 1, 6, 6, 8, 7, 4, 0, 6, 2, 9, 9, 0, 4, 6, 7,\n",
            "        8, 3, 1, 2, 8, 2, 8, 3], device='cuda:0')\n",
            "Ground Truth : \n",
            " tensor([3, 8, 8, 0, 6, 6, 1, 6, 3, 1, 0, 9, 5, 7, 9, 8, 5, 7, 8, 6, 7, 0, 4, 9,\n",
            "        5, 2, 4, 0, 9, 6, 6, 5, 4, 5, 9, 2, 4, 1, 9, 5, 4, 6, 5, 6, 0, 9, 3, 9,\n",
            "        7, 6, 9, 8, 0, 3, 8, 8, 7, 7, 4, 6, 7, 3, 6, 3, 6, 2, 1, 2, 3, 7, 2, 6,\n",
            "        8, 8, 0, 2, 9, 3, 3, 8, 8, 1, 1, 7, 2, 5, 2, 7, 8, 9, 0, 3, 8, 6, 4, 6,\n",
            "        6, 0, 0, 7, 4, 5, 6, 3, 1, 1, 3, 6, 8, 7, 4, 0, 6, 2, 1, 3, 0, 4, 2, 7,\n",
            "        8, 3, 1, 2, 8, 0, 8, 3], device='cuda:0')\n"
          ]
        }
      ],
      "source": [
        "print(\"Predict from Model : \\n\",torch.argmax(output, axis=1))\n",
        "print(\"Ground Truth : \\n\",label)"
      ]
    }
  ],
  "metadata": {
    "accelerator": "GPU",
    "colab": {
      "gpuType": "V100",
      "machine_shape": "hm",
      "provenance": []
    },
    "kernelspec": {
      "display_name": "Python 3",
      "name": "python3"
    },
    "language_info": {
      "codemirror_mode": {
        "name": "ipython",
        "version": 3
      },
      "file_extension": ".py",
      "mimetype": "text/x-python",
      "name": "python",
      "nbconvert_exporter": "python",
      "pygments_lexer": "ipython3",
      "version": "3.10.11"
    },
    "orig_nbformat": 4
  },
  "nbformat": 4,
  "nbformat_minor": 0
}
